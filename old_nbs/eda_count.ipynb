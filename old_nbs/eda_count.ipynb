{
 "cells": [
  {
   "cell_type": "code",
   "execution_count": 2,
   "metadata": {
    "ExecuteTime": {
     "end_time": "2019-02-12T05:50:08.456860Z",
     "start_time": "2019-02-12T05:50:08.230663Z"
    }
   },
   "outputs": [],
   "source": [
    "from pyspark import SparkContext\n",
    "from pyspark.sql import SparkSession\n",
    "from pyspark.sql.types import *\n",
    "from pyspark.sql import DataFrameReader\n",
    "from pyspark.sql.functions import explode\n",
    "import matplotlib\n",
    "%matplotlib inline"
   ]
  },
  {
   "cell_type": "code",
   "execution_count": 3,
   "metadata": {
    "ExecuteTime": {
     "end_time": "2019-02-12T05:50:31.542475Z",
     "start_time": "2019-02-12T05:50:09.019883Z"
    }
   },
   "outputs": [],
   "source": [
    "def IntegerSafe(value): # In case there are non-integer type to be converted.\n",
    "    try:\n",
    "        return int(value)\n",
    "    except ValueError:\n",
    "        return None\n",
    "\n",
    "sc = SparkContext.getOrCreate()\n",
    "ss = SparkSession.builder.getOrCreate()\n",
    "\n"
   ]
  },
  {
   "cell_type": "code",
   "execution_count": 4,
   "metadata": {
    "ExecuteTime": {
     "end_time": "2019-02-12T05:50:42.387774Z",
     "start_time": "2019-02-12T05:50:31.546908Z"
    }
   },
   "outputs": [],
   "source": [
    "events_df = ss.read.csv('events.csv',header=True)"
   ]
  },
  {
   "cell_type": "code",
   "execution_count": 5,
   "metadata": {
    "ExecuteTime": {
     "end_time": "2019-02-12T05:50:43.331336Z",
     "start_time": "2019-02-12T05:50:42.390652Z"
    }
   },
   "outputs": [],
   "source": [
    "attributes_df = ss.read.csv('attributes.csv',header=True)"
   ]
  },
  {
   "cell_type": "code",
   "execution_count": 15,
   "metadata": {
    "ExecuteTime": {
     "end_time": "2019-02-12T03:03:41.159160Z",
     "start_time": "2019-02-12T03:03:08.962372Z"
    },
    "scrolled": true
   },
   "outputs": [
    {
     "data": {
      "text/plain": [
       "185590093"
      ]
     },
     "execution_count": 15,
     "metadata": {},
     "output_type": "execute_result"
    }
   ],
   "source": [
    "attributes_df.count()"
   ]
  },
  {
   "cell_type": "code",
   "execution_count": 64,
   "metadata": {
    "ExecuteTime": {
     "end_time": "2019-02-12T04:09:39.630668Z",
     "start_time": "2019-02-12T04:09:19.426833Z"
    }
   },
   "outputs": [
    {
     "data": {
      "text/plain": [
       "111946597"
      ]
     },
     "execution_count": 64,
     "metadata": {},
     "output_type": "execute_result"
    }
   ],
   "source": [
    "events_df.count()"
   ]
  },
  {
   "cell_type": "code",
   "execution_count": 28,
   "metadata": {
    "ExecuteTime": {
     "end_time": "2019-02-12T03:07:15.714759Z",
     "start_time": "2019-02-12T03:07:15.573412Z"
    }
   },
   "outputs": [
    {
     "name": "stdout",
     "output_type": "stream",
     "text": [
      "+----------------+-------------------+-----+---------------+-----------+--------------------+\n",
      "|          app_id|         session_id|event|event_timestamp|event_value|        user_id_hash|\n",
      "+----------------+-------------------+-----+---------------+-----------+--------------------+\n",
      "|4724682771660800|5558845121177764917|   45|  1542215397132|        0.0|9943447915df3a45f...|\n",
      "|4724682771660800|5558845121177764917|   45|  1542215484895|        0.0|9943447915df3a45f...|\n",
      "+----------------+-------------------+-----+---------------+-----------+--------------------+\n",
      "only showing top 2 rows\n",
      "\n"
     ]
    }
   ],
   "source": [
    "events_df.show(2)"
   ]
  },
  {
   "cell_type": "markdown",
   "metadata": {},
   "source": [
    "## Count Distributions"
   ]
  },
  {
   "cell_type": "markdown",
   "metadata": {},
   "source": [
    "### Events"
   ]
  },
  {
   "cell_type": "code",
   "execution_count": 39,
   "metadata": {
    "ExecuteTime": {
     "end_time": "2019-02-12T03:27:21.189253Z",
     "start_time": "2019-02-12T03:26:22.963773Z"
    },
    "scrolled": true
   },
   "outputs": [
    {
     "name": "stdout",
     "output_type": "stream",
     "text": [
      "+-------------------+-----+\n",
      "|         session_id|count|\n",
      "+-------------------+-----+\n",
      "|7426702773020538130| 1224|\n",
      "|8880464780721706820| 1201|\n",
      "|7084000948037095408| 1154|\n",
      "| 143511393374754792| 1054|\n",
      "|4109318513504549774| 1041|\n",
      "|8062388864346499278| 1009|\n",
      "|5564421332310921213| 1001|\n",
      "|6493366237596949308|  989|\n",
      "|7631880841238664989|  983|\n",
      "|2740288949953856193|  976|\n",
      "|3499571212335610101|  971|\n",
      "|7078157869247215962|  950|\n",
      "|4937694171433226210|  941|\n",
      "|5479495416433961494|  929|\n",
      "|9112569384951157139|  915|\n",
      "|4480266659460139677|  895|\n",
      "|7579848554140261775|  893|\n",
      "|7582782377331146062|  887|\n",
      "|8419027869145663530|  884|\n",
      "|3910033840738918534|  876|\n",
      "+-------------------+-----+\n",
      "only showing top 20 rows\n",
      "\n"
     ]
    }
   ],
   "source": [
    "count_session = events_df.groupBy('session_id').count().orderBy('count',ascending=False)\n",
    "count_session.show()"
   ]
  },
  {
   "cell_type": "code",
   "execution_count": 46,
   "metadata": {
    "ExecuteTime": {
     "end_time": "2019-02-12T03:42:30.928201Z",
     "start_time": "2019-02-12T03:40:14.429510Z"
    },
    "scrolled": true
   },
   "outputs": [],
   "source": [
    "mvv_array = [int(row['count']) for row in count_session.selectExpr('count').collect()]\n"
   ]
  },
  {
   "cell_type": "code",
   "execution_count": 1,
   "metadata": {
    "ExecuteTime": {
     "end_time": "2019-02-12T05:50:03.527445Z",
     "start_time": "2019-02-12T05:50:03.172696Z"
    }
   },
   "outputs": [
    {
     "ename": "NameError",
     "evalue": "name 'matplotlib' is not defined",
     "output_type": "error",
     "traceback": [
      "\u001b[0;31m---------------------------------------------------------------------------\u001b[0m",
      "\u001b[0;31mNameError\u001b[0m                                 Traceback (most recent call last)",
      "\u001b[0;32m<ipython-input-1-7bf10ef5fa4b>\u001b[0m in \u001b[0;36m<module>\u001b[0;34m\u001b[0m\n\u001b[0;32m----> 1\u001b[0;31m \u001b[0mmatplotlib\u001b[0m\u001b[0;34m.\u001b[0m\u001b[0mpyplot\u001b[0m\u001b[0;34m.\u001b[0m\u001b[0mhist\u001b[0m\u001b[0;34m(\u001b[0m\u001b[0mmvv_array\u001b[0m\u001b[0;34m,\u001b[0m\u001b[0mdensity\u001b[0m\u001b[0;34m=\u001b[0m\u001b[0;32mTrue\u001b[0m\u001b[0;34m,\u001b[0m\u001b[0mbins\u001b[0m\u001b[0;34m=\u001b[0m\u001b[0mrange\u001b[0m\u001b[0;34m(\u001b[0m\u001b[0;36m0\u001b[0m\u001b[0;34m,\u001b[0m\u001b[0;36m200\u001b[0m\u001b[0;34m,\u001b[0m\u001b[0;36m5\u001b[0m\u001b[0;34m)\u001b[0m\u001b[0;34m)\u001b[0m\u001b[0;34m\u001b[0m\u001b[0;34m\u001b[0m\u001b[0m\n\u001b[0m",
      "\u001b[0;31mNameError\u001b[0m: name 'matplotlib' is not defined"
     ]
    }
   ],
   "source": [
    "matplotlib.pyplot.hist(mvv_array,density=True,bins=range(0,200,5))"
   ]
  },
  {
   "cell_type": "code",
   "execution_count": 51,
   "metadata": {
    "ExecuteTime": {
     "end_time": "2019-02-12T03:45:49.758323Z",
     "start_time": "2019-02-12T03:44:30.968475Z"
    }
   },
   "outputs": [
    {
     "name": "stdout",
     "output_type": "stream",
     "text": [
      "+------------------+--------+\n",
      "|             event|   count|\n",
      "+------------------+--------+\n",
      "|                45|75493931|\n",
      "|                 1| 5363926|\n",
      "|                 5| 4887922|\n",
      "|                 6| 4068474|\n",
      "|                14| 3491117|\n",
      "|                 4| 3435363|\n",
      "|                40| 2775997|\n",
      "|                 7| 1970903|\n",
      "|                41| 1969223|\n",
      "|                 3| 1828494|\n",
      "|                42| 1598212|\n",
      "|.a5027911885258752|  618037|\n",
      "|.a5400102822346752|  604699|\n",
      "|                44|  495590|\n",
      "|.a5516611293544448|  411053|\n",
      "|                 0|  407118|\n",
      "|                63|  347198|\n",
      "|                47|  310038|\n",
      "|                57|  271268|\n",
      "|                 8|  265034|\n",
      "+------------------+--------+\n",
      "only showing top 20 rows\n",
      "\n"
     ]
    }
   ],
   "source": [
    "event_count = events_df.groupBy('event').count().orderBy('count',ascending=False)\n",
    "event_count.show()"
   ]
  },
  {
   "cell_type": "code",
   "execution_count": 52,
   "metadata": {
    "ExecuteTime": {
     "end_time": "2019-02-12T03:47:26.406287Z",
     "start_time": "2019-02-12T03:45:49.774329Z"
    }
   },
   "outputs": [],
   "source": [
    "mvv_array = [int(row['count']) for row in event_count.selectExpr('count').collect()]\n"
   ]
  },
  {
   "cell_type": "code",
   "execution_count": 53,
   "metadata": {
    "ExecuteTime": {
     "end_time": "2019-02-12T03:47:26.671134Z",
     "start_time": "2019-02-12T03:47:26.408241Z"
    }
   },
   "outputs": [
    {
     "data": {
      "text/plain": [
       "(array([0.01518519, 0.00333333, 0.        , 0.        , 0.        ,\n",
       "        0.        , 0.00037037, 0.        , 0.        , 0.00074074,\n",
       "        0.        , 0.        , 0.        , 0.        , 0.        ,\n",
       "        0.        , 0.        , 0.        , 0.        , 0.        ,\n",
       "        0.        , 0.00037037, 0.        , 0.        , 0.        ]),\n",
       " array([   0,   50,  100,  150,  200,  250,  300,  350,  400,  450,  500,\n",
       "         550,  600,  650,  700,  750,  800,  850,  900,  950, 1000, 1050,\n",
       "        1100, 1150, 1200, 1250]),\n",
       " <a list of 25 Patch objects>)"
      ]
     },
     "execution_count": 53,
     "metadata": {},
     "output_type": "execute_result"
    },
    {
     "data": {
      "image/png": "[encoded data removed]",
      "text/plain": [
       "<Figure size 432x288 with 1 Axes>"
      ]
     },
     "metadata": {
      "needs_background": "light"
     },
     "output_type": "display_data"
    }
   ],
   "source": [
    "matplotlib.pyplot.hist(mvv_array,density=True,bins=range(0,1300,50))"
   ]
  },
  {
   "cell_type": "code",
   "execution_count": 54,
   "metadata": {
    "ExecuteTime": {
     "end_time": "2019-02-12T03:54:11.553443Z",
     "start_time": "2019-02-12T03:50:03.884905Z"
    }
   },
   "outputs": [
    {
     "name": "stdout",
     "output_type": "stream",
     "text": [
      "+---------------+-----+\n",
      "|event_timestamp|count|\n",
      "+---------------+-----+\n",
      "|  1542052901883|   70|\n",
      "|  1543586871549|   55|\n",
      "|  1540691484428|   55|\n",
      "|  1538681993290|   48|\n",
      "|  1540029050168|   45|\n",
      "|  1541910905267|   36|\n",
      "|  1543322424942|   33|\n",
      "|  1541796138036|   32|\n",
      "|  1540690091455|   31|\n",
      "|  1544406229187|   30|\n",
      "|  1543371133492|   29|\n",
      "|  1538753789374|   27|\n",
      "|  1539496172730|   27|\n",
      "|  1544596294319|   27|\n",
      "|  1539716502514|   27|\n",
      "|  1541112838898|   27|\n",
      "|  1542823483768|   26|\n",
      "|  1541318991162|   24|\n",
      "|  1541021479880|   24|\n",
      "|  1544527117129|   23|\n",
      "+---------------+-----+\n",
      "only showing top 20 rows\n",
      "\n"
     ]
    }
   ],
   "source": [
    "event_count = events_df.groupBy('event_timestamp').count().orderBy('count',ascending=False)\n",
    "event_count.show()"
   ]
  },
  {
   "cell_type": "code",
   "execution_count": 55,
   "metadata": {
    "ExecuteTime": {
     "end_time": "2019-02-12T03:57:42.067149Z",
     "start_time": "2019-02-12T03:54:11.569154Z"
    }
   },
   "outputs": [],
   "source": [
    "timestamp_array = [int(row['count']) for row in count_session.selectExpr('count').collect()]\n"
   ]
  },
  {
   "cell_type": "code",
   "execution_count": 59,
   "metadata": {
    "ExecuteTime": {
     "end_time": "2019-02-12T04:00:23.906042Z",
     "start_time": "2019-02-12T04:00:22.971040Z"
    }
   },
   "outputs": [
    {
     "data": {
      "text/plain": [
       "(array([4.06512985e-02, 1.69785852e-02, 1.44032094e-02, 9.49286162e-03,\n",
       "        6.74532602e-03, 4.27164568e-03, 2.70980247e-03, 1.80268697e-03,\n",
       "        1.06172927e-03, 5.79101411e-04, 3.88295049e-04, 2.56529221e-04,\n",
       "        1.82523482e-04, 1.34726858e-04, 1.01855425e-04, 8.00278337e-05,\n",
       "        6.31619677e-05, 5.08776953e-05, 4.57559139e-05]),\n",
       " array([  0,  10,  20,  30,  40,  50,  60,  70,  80,  90, 100, 110, 120,\n",
       "        130, 140, 150, 160, 170, 180, 190]),\n",
       " <a list of 19 Patch objects>)"
      ]
     },
     "execution_count": 59,
     "metadata": {},
     "output_type": "execute_result"
    },
    {
     "data": {
      "image/png": "[encoded data removed]",
      "text/plain": [
       "<Figure size 432x288 with 1 Axes>"
      ]
     },
     "metadata": {
      "needs_background": "light"
     },
     "output_type": "display_data"
    }
   ],
   "source": [
    "matplotlib.pyplot.hist(timestamp_array,density=True,bins=range(0,200,10))"
   ]
  },
  {
   "cell_type": "markdown",
   "metadata": {},
   "source": [
    "### Attributes"
   ]
  },
  {
   "cell_type": "code",
   "execution_count": 27,
   "metadata": {
    "ExecuteTime": {
     "end_time": "2019-02-12T03:07:07.442140Z",
     "start_time": "2019-02-12T03:07:07.301803Z"
    }
   },
   "outputs": [
    {
     "name": "stdout",
     "output_type": "stream",
     "text": [
      "+----------------+-------------------+---------+---------------+--------------------+\n",
      "|          app_id|         session_id|attribute|attribute_value|        user_id_hash|\n",
      "+----------------+-------------------+---------+---------------+--------------------+\n",
      "|4724682771660800|2201961907282901522|        0|              1|9943447915df3a45f...|\n",
      "|4724682771660800|2201961907282901522|        1|              1|9943447915df3a45f...|\n",
      "+----------------+-------------------+---------+---------------+--------------------+\n",
      "only showing top 2 rows\n",
      "\n"
     ]
    }
   ],
   "source": [
    "attributes_df.show(2)"
   ]
  },
  {
   "cell_type": "code",
   "execution_count": 61,
   "metadata": {
    "ExecuteTime": {
     "end_time": "2019-02-12T04:07:23.727937Z",
     "start_time": "2019-02-12T04:05:34.793888Z"
    }
   },
   "outputs": [
    {
     "name": "stdout",
     "output_type": "stream",
     "text": [
      "+---------+-------+\n",
      "|attribute|  count|\n",
      "+---------+-------+\n",
      "|       14|6776351|\n",
      "|        4|6776351|\n",
      "|       13|6776351|\n",
      "|       20|6776351|\n",
      "|        5|6776351|\n",
      "|        7|6776351|\n",
      "|        3|6776351|\n",
      "|       11|6776351|\n",
      "|       10|6776351|\n",
      "|        0|6776351|\n",
      "|       15|6776351|\n",
      "|       18|6776351|\n",
      "|       19|6776351|\n",
      "|       16|6776351|\n",
      "|       17|6776351|\n",
      "|        6|6776351|\n",
      "|       52|6776351|\n",
      "|        8|6776351|\n",
      "|        1|6776351|\n",
      "|        9|6776351|\n",
      "+---------+-------+\n",
      "only showing top 20 rows\n",
      "\n"
     ]
    }
   ],
   "source": [
    "attribute_count = attributes_df.groupBy('attribute').count().orderBy('count',ascending=False)\n",
    "attribute_count.show()"
   ]
  },
  {
   "cell_type": "code",
   "execution_count": 62,
   "metadata": {
    "ExecuteTime": {
     "end_time": "2019-02-12T04:09:18.680256Z",
     "start_time": "2019-02-12T04:07:23.730704Z"
    }
   },
   "outputs": [],
   "source": [
    "attribute_array = [int(row['count']) for row in attribute_count.selectExpr('count').collect()]\n"
   ]
  },
  {
   "cell_type": "code",
   "execution_count": 63,
   "metadata": {
    "ExecuteTime": {
     "end_time": "2019-02-12T04:09:19.424093Z",
     "start_time": "2019-02-12T04:09:18.681490Z"
    }
   },
   "outputs": [
    {
     "data": {
      "text/plain": [
       "(array([4.06512985e-02, 1.69785852e-02, 1.44032094e-02, 9.49286162e-03,\n",
       "        6.74532602e-03, 4.27164568e-03, 2.70980247e-03, 1.80268697e-03,\n",
       "        1.06172927e-03, 5.79101411e-04, 3.88295049e-04, 2.56529221e-04,\n",
       "        1.82523482e-04, 1.34726858e-04, 1.01855425e-04, 8.00278337e-05,\n",
       "        6.31619677e-05, 5.08776953e-05, 4.57559139e-05]),\n",
       " array([  0,  10,  20,  30,  40,  50,  60,  70,  80,  90, 100, 110, 120,\n",
       "        130, 140, 150, 160, 170, 180, 190]),\n",
       " <a list of 19 Patch objects>)"
      ]
     },
     "execution_count": 63,
     "metadata": {},
     "output_type": "execute_result"
    },
    {
     "data": {
      "image/png": "[encoded data removed]",
      "text/plain": [
       "<Figure size 432x288 with 1 Axes>"
      ]
     },
     "metadata": {
      "needs_background": "light"
     },
     "output_type": "display_data"
    }
   ],
   "source": [
    "matplotlib.pyplot.hist(timestamp_array,density=True,bins=range(0,200,10))"
   ]
  },
  {
   "cell_type": "code",
   "execution_count": 65,
   "metadata": {
    "ExecuteTime": {
     "end_time": "2019-02-12T04:14:03.124941Z",
     "start_time": "2019-02-12T04:12:35.452201Z"
    },
    "scrolled": true
   },
   "outputs": [
    {
     "name": "stdout",
     "output_type": "stream",
     "text": [
      "+---------+-------+\n",
      "|attribute|  count|\n",
      "+---------+-------+\n",
      "|       14|6776351|\n",
      "|        4|6776351|\n",
      "|       13|6776351|\n",
      "|       10|6776351|\n",
      "|        9|6776351|\n",
      "|       15|6776351|\n",
      "|       11|6776351|\n",
      "|       16|6776351|\n",
      "|        1|6776351|\n",
      "|       20|6776351|\n",
      "|        8|6776351|\n",
      "|       18|6776351|\n",
      "|        7|6776351|\n",
      "|       17|6776351|\n",
      "|        5|6776351|\n",
      "|       19|6776351|\n",
      "|        6|6776351|\n",
      "|       52|6776351|\n",
      "|        3|6776351|\n",
      "|        0|6776351|\n",
      "+---------+-------+\n",
      "only showing top 20 rows\n",
      "\n"
     ]
    }
   ],
   "source": [
    "attribute_value_count = attributes_df.groupBy('attribute_value').count().orderBy('count',ascending=False)\n"
   ]
  },
  {
   "cell_type": "code",
   "execution_count": null,
   "metadata": {},
   "outputs": [],
   "source": [
    "attribute_value_count.show()"
   ]
  },
  {
   "cell_type": "code",
   "execution_count": 66,
   "metadata": {
    "ExecuteTime": {
     "end_time": "2019-02-12T04:16:44.977844Z",
     "start_time": "2019-02-12T04:14:44.907306Z"
    }
   },
   "outputs": [],
   "source": [
    "attribute_value_array = [int(row['count']) for row in attribute_value_count.selectExpr('count').collect()]\n"
   ]
  },
  {
   "cell_type": "code",
   "execution_count": 69,
   "metadata": {
    "ExecuteTime": {
     "end_time": "2019-02-12T04:21:00.399945Z",
     "start_time": "2019-02-12T04:20:59.970490Z"
    }
   },
   "outputs": [
    {
     "data": {
      "text/plain": [
       "(array([0.00000000e+00, 5.01153489e-01, 2.59540064e-01, 1.09321034e-01,\n",
       "        4.96243695e-02, 2.47618647e-02, 1.37600322e-02, 8.49578584e-03,\n",
       "        5.83435540e-03, 4.16328896e-03, 3.29457772e-03, 2.71672714e-03,\n",
       "        2.24670515e-03, 1.91160711e-03, 1.63567655e-03, 1.46812753e-03,\n",
       "        1.33652137e-03, 1.18832620e-03, 1.03626026e-03, 9.56080039e-04,\n",
       "        8.52675199e-04, 7.49270360e-04, 6.88996951e-04, 5.97757387e-04,\n",
       "        5.40248813e-04, 5.08176724e-04, 4.45691447e-04, 4.21360896e-04,\n",
       "        7.50929261e-04]),\n",
       " array([ 0,  1,  2,  3,  4,  5,  6,  7,  8,  9, 10, 11, 12, 13, 14, 15, 16,\n",
       "        17, 18, 19, 20, 21, 22, 23, 24, 25, 26, 27, 28, 29]),\n",
       " <a list of 29 Patch objects>)"
      ]
     },
     "execution_count": 69,
     "metadata": {},
     "output_type": "execute_result"
    },
    {
     "data": {
      "image/png": "[encoded data removed]",
      "text/plain": [
       "<Figure size 432x288 with 1 Axes>"
      ]
     },
     "metadata": {
      "needs_background": "light"
     },
     "output_type": "display_data"
    }
   ],
   "source": [
    "matplotlib.pyplot.hist(attribute_value_array,density=True,bins=range(0,30,1))"
   ]
  },
  {
   "cell_type": "code",
   "execution_count": null,
   "metadata": {},
   "outputs": [],
   "source": []
  }
 ],
 "metadata": {
  "kernelspec": {
   "display_name": "Python 3",
   "language": "python",
   "name": "python3"
  },
  "language_info": {
   "codemirror_mode": {
    "name": "ipython",
    "version": 3
   },
   "file_extension": ".py",
   "mimetype": "text/x-python",
   "name": "python",
   "nbconvert_exporter": "python",
   "pygments_lexer": "ipython3",
   "version": "3.7.1"
  }
 },
 "nbformat": 4,
 "nbformat_minor": 2
}
