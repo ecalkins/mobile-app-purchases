{
 "cells": [
  {
   "cell_type": "code",
   "execution_count": null,
   "metadata": {},
   "outputs": [],
   "source": [
    "import psycopg2\n",
    "import psycopg2.extras"
   ]
  },
  {
   "cell_type": "code",
   "execution_count": null,
   "metadata": {},
   "outputs": [],
   "source": [
    "DB_INFO = ['DB username','DB password','Endpoint','DB instance id']"
   ]
  },
  {
   "cell_type": "code",
   "execution_count": null,
   "metadata": {},
   "outputs": [],
   "source": [
    "def connect():\n",
    "    '''\n",
    "    A helper function to connect to the postgres database\n",
    "    Returns a cursor object\n",
    "    '''\n",
    "    #get credentials to log into database\n",
    "    user,secret,host,dbname= DB_INFO\n",
    "    conn_string = \"host=\"+host+\" dbname=\"+dbname+\" user=\"+user+\" password=\"+secret\n",
    "    #connect\n",
    "    try:\n",
    "        conn=psycopg2.connect(conn_string)\n",
    "        conn.set_session(readonly=True, autocommit=True)\n",
    "        cursor = conn.cursor()\n",
    "        return cursor\n",
    "    except:\n",
    "        print(\"I am unable to connect to the database.\")"
   ]
  },
  {
   "cell_type": "code",
   "execution_count": null,
   "metadata": {},
   "outputs": [],
   "source": [
    "cursor = connect()"
   ]
  },
  {
   "cell_type": "code",
   "execution_count": null,
   "metadata": {},
   "outputs": [],
   "source": [
    "query = 'SELECT * FROM pg_catalog.pg_tables;'"
   ]
  },
  {
   "cell_type": "code",
   "execution_count": null,
   "metadata": {},
   "outputs": [],
   "source": [
    "cursor.execute(query)\n",
    "records = cursor.fetchall()\n",
    "for x in records:\n",
    "    print(x)"
   ]
  },
  {
   "cell_type": "code",
   "execution_count": null,
   "metadata": {},
   "outputs": [],
   "source": []
  }
 ],
 "metadata": {
  "kernelspec": {
   "display_name": "Python 3",
   "language": "python",
   "name": "python3"
  },
  "language_info": {
   "codemirror_mode": {
    "name": "ipython",
    "version": 3
   },
   "file_extension": ".py",
   "mimetype": "text/x-python",
   "name": "python",
   "nbconvert_exporter": "python",
   "pygments_lexer": "ipython3",
   "version": "3.7.0"
  }
 },
 "nbformat": 4,
 "nbformat_minor": 2
}
