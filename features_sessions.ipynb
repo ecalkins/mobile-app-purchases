{
 "cells": [
  {
   "cell_type": "markdown",
   "metadata": {
    "ExecuteTime": {
     "end_time": "2019-02-17T04:26:48.873482Z",
     "start_time": "2019-02-17T04:26:48.870568Z"
    }
   },
   "source": [
    "# Feature Engineering - Sessions dataset"
   ]
  },
  {
   "cell_type": "code",
   "execution_count": 1,
   "metadata": {
    "ExecuteTime": {
     "end_time": "2019-02-22T05:07:57.803882Z",
     "start_time": "2019-02-22T05:07:57.218459Z"
    }
   },
   "outputs": [],
   "source": [
    "import pandas as pd\n",
    "from pyspark.sql import SparkSession\n",
    "from pyspark.sql.types import *\n",
    "from pyspark.sql import Row\n",
    "from pyspark.sql.functions import *\n",
    "from pyspark.sql import functions as f\n",
    "from pyspark.sql.functions import UserDefinedFunction\n",
    "from pyspark.sql.types import IntegerType\n",
    "from pyspark.sql import SQLContext\n",
    "from pyspark.sql import Window\n",
    "from datetime import datetime"
   ]
  },
  {
   "cell_type": "code",
   "execution_count": 3,
   "metadata": {
    "ExecuteTime": {
     "end_time": "2019-02-22T05:08:24.591076Z",
     "start_time": "2019-02-22T05:08:24.119162Z"
    }
   },
   "outputs": [],
   "source": [
    "# load data and drop irrelevant columns\n",
    "df = pd.read_csv(\"/Users/Reagan/Dropbox/zleanplum_data/sessions.csv\")\n",
    "df.drop(['app_id',\"device_id\",\"latitude\",\"longitude\",\n",
    "         'is_wau','is_mau','country','city','timezone',\n",
    "         'timezone_offset','os_name','locale','session_id'], axis=1, inplace=True)"
   ]
  },
  {
   "cell_type": "code",
   "execution_count": 284,
   "metadata": {
    "ExecuteTime": {
     "end_time": "2019-02-17T20:20:33.843889Z",
     "start_time": "2019-02-17T20:20:33.840965Z"
    }
   },
   "outputs": [],
   "source": [
    "# timestamps\n",
    "# create (weekofday, month, day) for start_timestamp; create (how many days is sign-up day from dec1) "
   ]
  },
  {
   "cell_type": "code",
   "execution_count": 8,
   "metadata": {
    "ExecuteTime": {
     "end_time": "2019-02-22T05:11:34.511934Z",
     "start_time": "2019-02-22T05:09:43.908720Z"
    }
   },
   "outputs": [],
   "source": [
    "df['start_timestamp'] = df['start_timestamp'].apply(lambda x:datetime.fromtimestamp(x/1000))\n",
    "df['user_created_timestamp'] = df['user_created_timestamp'].apply(lambda x:datetime.fromtimestamp(x/1000))\n",
    "\n",
    "df['st_weekday']=df['start_timestamp'].dt.weekday\n",
    "df['st_month']=df['start_timestamp'].dt.month\n",
    "df['st_day']=df['start_timestamp'].dt.day\n",
    "\n",
    "dec1 = datetime(2018, 12, 1, 00, 00, 00,0)  # here is dec 15th\n",
    "df['cr_from_now'] = df['user_created_timestamp'].apply(lambda x: pd.Timedelta(dec1 - x).days)"
   ]
  },
  {
   "cell_type": "code",
   "execution_count": 9,
   "metadata": {
    "ExecuteTime": {
     "end_time": "2019-02-22T05:11:40.320057Z",
     "start_time": "2019-02-22T05:11:39.165941Z"
    }
   },
   "outputs": [],
   "source": [
    "df.drop(['start_timestamp','user_created_timestamp'],axis=1, inplace=True)"
   ]
  },
  {
   "cell_type": "code",
   "execution_count": 8,
   "metadata": {
    "ExecuteTime": {
     "end_time": "2019-02-19T00:30:45.052465Z",
     "start_time": "2019-02-19T00:30:44.393825Z"
    }
   },
   "outputs": [],
   "source": [
    "# #delete those offline session. \n",
    "# df = df[df['is_session']==True]\n",
    "# df.drop('is_session',axis=1, inplace=True)"
   ]
  },
  {
   "cell_type": "code",
   "execution_count": 10,
   "metadata": {
    "ExecuteTime": {
     "end_time": "2019-02-22T05:11:42.524221Z",
     "start_time": "2019-02-22T05:11:42.499022Z"
    }
   },
   "outputs": [
    {
     "data": {
      "text/html": [
       "<div>\n",
       "<style scoped>\n",
       "    .dataframe tbody tr th:only-of-type {\n",
       "        vertical-align: middle;\n",
       "    }\n",
       "\n",
       "    .dataframe tbody tr th {\n",
       "        vertical-align: top;\n",
       "    }\n",
       "\n",
       "    .dataframe thead th {\n",
       "        text-align: right;\n",
       "    }\n",
       "</style>\n",
       "<table border=\"1\" class=\"dataframe\">\n",
       "  <thead>\n",
       "    <tr style=\"text-align: right;\">\n",
       "      <th></th>\n",
       "      <th>previous_sessions_duration</th>\n",
       "      <th>is_user_first_session</th>\n",
       "      <th>is_session</th>\n",
       "      <th>is_developer</th>\n",
       "      <th>region</th>\n",
       "      <th>session_index</th>\n",
       "      <th>user_id_hash</th>\n",
       "      <th>st_weekday</th>\n",
       "      <th>st_month</th>\n",
       "      <th>st_day</th>\n",
       "      <th>cr_from_now</th>\n",
       "    </tr>\n",
       "  </thead>\n",
       "  <tbody>\n",
       "    <tr>\n",
       "      <th>0</th>\n",
       "      <td>25837591</td>\n",
       "      <td>False</td>\n",
       "      <td>True</td>\n",
       "      <td>False</td>\n",
       "      <td>00</td>\n",
       "      <td>30</td>\n",
       "      <td>9943447915df3a45fd6720a026af905b6da6b56a37701b...</td>\n",
       "      <td>2</td>\n",
       "      <td>11</td>\n",
       "      <td>14</td>\n",
       "      <td>55</td>\n",
       "    </tr>\n",
       "    <tr>\n",
       "      <th>1</th>\n",
       "      <td>35050130</td>\n",
       "      <td>False</td>\n",
       "      <td>True</td>\n",
       "      <td>False</td>\n",
       "      <td>00</td>\n",
       "      <td>47</td>\n",
       "      <td>9943447915df3a45fd6720a026af905b6da6b56a37701b...</td>\n",
       "      <td>5</td>\n",
       "      <td>12</td>\n",
       "      <td>1</td>\n",
       "      <td>55</td>\n",
       "    </tr>\n",
       "    <tr>\n",
       "      <th>2</th>\n",
       "      <td>11343848</td>\n",
       "      <td>False</td>\n",
       "      <td>True</td>\n",
       "      <td>False</td>\n",
       "      <td>00</td>\n",
       "      <td>10</td>\n",
       "      <td>9943447915df3a45fd6720a026af905b6da6b56a37701b...</td>\n",
       "      <td>2</td>\n",
       "      <td>10</td>\n",
       "      <td>10</td>\n",
       "      <td>55</td>\n",
       "    </tr>\n",
       "    <tr>\n",
       "      <th>3</th>\n",
       "      <td>13499724</td>\n",
       "      <td>False</td>\n",
       "      <td>True</td>\n",
       "      <td>False</td>\n",
       "      <td>11</td>\n",
       "      <td>13</td>\n",
       "      <td>9943447915df3a45fd6720a026af905b6da6b56a37701b...</td>\n",
       "      <td>6</td>\n",
       "      <td>10</td>\n",
       "      <td>21</td>\n",
       "      <td>55</td>\n",
       "    </tr>\n",
       "    <tr>\n",
       "      <th>4</th>\n",
       "      <td>32788010</td>\n",
       "      <td>False</td>\n",
       "      <td>True</td>\n",
       "      <td>False</td>\n",
       "      <td>00</td>\n",
       "      <td>41</td>\n",
       "      <td>9943447915df3a45fd6720a026af905b6da6b56a37701b...</td>\n",
       "      <td>0</td>\n",
       "      <td>11</td>\n",
       "      <td>19</td>\n",
       "      <td>55</td>\n",
       "    </tr>\n",
       "  </tbody>\n",
       "</table>\n",
       "</div>"
      ],
      "text/plain": [
       "   previous_sessions_duration  is_user_first_session  is_session  \\\n",
       "0                    25837591                  False        True   \n",
       "1                    35050130                  False        True   \n",
       "2                    11343848                  False        True   \n",
       "3                    13499724                  False        True   \n",
       "4                    32788010                  False        True   \n",
       "\n",
       "   is_developer region  session_index  \\\n",
       "0         False     00             30   \n",
       "1         False     00             47   \n",
       "2         False     00             10   \n",
       "3         False     11             13   \n",
       "4         False     00             41   \n",
       "\n",
       "                                        user_id_hash  st_weekday  st_month  \\\n",
       "0  9943447915df3a45fd6720a026af905b6da6b56a37701b...           2        11   \n",
       "1  9943447915df3a45fd6720a026af905b6da6b56a37701b...           5        12   \n",
       "2  9943447915df3a45fd6720a026af905b6da6b56a37701b...           2        10   \n",
       "3  9943447915df3a45fd6720a026af905b6da6b56a37701b...           6        10   \n",
       "4  9943447915df3a45fd6720a026af905b6da6b56a37701b...           0        11   \n",
       "\n",
       "   st_day  cr_from_now  \n",
       "0      14           55  \n",
       "1       1           55  \n",
       "2      10           55  \n",
       "3      21           55  \n",
       "4      19           55  "
      ]
     },
     "execution_count": 10,
     "metadata": {},
     "output_type": "execute_result"
    }
   ],
   "source": [
    "df.head()"
   ]
  },
  {
   "cell_type": "code",
   "execution_count": 11,
   "metadata": {
    "ExecuteTime": {
     "end_time": "2019-02-22T05:12:43.094233Z",
     "start_time": "2019-02-22T05:11:45.733037Z"
    }
   },
   "outputs": [],
   "source": [
    "df.to_csv('session_step1_training5.csv', encoding='utf-8', index=False)"
   ]
  },
  {
   "cell_type": "code",
   "execution_count": 2,
   "metadata": {
    "ExecuteTime": {
     "end_time": "2019-02-22T05:13:44.137184Z",
     "start_time": "2019-02-22T05:13:44.128566Z"
    }
   },
   "outputs": [],
   "source": [
    "# convert to spark dataframe\n",
    "ss = SparkSession.builder.getOrCreate()\n",
    "myschema= StructType([ StructField(\"previous_sessions_duration\", IntegerType(), True)\\\n",
    "                       ,StructField(\"is_user_first_session\", StringType(), True)\\\n",
    "                       ,StructField(\"is_developer\", StringType(), True)\\\n",
    "                       ,StructField(\"is_session\", StringType(), True)\\\n",
    "                       ,StructField(\"region\", StringType(), True)\\\n",
    "                       ,StructField(\"session_index\", IntegerType(), True)\\\n",
    "                       ,StructField(\"user_id_hash\", StringType(), True)\\\n",
    "                       ,StructField(\"st_weekday\", IntegerType(), True)\\\n",
    "                       ,StructField(\"st_month\", IntegerType(), True)\\\n",
    "                       ,StructField(\"st_day\", IntegerType(), True)\\\n",
    "                       ,StructField(\"cr_from_now\", IntegerType(), True)])"
   ]
  },
  {
   "cell_type": "code",
   "execution_count": 4,
   "metadata": {
    "ExecuteTime": {
     "end_time": "2019-02-22T05:13:56.658263Z",
     "start_time": "2019-02-22T05:13:54.798170Z"
    }
   },
   "outputs": [],
   "source": [
    "path = '/Users/Reagan/Dropbox/SF_DS/COURSE/5.630_advanced_ml/final project/session_step1_training5.csv'\n",
    "spark_df = ss.read.csv(path,schema=myschema,header = True)"
   ]
  },
  {
   "cell_type": "code",
   "execution_count": 7,
   "metadata": {
    "ExecuteTime": {
     "end_time": "2019-02-22T05:14:54.901547Z",
     "start_time": "2019-02-22T05:14:10.724252Z"
    }
   },
   "outputs": [],
   "source": [
    "# convert user_id_hash to integers to save memory\n",
    "userid = pd.read_csv('/Users/Reagan/Downloads/user_dict.csv', header=None)\n",
    "userid_dict = {row[1][0]:row[1][1] for row in userid.iterrows()}\n",
    "fn = UserDefinedFunction(lambda x: userid_dict[x], IntegerType())\n",
    "spark_df = spark_df.withColumn('id_', fn(spark_df.user_id_hash)).drop('user_id_hash')"
   ]
  },
  {
   "cell_type": "code",
   "execution_count": 8,
   "metadata": {
    "ExecuteTime": {
     "end_time": "2019-02-22T05:16:23.855529Z",
     "start_time": "2019-02-22T05:16:07.073581Z"
    }
   },
   "outputs": [
    {
     "data": {
      "text/plain": [
       "621106"
      ]
     },
     "execution_count": 8,
     "metadata": {},
     "output_type": "execute_result"
    }
   ],
   "source": [
    "spark_df.select('id_').distinct().count()"
   ]
  },
  {
   "cell_type": "code",
   "execution_count": 295,
   "metadata": {
    "ExecuteTime": {
     "end_time": "2019-02-17T20:26:21.208109Z",
     "start_time": "2019-02-17T20:26:21.203773Z"
    }
   },
   "outputs": [],
   "source": [
    "# convert T/F to 1/0 for \"is_user_first_session\" and \"is_developer\""
   ]
  },
  {
   "cell_type": "code",
   "execution_count": 9,
   "metadata": {
    "ExecuteTime": {
     "end_time": "2019-02-22T05:16:26.452413Z",
     "start_time": "2019-02-22T05:16:26.391285Z"
    }
   },
   "outputs": [],
   "source": [
    "TF_dict ={\"True\":1, \"False\":0}\n",
    "fn3 = UserDefinedFunction(lambda x: TF_dict[x], IntegerType())\n",
    "spark_df = spark_df.withColumn('is_user_first_session2', fn3(spark_df.is_user_first_session)).drop('is_user_first_session')\n",
    "spark_df = spark_df.withColumn('is_developer2', fn3(spark_df.is_developer)).drop('is_developer')\n",
    "spark_df = spark_df.withColumn('is_session2', fn3(spark_df.is_session)).drop('is_session')"
   ]
  },
  {
   "cell_type": "code",
   "execution_count": 11,
   "metadata": {
    "ExecuteTime": {
     "end_time": "2019-02-22T05:16:46.293054Z",
     "start_time": "2019-02-22T05:16:32.459144Z"
    }
   },
   "outputs": [
    {
     "data": {
      "text/plain": [
       "621106"
      ]
     },
     "execution_count": 11,
     "metadata": {},
     "output_type": "execute_result"
    }
   ],
   "source": [
    "# feature 1 \n",
    "cr = spark_df.groupBy('id_').agg(avg(\"cr_from_now\").alias(\"cr_from_now\")).cache()  #becuz of an annoying user\n",
    "cr.count()"
   ]
  },
  {
   "cell_type": "code",
   "execution_count": 12,
   "metadata": {
    "ExecuteTime": {
     "end_time": "2019-02-22T05:17:04.461686Z",
     "start_time": "2019-02-22T05:16:47.932304Z"
    }
   },
   "outputs": [
    {
     "data": {
      "text/plain": [
       "621106"
      ]
     },
     "execution_count": 12,
     "metadata": {},
     "output_type": "execute_result"
    }
   ],
   "source": [
    "developer = spark_df.groupBy('id_').agg(max(\"is_developer2\").alias(\"is_developer3\")).cache()  #becuz of an annoying user\n",
    "developer.count()"
   ]
  },
  {
   "cell_type": "code",
   "execution_count": 27,
   "metadata": {
    "ExecuteTime": {
     "end_time": "2019-02-22T05:24:28.290191Z",
     "start_time": "2019-02-22T05:24:17.509199Z"
    },
    "scrolled": true
   },
   "outputs": [
    {
     "name": "stdout",
     "output_type": "stream",
     "text": [
      "+---+------+\n",
      "|id_|region|\n",
      "+---+------+\n",
      "|148|    is|\n",
      "|463|    il|\n",
      "|471|    fy|\n",
      "+---+------+\n",
      "only showing top 3 rows\n",
      "\n"
     ]
    },
    {
     "data": {
      "text/plain": [
       "621106"
      ]
     },
     "execution_count": 27,
     "metadata": {},
     "output_type": "execute_result"
    }
   ],
   "source": [
    "# region\n",
    "cnts = spark_df.groupBy(['id_','region']).agg(count(\"id_\").alias('count')).cache()\n",
    "w = Window.partitionBy('id_')\n",
    "region = cnts.withColumn('max_count', f.max('count').over(w)).where(f.col('count') == f.col('max_count')).cache() # we have some id that its region has multiple mode.\n",
    "region = region.dropDuplicates(subset = ['id_']).select('id_','region')   # just keep the first one if there are duplicates\n",
    "region.show(3)\n",
    "region.count()"
   ]
  },
  {
   "cell_type": "code",
   "execution_count": 301,
   "metadata": {
    "ExecuteTime": {
     "end_time": "2019-02-17T20:28:12.569611Z",
     "start_time": "2019-02-17T20:28:12.567068Z"
    }
   },
   "outputs": [],
   "source": [
    "# #get the training data（we only need before 12.1） OR not doing so for submitting final results\n",
    "# spark_df = spark_df.filter(spark_df.st_month != 12)\n",
    "# spark_df.count()"
   ]
  },
  {
   "cell_type": "markdown",
   "metadata": {},
   "source": [
    "### cautious! numbers associated with time ! "
   ]
  },
  {
   "cell_type": "code",
   "execution_count": 28,
   "metadata": {
    "ExecuteTime": {
     "end_time": "2019-02-22T05:24:56.389107Z",
     "start_time": "2019-02-22T05:24:45.836324Z"
    }
   },
   "outputs": [
    {
     "name": "stdout",
     "output_type": "stream",
     "text": [
      "230672\n",
      "230672\n"
     ]
    }
   ],
   "source": [
    "# feature 3\n",
    "last2week_ss_duration = spark_df.filter(spark_df.st_month==11).filter(spark_df.st_day > 15).groupBy('id_').agg(sum(\"previous_sessions_duration\").alias(\"last2week_ss_duration\")).cache()\n",
    "print(last2week_ss_duration.count())\n",
    "print(last2week_ss_duration.select(last2week_ss_duration.id_).distinct().count())"
   ]
  },
  {
   "cell_type": "code",
   "execution_count": 29,
   "metadata": {
    "ExecuteTime": {
     "end_time": "2019-02-22T05:25:10.324718Z",
     "start_time": "2019-02-22T05:24:56.392378Z"
    }
   },
   "outputs": [
    {
     "data": {
      "text/plain": [
       "621106"
      ]
     },
     "execution_count": 29,
     "metadata": {},
     "output_type": "execute_result"
    }
   ],
   "source": [
    "# feature 4\n",
    "total = spark_df.groupBy('id_').agg(count(\"id_\").alias(\"total_count\")).cache()\n",
    "total.count()"
   ]
  },
  {
   "cell_type": "code",
   "execution_count": 30,
   "metadata": {
    "ExecuteTime": {
     "end_time": "2019-02-22T05:25:21.058656Z",
     "start_time": "2019-02-22T05:25:10.327250Z"
    }
   },
   "outputs": [
    {
     "data": {
      "text/plain": [
       "230672"
      ]
     },
     "execution_count": 30,
     "metadata": {},
     "output_type": "execute_result"
    }
   ],
   "source": [
    "# feature 5\n",
    "last2week = spark_df.filter(spark_df.st_month==11).filter(spark_df.st_day > 15).groupBy('id_').agg(count(\"id_\").alias(\"last2week_count\")).cache()\n",
    "last2week.count()"
   ]
  },
  {
   "cell_type": "code",
   "execution_count": 31,
   "metadata": {
    "ExecuteTime": {
     "end_time": "2019-02-22T05:25:30.431662Z",
     "start_time": "2019-02-22T05:25:21.063088Z"
    }
   },
   "outputs": [
    {
     "data": {
      "text/plain": [
       "101059"
      ]
     },
     "execution_count": 31,
     "metadata": {},
     "output_type": "execute_result"
    }
   ],
   "source": [
    "# feature 6\n",
    "last5day = spark_df.filter(spark_df.st_month==11).filter(spark_df.st_day > 25).groupBy('id_').agg(count(\"id_\").alias(\"last5day_count\")).cache()\n",
    "last5day.count()"
   ]
  },
  {
   "cell_type": "code",
   "execution_count": 32,
   "metadata": {
    "ExecuteTime": {
     "end_time": "2019-02-22T05:25:43.264664Z",
     "start_time": "2019-02-22T05:25:30.434294Z"
    }
   },
   "outputs": [
    {
     "data": {
      "text/plain": [
       "379136"
      ]
     },
     "execution_count": 32,
     "metadata": {},
     "output_type": "execute_result"
    }
   ],
   "source": [
    "# feature 7\n",
    "weekend = spark_df.filter((spark_df.st_weekday==5) | (spark_df.st_weekday==6)).groupBy('id_').agg(count(\"id_\").alias(\"weekend_count\")).cache()\n",
    "weekend.count()"
   ]
  },
  {
   "cell_type": "code",
   "execution_count": 33,
   "metadata": {
    "ExecuteTime": {
     "end_time": "2019-02-22T05:25:57.461280Z",
     "start_time": "2019-02-22T05:25:43.269840Z"
    }
   },
   "outputs": [
    {
     "data": {
      "text/plain": [
       "561847"
      ]
     },
     "execution_count": 33,
     "metadata": {},
     "output_type": "execute_result"
    }
   ],
   "source": [
    "# feature 8 \n",
    "weekday = spark_df.filter((spark_df.st_weekday==0) | (spark_df.st_weekday==1) | (spark_df.st_weekday==2)| (spark_df.st_weekday==3) | (spark_df.st_weekday==4)).groupBy('id_').agg(count(\"id_\").alias(\"weekday_count\")).cache()\n",
    "weekday.count()"
   ]
  },
  {
   "cell_type": "code",
   "execution_count": 34,
   "metadata": {
    "ExecuteTime": {
     "end_time": "2019-02-22T05:26:07.472795Z",
     "start_time": "2019-02-22T05:26:04.072602Z"
    }
   },
   "outputs": [],
   "source": [
    "# join these small tables together\n",
    "join0 = cr.join(region, on='id_', how='left')\n",
    "join1 = join0.join(last2week_ss_duration, on='id_', how='left') \n",
    "join2 = join1.join(total, on='id_', how='left') \n",
    "join3 = join2.join(last2week, on='id_', how='left') \n",
    "join4 = join3.join(last5day, on='id_', how='left') \n",
    "join5 = join4.join(weekend, on='id_', how='left')\n",
    "ss_features = join5.join(weekday, on='id_', how='left').cache()\n",
    "# ss_features = ss_features.drop('st_weekday','st_month','st_day','previous_sessions_duration')"
   ]
  },
  {
   "cell_type": "code",
   "execution_count": 35,
   "metadata": {
    "ExecuteTime": {
     "end_time": "2019-02-22T05:26:15.006480Z",
     "start_time": "2019-02-22T05:26:11.593702Z"
    }
   },
   "outputs": [
    {
     "data": {
      "text/plain": [
       "621106"
      ]
     },
     "execution_count": 35,
     "metadata": {},
     "output_type": "execute_result"
    }
   ],
   "source": [
    "ss_features.count()"
   ]
  },
  {
   "cell_type": "code",
   "execution_count": 36,
   "metadata": {
    "ExecuteTime": {
     "end_time": "2019-02-22T05:26:17.821393Z",
     "start_time": "2019-02-22T05:26:17.686592Z"
    }
   },
   "outputs": [
    {
     "name": "stdout",
     "output_type": "stream",
     "text": [
      "+---+-----------+------+---------------------+-----------+---------------+--------------+-------------+-------------+\n",
      "|id_|cr_from_now|region|last2week_ss_duration|total_count|last2week_count|last5day_count|weekend_count|weekday_count|\n",
      "+---+-----------+------+---------------------+-----------+---------------+--------------+-------------+-------------+\n",
      "|148|       29.0|    is|                 null|          6|           null|          null|            3|            3|\n",
      "|463|       42.0|    il|                 null|          1|           null|          null|         null|            1|\n",
      "|471|       42.0|    fy|                 null|          4|           null|          null|            3|            1|\n",
      "+---+-----------+------+---------------------+-----------+---------------+--------------+-------------+-------------+\n",
      "only showing top 3 rows\n",
      "\n"
     ]
    }
   ],
   "source": [
    "ss_features.show(3)"
   ]
  },
  {
   "cell_type": "markdown",
   "metadata": {
    "ExecuteTime": {
     "end_time": "2019-02-17T07:14:43.070503Z",
     "start_time": "2019-02-17T07:14:43.067651Z"
    }
   },
   "source": [
    "### Convert to Pandas"
   ]
  },
  {
   "cell_type": "code",
   "execution_count": 37,
   "metadata": {
    "ExecuteTime": {
     "end_time": "2019-02-22T05:26:25.605710Z",
     "start_time": "2019-02-22T05:26:20.932938Z"
    }
   },
   "outputs": [],
   "source": [
    "sf = ss_features.toPandas()"
   ]
  },
  {
   "cell_type": "code",
   "execution_count": 38,
   "metadata": {
    "ExecuteTime": {
     "end_time": "2019-02-22T05:26:25.736265Z",
     "start_time": "2019-02-22T05:26:25.608134Z"
    }
   },
   "outputs": [
    {
     "name": "stdout",
     "output_type": "stream",
     "text": [
      "<class 'pandas.core.frame.DataFrame'>\n",
      "RangeIndex: 621106 entries, 0 to 621105\n",
      "Data columns (total 9 columns):\n",
      "id_                      621106 non-null int32\n",
      "cr_from_now              621106 non-null float64\n",
      "region                   620446 non-null object\n",
      "last2week_ss_duration    230672 non-null float64\n",
      "total_count              621106 non-null int64\n",
      "last2week_count          230672 non-null float64\n",
      "last5day_count           101059 non-null float64\n",
      "weekend_count            379136 non-null float64\n",
      "weekday_count            561847 non-null float64\n",
      "dtypes: float64(6), int32(1), int64(1), object(1)\n",
      "memory usage: 40.3+ MB\n"
     ]
    }
   ],
   "source": [
    "sf.info()"
   ]
  },
  {
   "cell_type": "code",
   "execution_count": 39,
   "metadata": {
    "ExecuteTime": {
     "end_time": "2019-02-22T05:26:27.519238Z",
     "start_time": "2019-02-22T05:26:27.516148Z"
    }
   },
   "outputs": [],
   "source": [
    "# if the count feature is NaN, it means the count value should be zero"
   ]
  },
  {
   "cell_type": "code",
   "execution_count": 40,
   "metadata": {
    "ExecuteTime": {
     "end_time": "2019-02-22T05:26:27.863334Z",
     "start_time": "2019-02-22T05:26:27.844735Z"
    }
   },
   "outputs": [],
   "source": [
    "sf['last2week_ss_duration'].fillna(0, inplace=True)\n",
    "sf['total_count'].fillna(0, inplace=True)\n",
    "sf['last2week_count'].fillna(0, inplace=True)\n",
    "sf['last5day_count'].fillna(0, inplace=True)\n",
    "sf['weekend_count'].fillna(0, inplace=True)\n",
    "sf['weekday_count'].fillna(0, inplace=True)"
   ]
  },
  {
   "cell_type": "code",
   "execution_count": 42,
   "metadata": {
    "ExecuteTime": {
     "end_time": "2019-02-22T05:26:29.038505Z",
     "start_time": "2019-02-22T05:26:28.999766Z"
    }
   },
   "outputs": [],
   "source": [
    "# unknown regions\n",
    "sf['region'].fillna('unknown', inplace=True)"
   ]
  },
  {
   "cell_type": "code",
   "execution_count": 44,
   "metadata": {
    "ExecuteTime": {
     "end_time": "2019-02-22T05:26:32.065898Z",
     "start_time": "2019-02-22T05:26:30.682936Z"
    }
   },
   "outputs": [],
   "source": [
    "# using feature hashing on \"region\"\n",
    "from sklearn.feature_extraction import FeatureHasher\n",
    "h = FeatureHasher(n_features=20)\n",
    "D = [{x:1} for x in sf.region.values]\n",
    "f = h.transform(D)\n",
    "region_hashing = f.toarray()"
   ]
  },
  {
   "cell_type": "code",
   "execution_count": 45,
   "metadata": {
    "ExecuteTime": {
     "end_time": "2019-02-22T05:26:32.913519Z",
     "start_time": "2019-02-22T05:26:32.691806Z"
    }
   },
   "outputs": [],
   "source": [
    "region_hashing_df = pd.DataFrame(columns=['r1', 'r2', 'r3','r4', 'r5', 'r6','r7', 'r8', 'r9','r10',\n",
    "                                 'r11', 'r12', 'r13','r14', 'r15', 'r16','r17', 'r18', 'r19','r20'])\n",
    "region_df = region_hashing_df.append(pd.DataFrame(region_hashing, columns=region_hashing_df.columns))"
   ]
  },
  {
   "cell_type": "markdown",
   "metadata": {},
   "source": [
    "## Final features"
   ]
  },
  {
   "cell_type": "code",
   "execution_count": 47,
   "metadata": {
    "ExecuteTime": {
     "end_time": "2019-02-22T05:26:36.805418Z",
     "start_time": "2019-02-22T05:26:36.776089Z"
    },
    "scrolled": true
   },
   "outputs": [
    {
     "data": {
      "text/html": [
       "<div>\n",
       "<style scoped>\n",
       "    .dataframe tbody tr th:only-of-type {\n",
       "        vertical-align: middle;\n",
       "    }\n",
       "\n",
       "    .dataframe tbody tr th {\n",
       "        vertical-align: top;\n",
       "    }\n",
       "\n",
       "    .dataframe thead th {\n",
       "        text-align: right;\n",
       "    }\n",
       "</style>\n",
       "<table border=\"1\" class=\"dataframe\">\n",
       "  <thead>\n",
       "    <tr style=\"text-align: right;\">\n",
       "      <th></th>\n",
       "      <th>id_</th>\n",
       "      <th>cr_from_now</th>\n",
       "      <th>last2week_ss_duration</th>\n",
       "      <th>total_count</th>\n",
       "      <th>last2week_count</th>\n",
       "      <th>last5day_count</th>\n",
       "      <th>weekend_count</th>\n",
       "      <th>weekday_count</th>\n",
       "      <th>r1</th>\n",
       "      <th>r2</th>\n",
       "      <th>...</th>\n",
       "      <th>r11</th>\n",
       "      <th>r12</th>\n",
       "      <th>r13</th>\n",
       "      <th>r14</th>\n",
       "      <th>r15</th>\n",
       "      <th>r16</th>\n",
       "      <th>r17</th>\n",
       "      <th>r18</th>\n",
       "      <th>r19</th>\n",
       "      <th>r20</th>\n",
       "    </tr>\n",
       "  </thead>\n",
       "  <tbody>\n",
       "    <tr>\n",
       "      <th>0</th>\n",
       "      <td>148</td>\n",
       "      <td>29.0</td>\n",
       "      <td>0.0</td>\n",
       "      <td>6</td>\n",
       "      <td>0.0</td>\n",
       "      <td>0.0</td>\n",
       "      <td>3.0</td>\n",
       "      <td>3.0</td>\n",
       "      <td>0.0</td>\n",
       "      <td>0.0</td>\n",
       "      <td>...</td>\n",
       "      <td>0.0</td>\n",
       "      <td>0.0</td>\n",
       "      <td>0.0</td>\n",
       "      <td>0.0</td>\n",
       "      <td>0.0</td>\n",
       "      <td>0.0</td>\n",
       "      <td>0.0</td>\n",
       "      <td>1.0</td>\n",
       "      <td>0.0</td>\n",
       "      <td>0.0</td>\n",
       "    </tr>\n",
       "    <tr>\n",
       "      <th>1</th>\n",
       "      <td>463</td>\n",
       "      <td>42.0</td>\n",
       "      <td>0.0</td>\n",
       "      <td>1</td>\n",
       "      <td>0.0</td>\n",
       "      <td>0.0</td>\n",
       "      <td>0.0</td>\n",
       "      <td>1.0</td>\n",
       "      <td>0.0</td>\n",
       "      <td>0.0</td>\n",
       "      <td>...</td>\n",
       "      <td>0.0</td>\n",
       "      <td>0.0</td>\n",
       "      <td>0.0</td>\n",
       "      <td>0.0</td>\n",
       "      <td>0.0</td>\n",
       "      <td>0.0</td>\n",
       "      <td>0.0</td>\n",
       "      <td>0.0</td>\n",
       "      <td>0.0</td>\n",
       "      <td>0.0</td>\n",
       "    </tr>\n",
       "    <tr>\n",
       "      <th>2</th>\n",
       "      <td>471</td>\n",
       "      <td>42.0</td>\n",
       "      <td>0.0</td>\n",
       "      <td>4</td>\n",
       "      <td>0.0</td>\n",
       "      <td>0.0</td>\n",
       "      <td>3.0</td>\n",
       "      <td>1.0</td>\n",
       "      <td>0.0</td>\n",
       "      <td>0.0</td>\n",
       "      <td>...</td>\n",
       "      <td>0.0</td>\n",
       "      <td>0.0</td>\n",
       "      <td>0.0</td>\n",
       "      <td>0.0</td>\n",
       "      <td>0.0</td>\n",
       "      <td>0.0</td>\n",
       "      <td>0.0</td>\n",
       "      <td>0.0</td>\n",
       "      <td>0.0</td>\n",
       "      <td>0.0</td>\n",
       "    </tr>\n",
       "  </tbody>\n",
       "</table>\n",
       "<p>3 rows × 28 columns</p>\n",
       "</div>"
      ],
      "text/plain": [
       "   id_  cr_from_now  last2week_ss_duration  total_count  last2week_count  \\\n",
       "0  148         29.0                    0.0            6              0.0   \n",
       "1  463         42.0                    0.0            1              0.0   \n",
       "2  471         42.0                    0.0            4              0.0   \n",
       "\n",
       "   last5day_count  weekend_count  weekday_count   r1   r2 ...   r11  r12  r13  \\\n",
       "0             0.0            3.0            3.0  0.0  0.0 ...   0.0  0.0  0.0   \n",
       "1             0.0            0.0            1.0  0.0  0.0 ...   0.0  0.0  0.0   \n",
       "2             0.0            3.0            1.0  0.0  0.0 ...   0.0  0.0  0.0   \n",
       "\n",
       "   r14  r15  r16  r17  r18  r19  r20  \n",
       "0  0.0  0.0  0.0  0.0  1.0  0.0  0.0  \n",
       "1  0.0  0.0  0.0  0.0  0.0  0.0  0.0  \n",
       "2  0.0  0.0  0.0  0.0  0.0  0.0  0.0  \n",
       "\n",
       "[3 rows x 28 columns]"
      ]
     },
     "execution_count": 47,
     "metadata": {},
     "output_type": "execute_result"
    }
   ],
   "source": [
    "session_features = pd.concat([sf, region_df], axis=1)\n",
    "session_features.drop(['region'], axis=1, inplace=True)\n",
    "session_features.head(3)"
   ]
  },
  {
   "cell_type": "code",
   "execution_count": 48,
   "metadata": {
    "ExecuteTime": {
     "end_time": "2019-02-22T05:26:38.688544Z",
     "start_time": "2019-02-22T05:26:38.682995Z"
    },
    "scrolled": true
   },
   "outputs": [
    {
     "data": {
      "text/plain": [
       "621106"
      ]
     },
     "execution_count": 48,
     "metadata": {},
     "output_type": "execute_result"
    }
   ],
   "source": [
    "len(session_features)"
   ]
  },
  {
   "cell_type": "code",
   "execution_count": 49,
   "metadata": {
    "ExecuteTime": {
     "end_time": "2019-02-22T05:26:41.840924Z",
     "start_time": "2019-02-22T05:26:40.301330Z"
    },
    "scrolled": true
   },
   "outputs": [],
   "source": [
    "dummy = pd.DataFrame({'id_': list(userid_dict.values()), 'dummy': [0 for _ in range(len(userid_dict.values()))]})\n",
    "features = pd.merge(dummy,session_features, on='id_', how='left')\n",
    "features = features.drop(['dummy'],axis=1)"
   ]
  },
  {
   "cell_type": "code",
   "execution_count": 50,
   "metadata": {
    "ExecuteTime": {
     "end_time": "2019-02-22T05:26:59.059260Z",
     "start_time": "2019-02-22T05:26:47.503776Z"
    }
   },
   "outputs": [],
   "source": [
    "features.to_csv('features_session_training5.0.csv', encoding='utf-8', index=False)"
   ]
  },
  {
   "cell_type": "code",
   "execution_count": null,
   "metadata": {},
   "outputs": [],
   "source": []
  }
 ],
 "metadata": {
  "kernelspec": {
   "display_name": "Python 3",
   "language": "python",
   "name": "python3"
  },
  "language_info": {
   "codemirror_mode": {
    "name": "ipython",
    "version": 3
   },
   "file_extension": ".py",
   "mimetype": "text/x-python",
   "name": "python",
   "nbconvert_exporter": "python",
   "pygments_lexer": "ipython3",
   "version": "3.6.8"
  }
 },
 "nbformat": 4,
 "nbformat_minor": 2
}
