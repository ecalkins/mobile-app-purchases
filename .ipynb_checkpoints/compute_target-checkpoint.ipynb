{
 "cells": [
  {
   "cell_type": "markdown",
   "metadata": {},
   "source": [
    "## Compute Binary Target Labels\n",
    "- Has a user purchased within the last 7 or 14 days?"
   ]
  },
  {
   "cell_type": "code",
   "execution_count": 16,
   "metadata": {
    "ExecuteTime": {
     "end_time": "2019-02-17T00:34:16.120299Z",
     "start_time": "2019-02-17T00:34:16.117613Z"
    }
   },
   "outputs": [],
   "source": [
    "import pandas as pd\n",
    "from pyspark import SparkContext, SparkConf\n",
    "from pyspark.sql import SparkSession\n",
    "from pyspark.sql.functions import UserDefinedFunction\n",
    "from pyspark.sql.types import IntegerType"
   ]
  },
  {
   "cell_type": "code",
   "execution_count": 17,
   "metadata": {
    "ExecuteTime": {
     "end_time": "2019-02-17T00:34:16.646913Z",
     "start_time": "2019-02-17T00:34:16.644347Z"
    }
   },
   "outputs": [],
   "source": [
    "sc = SparkContext.getOrCreate()\n",
    "ss = SparkSession.builder.getOrCreate()"
   ]
  },
  {
   "cell_type": "code",
   "execution_count": 35,
   "metadata": {
    "ExecuteTime": {
     "end_time": "2019-02-17T00:49:42.814368Z",
     "start_time": "2019-02-17T00:48:46.921605Z"
    }
   },
   "outputs": [],
   "source": [
    "# Load user dictionary which maps user_id_hashing to unique integers\n",
    "users = pd.read_csv('data/user_dict.csv', header=None)\n",
    "user_dict = {row[1][0]:int(row[1][1]) for row in users.iterrows()}"
   ]
  },
  {
   "cell_type": "code",
   "execution_count": 4,
   "metadata": {
    "ExecuteTime": {
     "end_time": "2019-02-17T00:17:44.564922Z",
     "start_time": "2019-02-17T00:17:44.556248Z"
    }
   },
   "outputs": [],
   "source": [
    "name = 'user_id_hash'\n",
    "fn = UserDefinedFunction(lambda x: user_dict[x], IntegerType())"
   ]
  },
  {
   "cell_type": "code",
   "execution_count": 5,
   "metadata": {
    "ExecuteTime": {
     "end_time": "2019-02-17T00:18:58.206471Z",
     "start_time": "2019-02-17T00:17:44.567810Z"
    },
    "collapsed": true
   },
   "outputs": [
    {
     "name": "stdout",
     "output_type": "stream",
     "text": [
      "+----------------+-------------------+------------------+---------------+-----------+--------------------+\n",
      "|          app_id|         session_id|             event|event_timestamp|event_value|        user_id_hash|\n",
      "+----------------+-------------------+------------------+---------------+-----------+--------------------+\n",
      "|4724682771660800|5558845121177764917|                45|  1542215397132|        0.0|9943447915df3a45f...|\n",
      "|4724682771660800|5558845121177764917|                45|  1542215484895|        0.0|9943447915df3a45f...|\n",
      "|4724682771660800|7689508378645584666|.m5100869650219008|  1541124410372|        0.0|9943447915df3a45f...|\n",
      "|4724682771660800|2201961907282901522|                 4|  1543713091129|        0.0|9943447915df3a45f...|\n",
      "|4724682771660800|2201961907282901522|                 6|  1543713093116|        0.0|9943447915df3a45f...|\n",
      "+----------------+-------------------+------------------+---------------+-----------+--------------------+\n",
      "only showing top 5 rows\n",
      "\n"
     ]
    }
   ],
   "source": [
    "df = ss.read.csv('data/events.csv', header=True, inferSchema=True)\n",
    "df.show(5)"
   ]
  },
  {
   "cell_type": "code",
   "execution_count": 8,
   "metadata": {
    "ExecuteTime": {
     "end_time": "2019-02-17T00:20:48.454284Z",
     "start_time": "2019-02-17T00:19:25.169668Z"
    }
   },
   "outputs": [
    {
     "data": {
      "text/html": [
       "<div>\n",
       "<style scoped>\n",
       "    .dataframe tbody tr th:only-of-type {\n",
       "        vertical-align: middle;\n",
       "    }\n",
       "\n",
       "    .dataframe tbody tr th {\n",
       "        vertical-align: top;\n",
       "    }\n",
       "\n",
       "    .dataframe thead th {\n",
       "        text-align: right;\n",
       "    }\n",
       "</style>\n",
       "<table border=\"1\" class=\"dataframe\">\n",
       "  <thead>\n",
       "    <tr style=\"text-align: right;\">\n",
       "      <th></th>\n",
       "      <th>event</th>\n",
       "      <th>event_timestamp</th>\n",
       "      <th>event_value</th>\n",
       "      <th>user_id</th>\n",
       "    </tr>\n",
       "  </thead>\n",
       "  <tbody>\n",
       "    <tr>\n",
       "      <th>0</th>\n",
       "      <td>8</td>\n",
       "      <td>1541912600211</td>\n",
       "      <td>3.493</td>\n",
       "      <td>554721</td>\n",
       "    </tr>\n",
       "    <tr>\n",
       "      <th>1</th>\n",
       "      <td>8</td>\n",
       "      <td>1543357433771</td>\n",
       "      <td>3.493</td>\n",
       "      <td>424370</td>\n",
       "    </tr>\n",
       "    <tr>\n",
       "      <th>2</th>\n",
       "      <td>8</td>\n",
       "      <td>1543023539172</td>\n",
       "      <td>3.493</td>\n",
       "      <td>424370</td>\n",
       "    </tr>\n",
       "    <tr>\n",
       "      <th>3</th>\n",
       "      <td>8</td>\n",
       "      <td>1543531139724</td>\n",
       "      <td>1.393</td>\n",
       "      <td>424370</td>\n",
       "    </tr>\n",
       "    <tr>\n",
       "      <th>4</th>\n",
       "      <td>8</td>\n",
       "      <td>1541437057644</td>\n",
       "      <td>1.393</td>\n",
       "      <td>171957</td>\n",
       "    </tr>\n",
       "  </tbody>\n",
       "</table>\n",
       "</div>"
      ],
      "text/plain": [
       "  event  event_timestamp  event_value  user_id\n",
       "0     8    1541912600211        3.493   554721\n",
       "1     8    1543357433771        3.493   424370\n",
       "2     8    1543023539172        3.493   424370\n",
       "3     8    1543531139724        1.393   424370\n",
       "4     8    1541437057644        1.393   171957"
      ]
     },
     "execution_count": 8,
     "metadata": {},
     "output_type": "execute_result"
    }
   ],
   "source": [
    "# Convert user_id_hash to user_id\n",
    "purchases = df.withColumn('user_id', fn(df.user_id_hash))\\\n",
    "            .drop('user_id_hash', 'app_id', 'session_id')\\\n",
    "            .filter(\"event == 8\")\\\n",
    "            .toPandas()\n",
    "purchases.head()"
   ]
  },
  {
   "cell_type": "code",
   "execution_count": 9,
   "metadata": {
    "ExecuteTime": {
     "end_time": "2019-02-17T00:20:51.578169Z",
     "start_time": "2019-02-17T00:20:51.326488Z"
    }
   },
   "outputs": [],
   "source": [
    "from datetime import datetime\n",
    "purchases['datetime'] = purchases['event_timestamp'].apply(lambda x:datetime.fromtimestamp(x/1000))"
   ]
  },
  {
   "cell_type": "code",
   "execution_count": 11,
   "metadata": {
    "ExecuteTime": {
     "end_time": "2019-02-17T00:22:49.391966Z",
     "start_time": "2019-02-17T00:22:49.376721Z"
    }
   },
   "outputs": [],
   "source": [
    "# Get purchases for 7 day and 14 day time periods \n",
    "purchases14 = purchases[(purchases['datetime'] >= '2018-12-01')\n",
    "                        & (purchases['datetime'] <= '2018-12-14')\n",
    "                        & (purchases['event_value'] != 0)]\n",
    "purchases7 = purchases[(purchases['datetime'] >= '2018-12-01')\n",
    "                        & (purchases['datetime'] <= '2018-12-07')\n",
    "                        & (purchases['event_value'] != 0)]"
   ]
  },
  {
   "cell_type": "code",
   "execution_count": 12,
   "metadata": {
    "ExecuteTime": {
     "end_time": "2019-02-17T00:32:09.881127Z",
     "start_time": "2019-02-17T00:32:09.875391Z"
    }
   },
   "outputs": [
    {
     "data": {
      "text/plain": [
       "array([390699, 151528, 142719, 540810, 147408, 377990, 462529, 203937,\n",
       "       471260, 422223])"
      ]
     },
     "execution_count": 12,
     "metadata": {},
     "output_type": "execute_result"
    }
   ],
   "source": [
    "# Get unique users for purchases\n",
    "labels14 = purchases14.user_id.unique()\n",
    "labels7 = purchases7.user_id.unique()"
   ]
  },
  {
   "cell_type": "code",
   "execution_count": 49,
   "metadata": {
    "ExecuteTime": {
     "end_time": "2019-02-17T01:15:53.370549Z",
     "start_time": "2019-02-17T01:15:47.197401Z"
    }
   },
   "outputs": [],
   "source": [
    "labels14_dict = {user:1 if user in labels14 else 0 for user in user_dict.values()}\n",
    "labels7_dict = {user:1 if user in labels7 else 0 for user in user_dict.values()}"
   ]
  },
  {
   "cell_type": "code",
   "execution_count": 50,
   "metadata": {
    "ExecuteTime": {
     "end_time": "2019-02-17T01:16:09.102333Z",
     "start_time": "2019-02-17T01:16:08.824041Z"
    }
   },
   "outputs": [
    {
     "data": {
      "text/html": [
       "<div>\n",
       "<style scoped>\n",
       "    .dataframe tbody tr th:only-of-type {\n",
       "        vertical-align: middle;\n",
       "    }\n",
       "\n",
       "    .dataframe tbody tr th {\n",
       "        vertical-align: top;\n",
       "    }\n",
       "\n",
       "    .dataframe thead th {\n",
       "        text-align: right;\n",
       "    }\n",
       "</style>\n",
       "<table border=\"1\" class=\"dataframe\">\n",
       "  <thead>\n",
       "    <tr style=\"text-align: right;\">\n",
       "      <th></th>\n",
       "      <th>user_id</th>\n",
       "    </tr>\n",
       "    <tr>\n",
       "      <th>label</th>\n",
       "      <th></th>\n",
       "    </tr>\n",
       "  </thead>\n",
       "  <tbody>\n",
       "    <tr>\n",
       "      <th>0</th>\n",
       "      <td>615693</td>\n",
       "    </tr>\n",
       "    <tr>\n",
       "      <th>1</th>\n",
       "      <td>5807</td>\n",
       "    </tr>\n",
       "  </tbody>\n",
       "</table>\n",
       "</div>"
      ],
      "text/plain": [
       "       user_id\n",
       "label         \n",
       "0       615693\n",
       "1         5807"
      ]
     },
     "execution_count": 50,
     "metadata": {},
     "output_type": "execute_result"
    }
   ],
   "source": [
    "# Create df of labels and print counts\n",
    "labels14_df = pd.DataFrame(labels14_dict.items(), columns=['user_id', 'label'])\n",
    "labels14_df.groupby('label').count()"
   ]
  },
  {
   "cell_type": "code",
   "execution_count": 51,
   "metadata": {
    "ExecuteTime": {
     "end_time": "2019-02-17T01:16:12.793213Z",
     "start_time": "2019-02-17T01:16:12.519769Z"
    }
   },
   "outputs": [
    {
     "data": {
      "text/html": [
       "<div>\n",
       "<style scoped>\n",
       "    .dataframe tbody tr th:only-of-type {\n",
       "        vertical-align: middle;\n",
       "    }\n",
       "\n",
       "    .dataframe tbody tr th {\n",
       "        vertical-align: top;\n",
       "    }\n",
       "\n",
       "    .dataframe thead th {\n",
       "        text-align: right;\n",
       "    }\n",
       "</style>\n",
       "<table border=\"1\" class=\"dataframe\">\n",
       "  <thead>\n",
       "    <tr style=\"text-align: right;\">\n",
       "      <th></th>\n",
       "      <th>user_id</th>\n",
       "    </tr>\n",
       "    <tr>\n",
       "      <th>label</th>\n",
       "      <th></th>\n",
       "    </tr>\n",
       "  </thead>\n",
       "  <tbody>\n",
       "    <tr>\n",
       "      <th>0</th>\n",
       "      <td>617271</td>\n",
       "    </tr>\n",
       "    <tr>\n",
       "      <th>1</th>\n",
       "      <td>4229</td>\n",
       "    </tr>\n",
       "  </tbody>\n",
       "</table>\n",
       "</div>"
      ],
      "text/plain": [
       "       user_id\n",
       "label         \n",
       "0       617271\n",
       "1         4229"
      ]
     },
     "execution_count": 51,
     "metadata": {},
     "output_type": "execute_result"
    }
   ],
   "source": [
    "labels7_df = pd.DataFrame(labels7_dict.items(), columns=['user_id', 'label'])\n",
    "labels7_df.groupby('label').count()"
   ]
  },
  {
   "cell_type": "code",
   "execution_count": 52,
   "metadata": {
    "ExecuteTime": {
     "end_time": "2019-02-17T01:16:25.593486Z",
     "start_time": "2019-02-17T01:16:22.631284Z"
    }
   },
   "outputs": [],
   "source": [
    "# Save labels to csv\n",
    "labels14_df.to_csv(path_or_buf='labels14.csv', index=False)\n",
    "labels7_df.to_csv(path_or_buf='labels7.csv', index=False)"
   ]
  }
 ],
 "metadata": {
  "kernelspec": {
   "display_name": "Python 3",
   "language": "python",
   "name": "python3"
  },
  "language_info": {
   "codemirror_mode": {
    "name": "ipython",
    "version": 3
   },
   "file_extension": ".py",
   "mimetype": "text/x-python",
   "name": "python",
   "nbconvert_exporter": "python",
   "pygments_lexer": "ipython3",
   "version": "3.6.8"
  }
 },
 "nbformat": 4,
 "nbformat_minor": 2
}
