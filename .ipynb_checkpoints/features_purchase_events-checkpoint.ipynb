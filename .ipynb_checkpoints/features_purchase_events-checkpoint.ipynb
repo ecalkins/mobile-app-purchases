{
 "cells": [
  {
   "cell_type": "markdown",
   "metadata": {},
   "source": [
    "# Feature Engineering - Purchase events data"
   ]
  },
  {
   "cell_type": "code",
   "execution_count": 1,
   "metadata": {
    "ExecuteTime": {
     "end_time": "2019-02-17T02:16:51.459401Z",
     "start_time": "2019-02-17T02:16:50.755844Z"
    }
   },
   "outputs": [],
   "source": [
    "import pandas as pd\n",
    "from pyspark import SparkContext, SparkConf\n",
    "from pyspark.sql import SparkSession\n",
    "from pyspark.sql.functions import UserDefinedFunction\n",
    "from pyspark.sql.types import IntegerType\n",
    "from datetime import datetime"
   ]
  },
  {
   "cell_type": "code",
   "execution_count": 2,
   "metadata": {
    "ExecuteTime": {
     "end_time": "2019-02-17T02:16:55.430118Z",
     "start_time": "2019-02-17T02:16:52.091646Z"
    }
   },
   "outputs": [],
   "source": [
    "sc = SparkContext.getOrCreate()\n",
    "ss = SparkSession.builder.getOrCreate()"
   ]
  },
  {
   "cell_type": "code",
   "execution_count": 14,
   "metadata": {
    "ExecuteTime": {
     "end_time": "2019-02-17T04:18:49.268997Z",
     "start_time": "2019-02-17T04:17:52.341252Z"
    }
   },
   "outputs": [],
   "source": [
    "# load user_id to user_hash dictionary\n",
    "users = pd.read_csv('data/user_dict.csv', header=None)\n",
    "user_dict = {row[1][0]:int(row[1][1]) for row in users.iterrows()}\n",
    "name = 'user_id_hash'\n",
    "fn = UserDefinedFunction(lambda x: user_dict[x], IntegerType())"
   ]
  },
  {
   "cell_type": "code",
   "execution_count": 13,
   "metadata": {
    "ExecuteTime": {
     "end_time": "2019-02-17T04:17:09.103326Z",
     "start_time": "2019-02-17T04:15:48.494577Z"
    },
    "collapsed": true
   },
   "outputs": [
    {
     "name": "stdout",
     "output_type": "stream",
     "text": [
      "+----------------+-------------------+------------------+---------------+-----------+--------------------+\n",
      "|          app_id|         session_id|             event|event_timestamp|event_value|        user_id_hash|\n",
      "+----------------+-------------------+------------------+---------------+-----------+--------------------+\n",
      "|4724682771660800|5558845121177764917|                45|  1542215397132|        0.0|9943447915df3a45f...|\n",
      "|4724682771660800|5558845121177764917|                45|  1542215484895|        0.0|9943447915df3a45f...|\n",
      "|4724682771660800|7689508378645584666|.m5100869650219008|  1541124410372|        0.0|9943447915df3a45f...|\n",
      "|4724682771660800|2201961907282901522|                 4|  1543713091129|        0.0|9943447915df3a45f...|\n",
      "|4724682771660800|2201961907282901522|                 6|  1543713093116|        0.0|9943447915df3a45f...|\n",
      "+----------------+-------------------+------------------+---------------+-----------+--------------------+\n",
      "only showing top 5 rows\n",
      "\n"
     ]
    }
   ],
   "source": [
    "# load events data into sparksql dataframe\n",
    "df = ss.read.csv('data/events.csv', header=True, inferSchema=True)\n",
    "df.show(5)"
   ]
  },
  {
   "cell_type": "code",
   "execution_count": 16,
   "metadata": {
    "ExecuteTime": {
     "end_time": "2019-02-17T04:21:58.099515Z",
     "start_time": "2019-02-17T04:20:35.153731Z"
    }
   },
   "outputs": [
    {
     "data": {
      "text/html": [
       "<div>\n",
       "<style scoped>\n",
       "    .dataframe tbody tr th:only-of-type {\n",
       "        vertical-align: middle;\n",
       "    }\n",
       "\n",
       "    .dataframe tbody tr th {\n",
       "        vertical-align: top;\n",
       "    }\n",
       "\n",
       "    .dataframe thead th {\n",
       "        text-align: right;\n",
       "    }\n",
       "</style>\n",
       "<table border=\"1\" class=\"dataframe\">\n",
       "  <thead>\n",
       "    <tr style=\"text-align: right;\">\n",
       "      <th></th>\n",
       "      <th>event</th>\n",
       "      <th>event_timestamp</th>\n",
       "      <th>event_value</th>\n",
       "      <th>user_id</th>\n",
       "    </tr>\n",
       "  </thead>\n",
       "  <tbody>\n",
       "    <tr>\n",
       "      <th>0</th>\n",
       "      <td>8</td>\n",
       "      <td>1541912600211</td>\n",
       "      <td>3.493</td>\n",
       "      <td>554721</td>\n",
       "    </tr>\n",
       "    <tr>\n",
       "      <th>1</th>\n",
       "      <td>8</td>\n",
       "      <td>1543357433771</td>\n",
       "      <td>3.493</td>\n",
       "      <td>424370</td>\n",
       "    </tr>\n",
       "    <tr>\n",
       "      <th>2</th>\n",
       "      <td>8</td>\n",
       "      <td>1543023539172</td>\n",
       "      <td>3.493</td>\n",
       "      <td>424370</td>\n",
       "    </tr>\n",
       "    <tr>\n",
       "      <th>3</th>\n",
       "      <td>8</td>\n",
       "      <td>1543531139724</td>\n",
       "      <td>1.393</td>\n",
       "      <td>424370</td>\n",
       "    </tr>\n",
       "    <tr>\n",
       "      <th>4</th>\n",
       "      <td>8</td>\n",
       "      <td>1541437057644</td>\n",
       "      <td>1.393</td>\n",
       "      <td>171957</td>\n",
       "    </tr>\n",
       "  </tbody>\n",
       "</table>\n",
       "</div>"
      ],
      "text/plain": [
       "  event  event_timestamp  event_value  user_id\n",
       "0     8    1541912600211        3.493   554721\n",
       "1     8    1543357433771        3.493   424370\n",
       "2     8    1543023539172        3.493   424370\n",
       "3     8    1543531139724        1.393   424370\n",
       "4     8    1541437057644        1.393   171957"
      ]
     },
     "execution_count": 16,
     "metadata": {},
     "output_type": "execute_result"
    }
   ],
   "source": [
    "# Convert user_id_hash to user_id\n",
    "purchases = df.withColumn('user_id', fn(df.user_id_hash))\\\n",
    "            .drop('user_id_hash', 'app_id', 'session_id')\\\n",
    "            .filter(\"event == 8\")\\\n",
    "            .toPandas()"
   ]
  },
  {
   "cell_type": "code",
   "execution_count": 19,
   "metadata": {
    "ExecuteTime": {
     "end_time": "2019-02-17T04:34:44.196231Z",
     "start_time": "2019-02-17T04:34:43.908229Z"
    }
   },
   "outputs": [
    {
     "data": {
      "text/html": [
       "<div>\n",
       "<style scoped>\n",
       "    .dataframe tbody tr th:only-of-type {\n",
       "        vertical-align: middle;\n",
       "    }\n",
       "\n",
       "    .dataframe tbody tr th {\n",
       "        vertical-align: top;\n",
       "    }\n",
       "\n",
       "    .dataframe thead th {\n",
       "        text-align: right;\n",
       "    }\n",
       "</style>\n",
       "<table border=\"1\" class=\"dataframe\">\n",
       "  <thead>\n",
       "    <tr style=\"text-align: right;\">\n",
       "      <th></th>\n",
       "      <th>event</th>\n",
       "      <th>event_timestamp</th>\n",
       "      <th>event_value</th>\n",
       "      <th>user_id</th>\n",
       "      <th>datetime</th>\n",
       "    </tr>\n",
       "  </thead>\n",
       "  <tbody>\n",
       "    <tr>\n",
       "      <th>0</th>\n",
       "      <td>8</td>\n",
       "      <td>1541912600211</td>\n",
       "      <td>3.493</td>\n",
       "      <td>554721</td>\n",
       "      <td>2018-11-10 21:03:20.211</td>\n",
       "    </tr>\n",
       "    <tr>\n",
       "      <th>1</th>\n",
       "      <td>8</td>\n",
       "      <td>1543357433771</td>\n",
       "      <td>3.493</td>\n",
       "      <td>424370</td>\n",
       "      <td>2018-11-27 14:23:53.771</td>\n",
       "    </tr>\n",
       "    <tr>\n",
       "      <th>2</th>\n",
       "      <td>8</td>\n",
       "      <td>1543023539172</td>\n",
       "      <td>3.493</td>\n",
       "      <td>424370</td>\n",
       "      <td>2018-11-23 17:38:59.172</td>\n",
       "    </tr>\n",
       "    <tr>\n",
       "      <th>3</th>\n",
       "      <td>8</td>\n",
       "      <td>1543531139724</td>\n",
       "      <td>1.393</td>\n",
       "      <td>424370</td>\n",
       "      <td>2018-11-29 14:38:59.724</td>\n",
       "    </tr>\n",
       "    <tr>\n",
       "      <th>4</th>\n",
       "      <td>8</td>\n",
       "      <td>1541437057644</td>\n",
       "      <td>1.393</td>\n",
       "      <td>171957</td>\n",
       "      <td>2018-11-05 08:57:37.644</td>\n",
       "    </tr>\n",
       "  </tbody>\n",
       "</table>\n",
       "</div>"
      ],
      "text/plain": [
       "  event  event_timestamp  event_value  user_id                datetime\n",
       "0     8    1541912600211        3.493   554721 2018-11-10 21:03:20.211\n",
       "1     8    1543357433771        3.493   424370 2018-11-27 14:23:53.771\n",
       "2     8    1543023539172        3.493   424370 2018-11-23 17:38:59.172\n",
       "3     8    1543531139724        1.393   424370 2018-11-29 14:38:59.724\n",
       "4     8    1541437057644        1.393   171957 2018-11-05 08:57:37.644"
      ]
     },
     "execution_count": 19,
     "metadata": {},
     "output_type": "execute_result"
    }
   ],
   "source": [
    "# create datetime from event_timestamp\n",
    "purchases['datetime'] = purchases['event_timestamp']\\\n",
    "                        .apply(lambda x:datetime.fromtimestamp(x/1000))\n",
    "purchases = purchases[(purchases.datetime < '2018-12-01') \n",
    "                      & (purchases['event_value'] != 0)]\n",
    "purchases.head()"
   ]
  },
  {
   "cell_type": "code",
   "execution_count": 61,
   "metadata": {
    "ExecuteTime": {
     "end_time": "2019-02-17T06:05:45.964602Z",
     "start_time": "2019-02-17T06:05:45.931103Z"
    }
   },
   "outputs": [],
   "source": [
    "# features for purchase count for last week, two weeks and total\n",
    "f1 = purchases.groupby('user_id')\\\n",
    "                            .size()\\\n",
    "                            .reset_index(name='purchase_count_total')\\\n",
    "                            .set_index('user_id')\n",
    "f2 = purchases[purchases.datetime >= '2018-11-24']\\\n",
    "                            .groupby('user_id')\\\n",
    "                            .size()\\\n",
    "                            .reset_index(name='purchase_count_last_week')\\\n",
    "                            .set_index('user_id')\n",
    "f3 = purchases[purchases.datetime >= '2018-11-17']\\\n",
    "                            .groupby('user_id').size()\\\n",
    "                            .reset_index(name='purchase_count_2_weeks')\\\n",
    "                            .set_index('user_id')"
   ]
  },
  {
   "cell_type": "code",
   "execution_count": 62,
   "metadata": {
    "ExecuteTime": {
     "end_time": "2019-02-17T06:05:46.486896Z",
     "start_time": "2019-02-17T06:05:46.450441Z"
    }
   },
   "outputs": [],
   "source": [
    "# features for purchase sum for last week, two weeks and total\n",
    "f4 = purchases.groupby('user_id')['event_value']\\\n",
    "                            .agg('sum')\\\n",
    "                            .reset_index(name='purchase_sum_total')\\\n",
    "                            .set_index('user_id')\n",
    "f5 = purchases[purchases.datetime >= '2018-11-24']\\\n",
    "                            .groupby('user_id')['event_value']\\\n",
    "                            .agg('sum')\\\n",
    "                            .reset_index(name='purchase_sum_last_week')\\\n",
    "                            .set_index('user_id')\n",
    "f6 = purchases[purchases.datetime >= '2018-11-17']\\\n",
    "                            .groupby('user_id')['event_value']\\\n",
    "                            .agg('sum')\\\n",
    "                            .reset_index(name='purchase_sum_2_weeks')\\\n",
    "                            .set_index('user_id')"
   ]
  },
  {
   "cell_type": "code",
   "execution_count": 73,
   "metadata": {
    "ExecuteTime": {
     "end_time": "2019-02-17T06:19:56.310846Z",
     "start_time": "2019-02-17T06:19:55.933427Z"
    }
   },
   "outputs": [
    {
     "data": {
      "text/html": [
       "<div>\n",
       "<style scoped>\n",
       "    .dataframe tbody tr th:only-of-type {\n",
       "        vertical-align: middle;\n",
       "    }\n",
       "\n",
       "    .dataframe tbody tr th {\n",
       "        vertical-align: top;\n",
       "    }\n",
       "\n",
       "    .dataframe thead th {\n",
       "        text-align: right;\n",
       "    }\n",
       "</style>\n",
       "<table border=\"1\" class=\"dataframe\">\n",
       "  <thead>\n",
       "    <tr style=\"text-align: right;\">\n",
       "      <th></th>\n",
       "      <th>user_id</th>\n",
       "      <th>purchase_count_total</th>\n",
       "      <th>purchase_count_last_week</th>\n",
       "      <th>purchase_count_2_weeks</th>\n",
       "      <th>purchase_sum_total</th>\n",
       "      <th>purchase_sum_last_week</th>\n",
       "      <th>purchase_sum_2_weeks</th>\n",
       "    </tr>\n",
       "  </thead>\n",
       "  <tbody>\n",
       "    <tr>\n",
       "      <th>0</th>\n",
       "      <td>0</td>\n",
       "      <td>0.0</td>\n",
       "      <td>0.0</td>\n",
       "      <td>0.0</td>\n",
       "      <td>0.0</td>\n",
       "      <td>0.0</td>\n",
       "      <td>0.0</td>\n",
       "    </tr>\n",
       "    <tr>\n",
       "      <th>1</th>\n",
       "      <td>1</td>\n",
       "      <td>0.0</td>\n",
       "      <td>0.0</td>\n",
       "      <td>0.0</td>\n",
       "      <td>0.0</td>\n",
       "      <td>0.0</td>\n",
       "      <td>0.0</td>\n",
       "    </tr>\n",
       "    <tr>\n",
       "      <th>2</th>\n",
       "      <td>2</td>\n",
       "      <td>0.0</td>\n",
       "      <td>0.0</td>\n",
       "      <td>0.0</td>\n",
       "      <td>0.0</td>\n",
       "      <td>0.0</td>\n",
       "      <td>0.0</td>\n",
       "    </tr>\n",
       "    <tr>\n",
       "      <th>3</th>\n",
       "      <td>3</td>\n",
       "      <td>0.0</td>\n",
       "      <td>0.0</td>\n",
       "      <td>0.0</td>\n",
       "      <td>0.0</td>\n",
       "      <td>0.0</td>\n",
       "      <td>0.0</td>\n",
       "    </tr>\n",
       "    <tr>\n",
       "      <th>4</th>\n",
       "      <td>4</td>\n",
       "      <td>0.0</td>\n",
       "      <td>0.0</td>\n",
       "      <td>0.0</td>\n",
       "      <td>0.0</td>\n",
       "      <td>0.0</td>\n",
       "      <td>0.0</td>\n",
       "    </tr>\n",
       "  </tbody>\n",
       "</table>\n",
       "</div>"
      ],
      "text/plain": [
       "   user_id  purchase_count_total  purchase_count_last_week  \\\n",
       "0        0                   0.0                       0.0   \n",
       "1        1                   0.0                       0.0   \n",
       "2        2                   0.0                       0.0   \n",
       "3        3                   0.0                       0.0   \n",
       "4        4                   0.0                       0.0   \n",
       "\n",
       "   purchase_count_2_weeks  purchase_sum_total  purchase_sum_last_week  \\\n",
       "0                     0.0                 0.0                     0.0   \n",
       "1                     0.0                 0.0                     0.0   \n",
       "2                     0.0                 0.0                     0.0   \n",
       "3                     0.0                 0.0                     0.0   \n",
       "4                     0.0                 0.0                     0.0   \n",
       "\n",
       "   purchase_sum_2_weeks  \n",
       "0                   0.0  \n",
       "1                   0.0  \n",
       "2                   0.0  \n",
       "3                   0.0  \n",
       "4                   0.0  "
      ]
     },
     "execution_count": 73,
     "metadata": {},
     "output_type": "execute_result"
    }
   ],
   "source": [
    "# create a dummy df with all user_ids and then join with other features\n",
    "# this ensures we get zeros in addition to ones\n",
    "dummy = pd.DataFrame({'user_id': list(user_dict.values()), 'dummy': [0 for _ in range(len(user_dict.values()))]})\n",
    "features_lst = [f1, f2, f3, f4, f5, f6]\n",
    "features = dummy.join(features_lst[:]).drop(axis=1, columns='dummy').fillna(value=0)\n",
    "features.head()"
   ]
  },
  {
   "cell_type": "code",
   "execution_count": 78,
   "metadata": {
    "ExecuteTime": {
     "end_time": "2019-02-17T06:32:03.419697Z",
     "start_time": "2019-02-17T06:32:03.306960Z"
    }
   },
   "outputs": [
    {
     "name": "stdout",
     "output_type": "stream",
     "text": [
      "32752\n",
      "588748\n"
     ]
    },
    {
     "data": {
      "text/plain": [
       "0.055629912967857215"
      ]
     },
     "execution_count": 78,
     "metadata": {},
     "output_type": "execute_result"
    }
   ],
   "source": [
    "# check how many users in the dataset have made a purchase\n",
    "print(sum(features.purchase_count_total != 0))\n",
    "print(sum(features.purchase_count_total == 0))\n",
    "32752/588748"
   ]
  },
  {
   "cell_type": "code",
   "execution_count": 76,
   "metadata": {
    "ExecuteTime": {
     "end_time": "2019-02-17T06:21:30.673497Z",
     "start_time": "2019-02-17T06:21:27.450933Z"
    }
   },
   "outputs": [],
   "source": [
    "features.to_csv(path_or_buf='features_events.csv', index=False)"
   ]
  }
 ],
 "metadata": {
  "kernelspec": {
   "display_name": "Python 3",
   "language": "python",
   "name": "python3"
  },
  "language_info": {
   "codemirror_mode": {
    "name": "ipython",
    "version": 3
   },
   "file_extension": ".py",
   "mimetype": "text/x-python",
   "name": "python",
   "nbconvert_exporter": "python",
   "pygments_lexer": "ipython3",
   "version": "3.6.8"
  }
 },
 "nbformat": 4,
 "nbformat_minor": 2
}
