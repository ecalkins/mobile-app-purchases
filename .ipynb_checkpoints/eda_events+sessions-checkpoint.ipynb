{
 "cells": [
  {
   "cell_type": "markdown",
   "metadata": {},
   "source": [
    "## EDA for Events Dataset"
   ]
  },
  {
   "cell_type": "code",
   "execution_count": 17,
   "metadata": {
    "ExecuteTime": {
     "end_time": "2019-02-19T02:35:29.523447Z",
     "start_time": "2019-02-19T02:35:29.318468Z"
    }
   },
   "outputs": [],
   "source": [
    "import pandas as pd\n",
    "import matplotlib.pyplot as plt\n",
    "from pyspark import SparkContext, SparkConf\n",
    "from pyspark.sql import SparkSession\n",
    "from pyspark.sql.functions import UserDefinedFunction\n",
    "from pyspark.sql.types import IntegerType"
   ]
  },
  {
   "cell_type": "code",
   "execution_count": 2,
   "metadata": {
    "ExecuteTime": {
     "end_time": "2019-02-19T02:10:33.989533Z",
     "start_time": "2019-02-19T02:10:31.655916Z"
    }
   },
   "outputs": [],
   "source": [
    "sc = SparkContext.getOrCreate()\n",
    "ss = SparkSession.builder.getOrCreate()"
   ]
  },
  {
   "cell_type": "code",
   "execution_count": 3,
   "metadata": {
    "ExecuteTime": {
     "end_time": "2019-02-19T02:11:37.859388Z",
     "start_time": "2019-02-19T02:10:41.416183Z"
    }
   },
   "outputs": [],
   "source": [
    "users = pd.read_csv('data/user_dict.csv', header=None)\n",
    "user_dict = {row[1][0]:int(row[1][1]) for row in users.iterrows()}"
   ]
  },
  {
   "cell_type": "code",
   "execution_count": 4,
   "metadata": {
    "ExecuteTime": {
     "end_time": "2019-02-19T02:11:37.869783Z",
     "start_time": "2019-02-19T02:11:37.861399Z"
    }
   },
   "outputs": [],
   "source": [
    "# Load mapping of user_id_hash to user_id\n",
    "name = 'user_id_hash'\n",
    "fn = UserDefinedFunction(lambda x: user_dict[x], IntegerType())"
   ]
  },
  {
   "cell_type": "code",
   "execution_count": 65,
   "metadata": {
    "ExecuteTime": {
     "end_time": "2019-02-19T03:19:06.614160Z",
     "start_time": "2019-02-19T03:17:48.409432Z"
    }
   },
   "outputs": [
    {
     "name": "stdout",
     "output_type": "stream",
     "text": [
      "+------------------+---------------+-----------+-------+\n",
      "|             event|event_timestamp|event_value|user_id|\n",
      "+------------------+---------------+-----------+-------+\n",
      "|                45|  1542215397132|        0.0| 554721|\n",
      "|                45|  1542215484895|        0.0| 554721|\n",
      "|.m5100869650219008|  1541124410372|        0.0| 554721|\n",
      "|                 4|  1543713091129|        0.0| 554721|\n",
      "|                 6|  1543713093116|        0.0| 554721|\n",
      "+------------------+---------------+-----------+-------+\n",
      "only showing top 5 rows\n",
      "\n"
     ]
    }
   ],
   "source": [
    "# Load events data, map id_hash to user_id, show first few rows\n",
    "df = ss.read.csv('data/events.csv', header=True, inferSchema=True)\n",
    "df = df.withColumn('user_id', fn(df.user_id_hash))\\\n",
    "        .drop('user_id_hash', 'app_id', 'session_id')\n",
    "df.show(5)"
   ]
  },
  {
   "cell_type": "code",
   "execution_count": 12,
   "metadata": {
    "ExecuteTime": {
     "end_time": "2019-02-19T02:24:25.560553Z",
     "start_time": "2019-02-19T02:23:28.093212Z"
    }
   },
   "outputs": [
    {
     "data": {
      "text/plain": [
       "111946597"
      ]
     },
     "execution_count": 12,
     "metadata": {},
     "output_type": "execute_result"
    }
   ],
   "source": [
    "# Count number of events\n",
    "df.count()"
   ]
  },
  {
   "cell_type": "code",
   "execution_count": 15,
   "metadata": {
    "ExecuteTime": {
     "end_time": "2019-02-19T02:30:18.176272Z",
     "start_time": "2019-02-19T02:29:13.219606Z"
    }
   },
   "outputs": [
    {
     "data": {
      "text/plain": [
       "109"
      ]
     },
     "execution_count": 15,
     "metadata": {},
     "output_type": "execute_result"
    }
   ],
   "source": [
    "# Count number of distinct events\n",
    "df.select('event').distinct().count()"
   ]
  },
  {
   "cell_type": "code",
   "execution_count": 73,
   "metadata": {
    "ExecuteTime": {
     "end_time": "2019-02-19T03:27:22.406253Z",
     "start_time": "2019-02-19T03:25:03.464843Z"
    }
   },
   "outputs": [
    {
     "data": {
      "text/plain": [
       "621001"
      ]
     },
     "execution_count": 73,
     "metadata": {},
     "output_type": "execute_result"
    }
   ],
   "source": [
    "# Count number of distinct user_ids\n",
    "df.select('user_id').distinct().count()"
   ]
  },
  {
   "cell_type": "code",
   "execution_count": 16,
   "metadata": {
    "ExecuteTime": {
     "end_time": "2019-02-19T02:32:23.504810Z",
     "start_time": "2019-02-19T02:31:20.237302Z"
    }
   },
   "outputs": [
    {
     "name": "stdout",
     "output_type": "stream",
     "text": [
      "+------------------+--------+\n",
      "|             event|   count|\n",
      "+------------------+--------+\n",
      "|                45|75493931|\n",
      "|                 1| 5363926|\n",
      "|                 5| 4887922|\n",
      "|                 6| 4068474|\n",
      "|                14| 3491117|\n",
      "|                 4| 3435363|\n",
      "|                40| 2775997|\n",
      "|                 7| 1970903|\n",
      "|                41| 1969223|\n",
      "|                 3| 1828494|\n",
      "|                42| 1598212|\n",
      "|.a5027911885258752|  618037|\n",
      "|.a5400102822346752|  604699|\n",
      "|                44|  495590|\n",
      "|.a5516611293544448|  411053|\n",
      "|                 0|  407118|\n",
      "|                63|  347198|\n",
      "|                47|  310038|\n",
      "|                57|  271268|\n",
      "|                 8|  265034|\n",
      "+------------------+--------+\n",
      "only showing top 20 rows\n",
      "\n"
     ]
    }
   ],
   "source": [
    "# Group by event and count of top events\n",
    "df.groupby(df.event).count().orderBy('count',ascending=False).show()"
   ]
  },
  {
   "cell_type": "markdown",
   "metadata": {},
   "source": [
    "### Purchases"
   ]
  },
  {
   "cell_type": "code",
   "execution_count": 72,
   "metadata": {
    "ExecuteTime": {
     "end_time": "2019-02-19T03:22:56.363927Z",
     "start_time": "2019-02-19T03:21:25.464051Z"
    }
   },
   "outputs": [
    {
     "data": {
      "text/plain": [
       "event              265017\n",
       "event_timestamp    265017\n",
       "event_value        265017\n",
       "user_id            265017\n",
       "datetime           265017\n",
       "dtype: int64"
      ]
     },
     "execution_count": 72,
     "metadata": {},
     "output_type": "execute_result"
    }
   ],
   "source": [
    "# Filter for purchases, get date, and count of purchases\n",
    "purchases = df.filter(\"event == 8\").toPandas()\n",
    "from datetime import datetime\n",
    "purchases['datetime'] = purchases['event_timestamp']\\\n",
    "                        .apply(lambda x:datetime.fromtimestamp(x/1000))\n",
    "purchases = purchases[purchases['event_value'] != 0]\n",
    "purchases.count()"
   ]
  },
  {
   "cell_type": "code",
   "execution_count": 71,
   "metadata": {
    "ExecuteTime": {
     "end_time": "2019-02-19T03:21:10.265465Z",
     "start_time": "2019-02-19T03:21:10.113240Z"
    }
   },
   "outputs": [
    {
     "data": {
      "text/plain": [
       "Text(0, 0.5, 'Number of Purchases')"
      ]
     },
     "execution_count": 71,
     "metadata": {},
     "output_type": "execute_result"
    },
    {
     "data": {
      "image/png": "[encoded data removed]",
      "text/plain": [
       "<Figure size 432x288 with 1 Axes>"
      ]
     },
     "metadata": {
      "needs_background": "light"
     },
     "output_type": "display_data"
    }
   ],
   "source": [
    "# Plot purchase count by month\n",
    "purchases.groupby(purchases[\"datetime\"].dt.month)['event'].count().plot(kind=\"bar\")\n",
    "plt.ylabel('Number of Purchases')"
   ]
  },
  {
   "cell_type": "code",
   "execution_count": 70,
   "metadata": {
    "ExecuteTime": {
     "end_time": "2019-02-19T03:21:04.488316Z",
     "start_time": "2019-02-19T03:21:04.225112Z"
    }
   },
   "outputs": [
    {
     "data": {
      "text/plain": [
       "Text(0, 0.5, 'Number of Purchases')"
      ]
     },
     "execution_count": 70,
     "metadata": {},
     "output_type": "execute_result"
    },
    {
     "data": {
      "image/png": "[encoded data removed]",
      "text/plain": [
       "<Figure size 432x288 with 1 Axes>"
      ]
     },
     "metadata": {
      "needs_background": "light"
     },
     "output_type": "display_data"
    }
   ],
   "source": [
    "# Purchases by hour of the day\n",
    "purchases.groupby(purchases[\"datetime\"].dt.hour)['event'].count().plot(kind=\"bar\")\n",
    "plt.ylabel('Number of Purchases')"
   ]
  },
  {
   "cell_type": "code",
   "execution_count": 68,
   "metadata": {
    "ExecuteTime": {
     "end_time": "2019-02-19T03:20:21.206437Z",
     "start_time": "2019-02-19T03:20:20.954966Z"
    }
   },
   "outputs": [
    {
     "data": {
      "text/plain": [
       "Text(0, 0.5, 'Number of Users')"
      ]
     },
     "execution_count": 68,
     "metadata": {},
     "output_type": "execute_result"
    },
    {
     "data": {
      "image/png": "[encoded data removed]",
      "text/plain": [
       "<Figure size 432x288 with 1 Axes>"
      ]
     },
     "metadata": {
      "needs_background": "light"
     },
     "output_type": "display_data"
    }
   ],
   "source": [
    "# Count of users by number of purchases (top 20 most common)\n",
    "user_purchases = purchases.groupby(purchases.user_id)['event']\\\n",
    "        .count().reset_index()\n",
    "user_purchases.columns = ['user_id', 'count_purchases']\n",
    "user_purchases.groupby(user_purchases.count_purchases)['user_id']\\\n",
    "        .count().sort_values(ascending=False)\\\n",
    "        .iloc[:20].plot(kind='bar')\n",
    "plt.ylabel('Number of Users')"
   ]
  },
  {
   "cell_type": "code",
   "execution_count": 75,
   "metadata": {
    "ExecuteTime": {
     "end_time": "2019-02-19T03:28:13.452512Z",
     "start_time": "2019-02-19T03:28:13.208674Z"
    }
   },
   "outputs": [
    {
     "data": {
      "text/plain": [
       "Text(0, 0.5, 'Number of Users')"
      ]
     },
     "execution_count": 75,
     "metadata": {},
     "output_type": "execute_result"
    },
    {
     "data": {
      "image/png": "[encoded data removed]",
      "text/plain": [
       "<Figure size 432x288 with 1 Axes>"
      ]
     },
     "metadata": {
      "needs_background": "light"
     },
     "output_type": "display_data"
    }
   ],
   "source": [
    "# Group by user sum of total purchases histogram (number of users)\n",
    "user_purchase_sum = purchases.groupby(purchases.user_id)['event_value']\\\n",
    "        .sum().reset_index()\n",
    "user_purchase_sum.event_value.hist(bins=50, range=[0,100])\n",
    "plt.xlabel('Total Amount of Purchases')\n",
    "plt.ylabel('Number of Users')"
   ]
  },
  {
   "cell_type": "code",
   "execution_count": null,
   "metadata": {},
   "outputs": [],
   "source": []
  }
 ],
 "metadata": {
  "kernelspec": {
   "display_name": "Python 3",
   "language": "python",
   "name": "python3"
  },
  "language_info": {
   "codemirror_mode": {
    "name": "ipython",
    "version": 3
   },
   "file_extension": ".py",
   "mimetype": "text/x-python",
   "name": "python",
   "nbconvert_exporter": "python",
   "pygments_lexer": "ipython3",
   "version": "3.6.8"
  }
 },
 "nbformat": 4,
 "nbformat_minor": 2
}
