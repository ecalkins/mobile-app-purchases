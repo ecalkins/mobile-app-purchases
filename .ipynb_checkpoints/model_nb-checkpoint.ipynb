{
 "cells": [
  {
   "cell_type": "markdown",
   "metadata": {},
   "source": [
    "## ML Notebook"
   ]
  },
  {
   "cell_type": "code",
   "execution_count": 26,
   "metadata": {
    "ExecuteTime": {
     "end_time": "2019-03-06T06:20:58.498175Z",
     "start_time": "2019-03-06T06:20:58.494566Z"
    }
   },
   "outputs": [],
   "source": [
    "import pandas as pd\n",
    "import numpy as np\n",
    "import boto3\n",
    "import io\n",
    "from sklearn.model_selection import train_test_split\n",
    "from sklearn.linear_model import LogisticRegression\n",
    "from sklearn.neighbors import KNeighborsClassifier\n",
    "from sklearn.naive_bayes import GaussianNB \n",
    "from sklearn.ensemble import RandomForestClassifier\n",
    "from sklearn.model_selection import GridSearchCV\n",
    "from sklearn.metrics import roc_curve\n",
    "from sklearn.metrics import auc"
   ]
  },
  {
   "cell_type": "code",
   "execution_count": 27,
   "metadata": {
    "ExecuteTime": {
     "end_time": "2019-03-06T06:20:59.317998Z",
     "start_time": "2019-03-06T06:20:59.315646Z"
    }
   },
   "outputs": [],
   "source": [
    "# Note - sagemaker doesn't have these libraries \n",
    "from xgboost import XGBClassifier\n",
    "from mlxtend.classifier import StackingClassifier"
   ]
  },
  {
   "cell_type": "code",
   "execution_count": 28,
   "metadata": {
    "ExecuteTime": {
     "end_time": "2019-03-06T06:21:10.591872Z",
     "start_time": "2019-03-06T06:21:06.309421Z"
    }
   },
   "outputs": [
    {
     "data": {
      "text/html": [
       "<div>\n",
       "<style scoped>\n",
       "    .dataframe tbody tr th:only-of-type {\n",
       "        vertical-align: middle;\n",
       "    }\n",
       "\n",
       "    .dataframe tbody tr th {\n",
       "        vertical-align: top;\n",
       "    }\n",
       "\n",
       "    .dataframe thead th {\n",
       "        text-align: right;\n",
       "    }\n",
       "</style>\n",
       "<table border=\"1\" class=\"dataframe\">\n",
       "  <thead>\n",
       "    <tr style=\"text-align: right;\">\n",
       "      <th></th>\n",
       "      <th>purchase_count_total</th>\n",
       "      <th>purchase_count_last_week</th>\n",
       "      <th>purchase_count_2_weeks</th>\n",
       "      <th>purchase_sum_total</th>\n",
       "      <th>purchase_sum_last_week</th>\n",
       "      <th>purchase_sum_2_weeks</th>\n",
       "    </tr>\n",
       "    <tr>\n",
       "      <th>user_id</th>\n",
       "      <th></th>\n",
       "      <th></th>\n",
       "      <th></th>\n",
       "      <th></th>\n",
       "      <th></th>\n",
       "      <th></th>\n",
       "    </tr>\n",
       "  </thead>\n",
       "  <tbody>\n",
       "    <tr>\n",
       "      <th>0</th>\n",
       "      <td>0.0</td>\n",
       "      <td>0.0</td>\n",
       "      <td>0.0</td>\n",
       "      <td>0.0</td>\n",
       "      <td>0.0</td>\n",
       "      <td>0.0</td>\n",
       "    </tr>\n",
       "    <tr>\n",
       "      <th>1</th>\n",
       "      <td>0.0</td>\n",
       "      <td>0.0</td>\n",
       "      <td>0.0</td>\n",
       "      <td>0.0</td>\n",
       "      <td>0.0</td>\n",
       "      <td>0.0</td>\n",
       "    </tr>\n",
       "    <tr>\n",
       "      <th>2</th>\n",
       "      <td>0.0</td>\n",
       "      <td>0.0</td>\n",
       "      <td>0.0</td>\n",
       "      <td>0.0</td>\n",
       "      <td>0.0</td>\n",
       "      <td>0.0</td>\n",
       "    </tr>\n",
       "    <tr>\n",
       "      <th>3</th>\n",
       "      <td>0.0</td>\n",
       "      <td>0.0</td>\n",
       "      <td>0.0</td>\n",
       "      <td>0.0</td>\n",
       "      <td>0.0</td>\n",
       "      <td>0.0</td>\n",
       "    </tr>\n",
       "    <tr>\n",
       "      <th>4</th>\n",
       "      <td>0.0</td>\n",
       "      <td>0.0</td>\n",
       "      <td>0.0</td>\n",
       "      <td>0.0</td>\n",
       "      <td>0.0</td>\n",
       "      <td>0.0</td>\n",
       "    </tr>\n",
       "  </tbody>\n",
       "</table>\n",
       "</div>"
      ],
      "text/plain": [
       "         purchase_count_total  purchase_count_last_week  \\\n",
       "user_id                                                   \n",
       "0                         0.0                       0.0   \n",
       "1                         0.0                       0.0   \n",
       "2                         0.0                       0.0   \n",
       "3                         0.0                       0.0   \n",
       "4                         0.0                       0.0   \n",
       "\n",
       "         purchase_count_2_weeks  purchase_sum_total  purchase_sum_last_week  \\\n",
       "user_id                                                                       \n",
       "0                           0.0                 0.0                     0.0   \n",
       "1                           0.0                 0.0                     0.0   \n",
       "2                           0.0                 0.0                     0.0   \n",
       "3                           0.0                 0.0                     0.0   \n",
       "4                           0.0                 0.0                     0.0   \n",
       "\n",
       "         purchase_sum_2_weeks  \n",
       "user_id                        \n",
       "0                         0.0  \n",
       "1                         0.0  \n",
       "2                         0.0  \n",
       "3                         0.0  \n",
       "4                         0.0  "
      ]
     },
     "execution_count": 28,
     "metadata": {},
     "output_type": "execute_result"
    }
   ],
   "source": [
    "# Load data from S3\n",
    "s3 = boto3.client('s3')\n",
    "obj = s3.get_object(Bucket='ec-ml2-final-project', Key='features_events.csv')\n",
    "events = pd.read_csv(io.BytesIO(obj['Body'].read())).set_index('user_id')\n",
    "events.head()"
   ]
  },
  {
   "cell_type": "code",
   "execution_count": 29,
   "metadata": {
    "ExecuteTime": {
     "end_time": "2019-03-06T06:21:53.300016Z",
     "start_time": "2019-03-06T06:21:18.509825Z"
    }
   },
   "outputs": [
    {
     "data": {
      "text/html": [
       "<div>\n",
       "<style scoped>\n",
       "    .dataframe tbody tr th:only-of-type {\n",
       "        vertical-align: middle;\n",
       "    }\n",
       "\n",
       "    .dataframe tbody tr th {\n",
       "        vertical-align: top;\n",
       "    }\n",
       "\n",
       "    .dataframe thead th {\n",
       "        text-align: right;\n",
       "    }\n",
       "</style>\n",
       "<table border=\"1\" class=\"dataframe\">\n",
       "  <thead>\n",
       "    <tr style=\"text-align: right;\">\n",
       "      <th></th>\n",
       "      <th>id_</th>\n",
       "      <th>cr_from_now</th>\n",
       "      <th>is_developer3</th>\n",
       "      <th>online_ss_pct</th>\n",
       "      <th>last2week_ss_duration</th>\n",
       "      <th>total_count</th>\n",
       "      <th>last2week_count</th>\n",
       "      <th>last5day_count</th>\n",
       "      <th>weekend_count</th>\n",
       "      <th>weekday_count</th>\n",
       "      <th>...</th>\n",
       "      <th>r11</th>\n",
       "      <th>r12</th>\n",
       "      <th>r13</th>\n",
       "      <th>r14</th>\n",
       "      <th>r15</th>\n",
       "      <th>r16</th>\n",
       "      <th>r17</th>\n",
       "      <th>r18</th>\n",
       "      <th>r19</th>\n",
       "      <th>r20</th>\n",
       "    </tr>\n",
       "  </thead>\n",
       "  <tbody>\n",
       "    <tr>\n",
       "      <th>0</th>\n",
       "      <td>0</td>\n",
       "      <td>38.0</td>\n",
       "      <td>1.0</td>\n",
       "      <td>0.0</td>\n",
       "      <td>0.0</td>\n",
       "      <td>1.0</td>\n",
       "      <td>0.0</td>\n",
       "      <td>0.0</td>\n",
       "      <td>0.0</td>\n",
       "      <td>1.0</td>\n",
       "      <td>...</td>\n",
       "      <td>0.0</td>\n",
       "      <td>0.0</td>\n",
       "      <td>0.0</td>\n",
       "      <td>0.0</td>\n",
       "      <td>0.0</td>\n",
       "      <td>0.0</td>\n",
       "      <td>0.0</td>\n",
       "      <td>1.0</td>\n",
       "      <td>0.0</td>\n",
       "      <td>0.0</td>\n",
       "    </tr>\n",
       "    <tr>\n",
       "      <th>1</th>\n",
       "      <td>1</td>\n",
       "      <td>31.0</td>\n",
       "      <td>1.0</td>\n",
       "      <td>0.0</td>\n",
       "      <td>5980318.0</td>\n",
       "      <td>9.0</td>\n",
       "      <td>1.0</td>\n",
       "      <td>0.0</td>\n",
       "      <td>1.0</td>\n",
       "      <td>8.0</td>\n",
       "      <td>...</td>\n",
       "      <td>0.0</td>\n",
       "      <td>0.0</td>\n",
       "      <td>0.0</td>\n",
       "      <td>0.0</td>\n",
       "      <td>0.0</td>\n",
       "      <td>1.0</td>\n",
       "      <td>0.0</td>\n",
       "      <td>0.0</td>\n",
       "      <td>0.0</td>\n",
       "      <td>0.0</td>\n",
       "    </tr>\n",
       "    <tr>\n",
       "      <th>2</th>\n",
       "      <td>2</td>\n",
       "      <td>27.0</td>\n",
       "      <td>1.0</td>\n",
       "      <td>0.0</td>\n",
       "      <td>0.0</td>\n",
       "      <td>8.0</td>\n",
       "      <td>0.0</td>\n",
       "      <td>0.0</td>\n",
       "      <td>7.0</td>\n",
       "      <td>1.0</td>\n",
       "      <td>...</td>\n",
       "      <td>0.0</td>\n",
       "      <td>0.0</td>\n",
       "      <td>0.0</td>\n",
       "      <td>0.0</td>\n",
       "      <td>0.0</td>\n",
       "      <td>0.0</td>\n",
       "      <td>0.0</td>\n",
       "      <td>0.0</td>\n",
       "      <td>0.0</td>\n",
       "      <td>0.0</td>\n",
       "    </tr>\n",
       "    <tr>\n",
       "      <th>3</th>\n",
       "      <td>3</td>\n",
       "      <td>12.0</td>\n",
       "      <td>1.0</td>\n",
       "      <td>0.0</td>\n",
       "      <td>1034377.0</td>\n",
       "      <td>2.0</td>\n",
       "      <td>2.0</td>\n",
       "      <td>0.0</td>\n",
       "      <td>1.0</td>\n",
       "      <td>1.0</td>\n",
       "      <td>...</td>\n",
       "      <td>0.0</td>\n",
       "      <td>0.0</td>\n",
       "      <td>0.0</td>\n",
       "      <td>0.0</td>\n",
       "      <td>0.0</td>\n",
       "      <td>0.0</td>\n",
       "      <td>0.0</td>\n",
       "      <td>0.0</td>\n",
       "      <td>0.0</td>\n",
       "      <td>0.0</td>\n",
       "    </tr>\n",
       "    <tr>\n",
       "      <th>4</th>\n",
       "      <td>4</td>\n",
       "      <td>11.0</td>\n",
       "      <td>1.0</td>\n",
       "      <td>0.0</td>\n",
       "      <td>1361068.0</td>\n",
       "      <td>3.0</td>\n",
       "      <td>3.0</td>\n",
       "      <td>0.0</td>\n",
       "      <td>2.0</td>\n",
       "      <td>1.0</td>\n",
       "      <td>...</td>\n",
       "      <td>0.0</td>\n",
       "      <td>0.0</td>\n",
       "      <td>0.0</td>\n",
       "      <td>0.0</td>\n",
       "      <td>0.0</td>\n",
       "      <td>0.0</td>\n",
       "      <td>0.0</td>\n",
       "      <td>0.0</td>\n",
       "      <td>0.0</td>\n",
       "      <td>0.0</td>\n",
       "    </tr>\n",
       "  </tbody>\n",
       "</table>\n",
       "<p>5 rows × 30 columns</p>\n",
       "</div>"
      ],
      "text/plain": [
       "   id_  cr_from_now  is_developer3  online_ss_pct  last2week_ss_duration  \\\n",
       "0    0         38.0            1.0            0.0                    0.0   \n",
       "1    1         31.0            1.0            0.0              5980318.0   \n",
       "2    2         27.0            1.0            0.0                    0.0   \n",
       "3    3         12.0            1.0            0.0              1034377.0   \n",
       "4    4         11.0            1.0            0.0              1361068.0   \n",
       "\n",
       "   total_count  last2week_count  last5day_count  weekend_count  weekday_count  \\\n",
       "0          1.0              0.0             0.0            0.0            1.0   \n",
       "1          9.0              1.0             0.0            1.0            8.0   \n",
       "2          8.0              0.0             0.0            7.0            1.0   \n",
       "3          2.0              2.0             0.0            1.0            1.0   \n",
       "4          3.0              3.0             0.0            2.0            1.0   \n",
       "\n",
       "   ...  r11  r12  r13  r14  r15  r16  r17  r18  r19  r20  \n",
       "0  ...  0.0  0.0  0.0  0.0  0.0  0.0  0.0  1.0  0.0  0.0  \n",
       "1  ...  0.0  0.0  0.0  0.0  0.0  1.0  0.0  0.0  0.0  0.0  \n",
       "2  ...  0.0  0.0  0.0  0.0  0.0  0.0  0.0  0.0  0.0  0.0  \n",
       "3  ...  0.0  0.0  0.0  0.0  0.0  0.0  0.0  0.0  0.0  0.0  \n",
       "4  ...  0.0  0.0  0.0  0.0  0.0  0.0  0.0  0.0  0.0  0.0  \n",
       "\n",
       "[5 rows x 30 columns]"
      ]
     },
     "execution_count": 29,
     "metadata": {},
     "output_type": "execute_result"
    }
   ],
   "source": [
    "# Optional attributes features to include (leakage)\n",
    "# obj = s3.get_object(Bucket='ec-ml2-final-project', Key='attributes_features.csv')\n",
    "# attributes = pd.read_csv(io.BytesIO(obj['Body'].read()))\\\n",
    "#         .set_index('user_id')\\\n",
    "#         .drop('Unnamed: 0', axis=1)\n",
    "obj = s3.get_object(Bucket='ec-ml2-final-project', Key='features_events.csv')\n",
    "events = pd.read_csv(io.BytesIO(obj['Body'].read()))\n",
    "obj = s3.get_object(Bucket='ec-ml2-final-project', Key='features_events_full.csv')\n",
    "events_full = pd.read_csv(io.BytesIO(obj['Body'].read())).set_index('user_id')\n",
    "obj = s3.get_object(Bucket='ec-ml2-final-project', Key='features_session_training6.0.csv')\n",
    "sessions = pd.read_csv(io.BytesIO(obj['Body'].read()))\n",
    "obj = s3.get_object(Bucket='ec-ml2-final-project', Key='features_session_full6.0.csv')\n",
    "sessions_full = pd.read_csv(io.BytesIO(obj['Body'].read()))\n",
    "sessions.head()"
   ]
  },
  {
   "cell_type": "code",
   "execution_count": 5,
   "metadata": {
    "ExecuteTime": {
     "end_time": "2019-03-05T04:14:32.203310Z",
     "start_time": "2019-03-05T04:14:30.875442Z"
    }
   },
   "outputs": [
    {
     "data": {
      "text/html": [
       "<div>\n",
       "<style scoped>\n",
       "    .dataframe tbody tr th:only-of-type {\n",
       "        vertical-align: middle;\n",
       "    }\n",
       "\n",
       "    .dataframe tbody tr th {\n",
       "        vertical-align: top;\n",
       "    }\n",
       "\n",
       "    .dataframe thead th {\n",
       "        text-align: right;\n",
       "    }\n",
       "</style>\n",
       "<table border=\"1\" class=\"dataframe\">\n",
       "  <thead>\n",
       "    <tr style=\"text-align: right;\">\n",
       "      <th></th>\n",
       "      <th>attr_0</th>\n",
       "      <th>attr_1</th>\n",
       "      <th>attr_2</th>\n",
       "      <th>attr_3</th>\n",
       "      <th>attr_5</th>\n",
       "      <th>attr_7</th>\n",
       "      <th>attr_8</th>\n",
       "      <th>attr_13</th>\n",
       "      <th>attr_14</th>\n",
       "      <th>attr_15</th>\n",
       "      <th>attr_25</th>\n",
       "      <th>attr_27</th>\n",
       "    </tr>\n",
       "    <tr>\n",
       "      <th>user_id</th>\n",
       "      <th></th>\n",
       "      <th></th>\n",
       "      <th></th>\n",
       "      <th></th>\n",
       "      <th></th>\n",
       "      <th></th>\n",
       "      <th></th>\n",
       "      <th></th>\n",
       "      <th></th>\n",
       "      <th></th>\n",
       "      <th></th>\n",
       "      <th></th>\n",
       "    </tr>\n",
       "  </thead>\n",
       "  <tbody>\n",
       "    <tr>\n",
       "      <th>0</th>\n",
       "      <td>0.0</td>\n",
       "      <td>0.0</td>\n",
       "      <td>0.0</td>\n",
       "      <td>0.0</td>\n",
       "      <td>0.0</td>\n",
       "      <td>0.0</td>\n",
       "      <td>0.0</td>\n",
       "      <td>0.0</td>\n",
       "      <td>0.0</td>\n",
       "      <td>0.0</td>\n",
       "      <td>0.0</td>\n",
       "      <td>0.0</td>\n",
       "    </tr>\n",
       "    <tr>\n",
       "      <th>1</th>\n",
       "      <td>0.0</td>\n",
       "      <td>0.0</td>\n",
       "      <td>0.0</td>\n",
       "      <td>0.0</td>\n",
       "      <td>0.0</td>\n",
       "      <td>0.0</td>\n",
       "      <td>0.0</td>\n",
       "      <td>0.0</td>\n",
       "      <td>0.0</td>\n",
       "      <td>0.0</td>\n",
       "      <td>0.0</td>\n",
       "      <td>0.0</td>\n",
       "    </tr>\n",
       "    <tr>\n",
       "      <th>2</th>\n",
       "      <td>0.0</td>\n",
       "      <td>0.0</td>\n",
       "      <td>0.0</td>\n",
       "      <td>0.0</td>\n",
       "      <td>0.0</td>\n",
       "      <td>0.0</td>\n",
       "      <td>0.0</td>\n",
       "      <td>0.0</td>\n",
       "      <td>0.0</td>\n",
       "      <td>0.0</td>\n",
       "      <td>0.0</td>\n",
       "      <td>0.0</td>\n",
       "    </tr>\n",
       "    <tr>\n",
       "      <th>3</th>\n",
       "      <td>0.0</td>\n",
       "      <td>0.0</td>\n",
       "      <td>0.0</td>\n",
       "      <td>0.0</td>\n",
       "      <td>0.0</td>\n",
       "      <td>0.0</td>\n",
       "      <td>0.0</td>\n",
       "      <td>0.0</td>\n",
       "      <td>0.0</td>\n",
       "      <td>0.0</td>\n",
       "      <td>0.0</td>\n",
       "      <td>0.0</td>\n",
       "    </tr>\n",
       "    <tr>\n",
       "      <th>4</th>\n",
       "      <td>0.0</td>\n",
       "      <td>0.0</td>\n",
       "      <td>0.0</td>\n",
       "      <td>0.0</td>\n",
       "      <td>0.0</td>\n",
       "      <td>0.0</td>\n",
       "      <td>0.0</td>\n",
       "      <td>0.0</td>\n",
       "      <td>0.0</td>\n",
       "      <td>0.0</td>\n",
       "      <td>0.0</td>\n",
       "      <td>0.0</td>\n",
       "    </tr>\n",
       "  </tbody>\n",
       "</table>\n",
       "</div>"
      ],
      "text/plain": [
       "         attr_0  attr_1  attr_2  attr_3  attr_5  attr_7  attr_8  attr_13  \\\n",
       "user_id                                                                    \n",
       "0           0.0     0.0     0.0     0.0     0.0     0.0     0.0      0.0   \n",
       "1           0.0     0.0     0.0     0.0     0.0     0.0     0.0      0.0   \n",
       "2           0.0     0.0     0.0     0.0     0.0     0.0     0.0      0.0   \n",
       "3           0.0     0.0     0.0     0.0     0.0     0.0     0.0      0.0   \n",
       "4           0.0     0.0     0.0     0.0     0.0     0.0     0.0      0.0   \n",
       "\n",
       "         attr_14  attr_15  attr_25  attr_27  \n",
       "user_id                                      \n",
       "0            0.0      0.0      0.0      0.0  \n",
       "1            0.0      0.0      0.0      0.0  \n",
       "2            0.0      0.0      0.0      0.0  \n",
       "3            0.0      0.0      0.0      0.0  \n",
       "4            0.0      0.0      0.0      0.0  "
      ]
     },
     "execution_count": 5,
     "metadata": {},
     "output_type": "execute_result"
    }
   ],
   "source": [
    "# load new attributes features\n",
    "attributes = pd.read_csv('features_attr2.csv').set_index('user_id')\n",
    "attributes_full = pd.read_csv('features_attr2_full.csv').set_index('user_id')\n",
    "attributes.head()"
   ]
  },
  {
   "cell_type": "code",
   "execution_count": 30,
   "metadata": {
    "ExecuteTime": {
     "end_time": "2019-03-06T06:21:53.795480Z",
     "start_time": "2019-03-06T06:21:53.302226Z"
    }
   },
   "outputs": [
    {
     "data": {
      "text/html": [
       "<div>\n",
       "<style scoped>\n",
       "    .dataframe tbody tr th:only-of-type {\n",
       "        vertical-align: middle;\n",
       "    }\n",
       "\n",
       "    .dataframe tbody tr th {\n",
       "        vertical-align: top;\n",
       "    }\n",
       "\n",
       "    .dataframe thead th {\n",
       "        text-align: right;\n",
       "    }\n",
       "</style>\n",
       "<table border=\"1\" class=\"dataframe\">\n",
       "  <thead>\n",
       "    <tr style=\"text-align: right;\">\n",
       "      <th></th>\n",
       "      <th>cr_from_now</th>\n",
       "      <th>is_developer3</th>\n",
       "      <th>online_ss_pct</th>\n",
       "      <th>last2week_ss_duration</th>\n",
       "      <th>total_count</th>\n",
       "      <th>last2week_count</th>\n",
       "      <th>last5day_count</th>\n",
       "      <th>weekend_count</th>\n",
       "      <th>weekday_count</th>\n",
       "      <th>r1</th>\n",
       "      <th>...</th>\n",
       "      <th>r11</th>\n",
       "      <th>r12</th>\n",
       "      <th>r13</th>\n",
       "      <th>r14</th>\n",
       "      <th>r15</th>\n",
       "      <th>r16</th>\n",
       "      <th>r17</th>\n",
       "      <th>r18</th>\n",
       "      <th>r19</th>\n",
       "      <th>r20</th>\n",
       "    </tr>\n",
       "    <tr>\n",
       "      <th>user_id</th>\n",
       "      <th></th>\n",
       "      <th></th>\n",
       "      <th></th>\n",
       "      <th></th>\n",
       "      <th></th>\n",
       "      <th></th>\n",
       "      <th></th>\n",
       "      <th></th>\n",
       "      <th></th>\n",
       "      <th></th>\n",
       "      <th></th>\n",
       "      <th></th>\n",
       "      <th></th>\n",
       "      <th></th>\n",
       "      <th></th>\n",
       "      <th></th>\n",
       "      <th></th>\n",
       "      <th></th>\n",
       "      <th></th>\n",
       "      <th></th>\n",
       "      <th></th>\n",
       "    </tr>\n",
       "  </thead>\n",
       "  <tbody>\n",
       "    <tr>\n",
       "      <th>0</th>\n",
       "      <td>38.0</td>\n",
       "      <td>1.0</td>\n",
       "      <td>0.0</td>\n",
       "      <td>0.0</td>\n",
       "      <td>1.0</td>\n",
       "      <td>0.0</td>\n",
       "      <td>0.0</td>\n",
       "      <td>0.0</td>\n",
       "      <td>1.0</td>\n",
       "      <td>0.0</td>\n",
       "      <td>...</td>\n",
       "      <td>0.0</td>\n",
       "      <td>0.0</td>\n",
       "      <td>0.0</td>\n",
       "      <td>0.0</td>\n",
       "      <td>0.0</td>\n",
       "      <td>0.0</td>\n",
       "      <td>0.0</td>\n",
       "      <td>1.0</td>\n",
       "      <td>0.0</td>\n",
       "      <td>0.0</td>\n",
       "    </tr>\n",
       "    <tr>\n",
       "      <th>1</th>\n",
       "      <td>31.0</td>\n",
       "      <td>1.0</td>\n",
       "      <td>0.0</td>\n",
       "      <td>5980318.0</td>\n",
       "      <td>9.0</td>\n",
       "      <td>1.0</td>\n",
       "      <td>0.0</td>\n",
       "      <td>1.0</td>\n",
       "      <td>8.0</td>\n",
       "      <td>0.0</td>\n",
       "      <td>...</td>\n",
       "      <td>0.0</td>\n",
       "      <td>0.0</td>\n",
       "      <td>0.0</td>\n",
       "      <td>0.0</td>\n",
       "      <td>0.0</td>\n",
       "      <td>1.0</td>\n",
       "      <td>0.0</td>\n",
       "      <td>0.0</td>\n",
       "      <td>0.0</td>\n",
       "      <td>0.0</td>\n",
       "    </tr>\n",
       "    <tr>\n",
       "      <th>2</th>\n",
       "      <td>27.0</td>\n",
       "      <td>1.0</td>\n",
       "      <td>0.0</td>\n",
       "      <td>0.0</td>\n",
       "      <td>8.0</td>\n",
       "      <td>0.0</td>\n",
       "      <td>0.0</td>\n",
       "      <td>7.0</td>\n",
       "      <td>1.0</td>\n",
       "      <td>0.0</td>\n",
       "      <td>...</td>\n",
       "      <td>0.0</td>\n",
       "      <td>0.0</td>\n",
       "      <td>0.0</td>\n",
       "      <td>0.0</td>\n",
       "      <td>0.0</td>\n",
       "      <td>0.0</td>\n",
       "      <td>0.0</td>\n",
       "      <td>0.0</td>\n",
       "      <td>0.0</td>\n",
       "      <td>0.0</td>\n",
       "    </tr>\n",
       "    <tr>\n",
       "      <th>3</th>\n",
       "      <td>12.0</td>\n",
       "      <td>1.0</td>\n",
       "      <td>0.0</td>\n",
       "      <td>1034377.0</td>\n",
       "      <td>2.0</td>\n",
       "      <td>2.0</td>\n",
       "      <td>0.0</td>\n",
       "      <td>1.0</td>\n",
       "      <td>1.0</td>\n",
       "      <td>0.0</td>\n",
       "      <td>...</td>\n",
       "      <td>0.0</td>\n",
       "      <td>0.0</td>\n",
       "      <td>0.0</td>\n",
       "      <td>0.0</td>\n",
       "      <td>0.0</td>\n",
       "      <td>0.0</td>\n",
       "      <td>0.0</td>\n",
       "      <td>0.0</td>\n",
       "      <td>0.0</td>\n",
       "      <td>0.0</td>\n",
       "    </tr>\n",
       "    <tr>\n",
       "      <th>4</th>\n",
       "      <td>11.0</td>\n",
       "      <td>1.0</td>\n",
       "      <td>0.0</td>\n",
       "      <td>1361068.0</td>\n",
       "      <td>3.0</td>\n",
       "      <td>3.0</td>\n",
       "      <td>0.0</td>\n",
       "      <td>2.0</td>\n",
       "      <td>1.0</td>\n",
       "      <td>0.0</td>\n",
       "      <td>...</td>\n",
       "      <td>0.0</td>\n",
       "      <td>0.0</td>\n",
       "      <td>0.0</td>\n",
       "      <td>0.0</td>\n",
       "      <td>0.0</td>\n",
       "      <td>0.0</td>\n",
       "      <td>0.0</td>\n",
       "      <td>0.0</td>\n",
       "      <td>0.0</td>\n",
       "      <td>0.0</td>\n",
       "    </tr>\n",
       "  </tbody>\n",
       "</table>\n",
       "<p>5 rows × 29 columns</p>\n",
       "</div>"
      ],
      "text/plain": [
       "         cr_from_now  is_developer3  online_ss_pct  last2week_ss_duration  \\\n",
       "user_id                                                                     \n",
       "0               38.0            1.0            0.0                    0.0   \n",
       "1               31.0            1.0            0.0              5980318.0   \n",
       "2               27.0            1.0            0.0                    0.0   \n",
       "3               12.0            1.0            0.0              1034377.0   \n",
       "4               11.0            1.0            0.0              1361068.0   \n",
       "\n",
       "         total_count  last2week_count  last5day_count  weekend_count  \\\n",
       "user_id                                                                \n",
       "0                1.0              0.0             0.0            0.0   \n",
       "1                9.0              1.0             0.0            1.0   \n",
       "2                8.0              0.0             0.0            7.0   \n",
       "3                2.0              2.0             0.0            1.0   \n",
       "4                3.0              3.0             0.0            2.0   \n",
       "\n",
       "         weekday_count   r1  ...  r11  r12  r13  r14  r15  r16  r17  r18  r19  \\\n",
       "user_id                      ...                                                \n",
       "0                  1.0  0.0  ...  0.0  0.0  0.0  0.0  0.0  0.0  0.0  1.0  0.0   \n",
       "1                  8.0  0.0  ...  0.0  0.0  0.0  0.0  0.0  1.0  0.0  0.0  0.0   \n",
       "2                  1.0  0.0  ...  0.0  0.0  0.0  0.0  0.0  0.0  0.0  0.0  0.0   \n",
       "3                  1.0  0.0  ...  0.0  0.0  0.0  0.0  0.0  0.0  0.0  0.0  0.0   \n",
       "4                  1.0  0.0  ...  0.0  0.0  0.0  0.0  0.0  0.0  0.0  0.0  0.0   \n",
       "\n",
       "         r20  \n",
       "user_id       \n",
       "0        0.0  \n",
       "1        0.0  \n",
       "2        0.0  \n",
       "3        0.0  \n",
       "4        0.0  \n",
       "\n",
       "[5 rows x 29 columns]"
      ]
     },
     "execution_count": 30,
     "metadata": {},
     "output_type": "execute_result"
    }
   ],
   "source": [
    "sessions_full['user_id'] = sessions_full['id_']\n",
    "sessions_full = sessions_full.drop('id_', axis=1).set_index('user_id')\n",
    "sessions['user_id'] = sessions['id_']\n",
    "sessions = sessions.drop('id_', axis=1).set_index('user_id')\n",
    "sessions.head()"
   ]
  },
  {
   "cell_type": "code",
   "execution_count": 31,
   "metadata": {
    "ExecuteTime": {
     "end_time": "2019-03-06T06:21:56.055161Z",
     "start_time": "2019-03-06T06:21:53.796979Z"
    }
   },
   "outputs": [],
   "source": [
    "obj = s3.get_object(Bucket='ec-ml2-final-project', Key='labels14.csv')\n",
    "labels14 = pd.read_csv(io.BytesIO(obj['Body'].read())).set_index('user_id')\n",
    "obj = s3.get_object(Bucket='ec-ml2-final-project', Key='labels7.csv')\n",
    "labels7 = pd.read_csv(io.BytesIO(obj['Body'].read())).set_index('user_id')"
   ]
  },
  {
   "cell_type": "code",
   "execution_count": 32,
   "metadata": {
    "ExecuteTime": {
     "end_time": "2019-03-06T06:22:59.844487Z",
     "start_time": "2019-03-06T06:21:56.057315Z"
    }
   },
   "outputs": [],
   "source": [
    "obj = s3.get_object(Bucket='ec-ml2-final-project', Key='user_dict.csv')\n",
    "users = pd.read_csv(io.BytesIO(obj['Body'].read()), header=None)\n",
    "inv_user_dict = {row[1][1]:row[1][0] for row in users.iterrows()}"
   ]
  },
  {
   "cell_type": "code",
   "execution_count": 33,
   "metadata": {
    "ExecuteTime": {
     "end_time": "2019-03-06T06:23:01.700382Z",
     "start_time": "2019-03-06T06:22:59.846497Z"
    }
   },
   "outputs": [
    {
     "data": {
      "text/html": [
       "<div>\n",
       "<style scoped>\n",
       "    .dataframe tbody tr th:only-of-type {\n",
       "        vertical-align: middle;\n",
       "    }\n",
       "\n",
       "    .dataframe tbody tr th {\n",
       "        vertical-align: top;\n",
       "    }\n",
       "\n",
       "    .dataframe thead th {\n",
       "        text-align: right;\n",
       "    }\n",
       "</style>\n",
       "<table border=\"1\" class=\"dataframe\">\n",
       "  <thead>\n",
       "    <tr style=\"text-align: right;\">\n",
       "      <th></th>\n",
       "      <th>e3_count_1_week</th>\n",
       "      <th>e4_count_1_week</th>\n",
       "      <th>e5_count_1_week</th>\n",
       "      <th>e6_count_1_week</th>\n",
       "      <th>e7_count_1_week</th>\n",
       "      <th>e40_count_1_week</th>\n",
       "      <th>e41_count_1_week</th>\n",
       "      <th>e42_count_1_week</th>\n",
       "      <th>e3_count_2_week</th>\n",
       "      <th>e4_count_2_week</th>\n",
       "      <th>e5_count_2_week</th>\n",
       "      <th>e6_count_2_week</th>\n",
       "      <th>e7_count_2_week</th>\n",
       "      <th>e40_count_2_week</th>\n",
       "      <th>e41_count_2_week</th>\n",
       "      <th>e42_count_2_week</th>\n",
       "    </tr>\n",
       "    <tr>\n",
       "      <th>user_id</th>\n",
       "      <th></th>\n",
       "      <th></th>\n",
       "      <th></th>\n",
       "      <th></th>\n",
       "      <th></th>\n",
       "      <th></th>\n",
       "      <th></th>\n",
       "      <th></th>\n",
       "      <th></th>\n",
       "      <th></th>\n",
       "      <th></th>\n",
       "      <th></th>\n",
       "      <th></th>\n",
       "      <th></th>\n",
       "      <th></th>\n",
       "      <th></th>\n",
       "    </tr>\n",
       "  </thead>\n",
       "  <tbody>\n",
       "    <tr>\n",
       "      <th>0</th>\n",
       "      <td>0.0</td>\n",
       "      <td>0.0</td>\n",
       "      <td>0.0</td>\n",
       "      <td>0.0</td>\n",
       "      <td>0.0</td>\n",
       "      <td>0.0</td>\n",
       "      <td>0.0</td>\n",
       "      <td>0.0</td>\n",
       "      <td>0.0</td>\n",
       "      <td>0.0</td>\n",
       "      <td>0.0</td>\n",
       "      <td>0.0</td>\n",
       "      <td>0.0</td>\n",
       "      <td>0.0</td>\n",
       "      <td>0.0</td>\n",
       "      <td>0.0</td>\n",
       "    </tr>\n",
       "    <tr>\n",
       "      <th>1</th>\n",
       "      <td>0.0</td>\n",
       "      <td>0.0</td>\n",
       "      <td>0.0</td>\n",
       "      <td>0.0</td>\n",
       "      <td>0.0</td>\n",
       "      <td>0.0</td>\n",
       "      <td>0.0</td>\n",
       "      <td>0.0</td>\n",
       "      <td>0.0</td>\n",
       "      <td>0.0</td>\n",
       "      <td>0.0</td>\n",
       "      <td>0.0</td>\n",
       "      <td>0.0</td>\n",
       "      <td>0.0</td>\n",
       "      <td>0.0</td>\n",
       "      <td>0.0</td>\n",
       "    </tr>\n",
       "    <tr>\n",
       "      <th>2</th>\n",
       "      <td>0.0</td>\n",
       "      <td>0.0</td>\n",
       "      <td>0.0</td>\n",
       "      <td>0.0</td>\n",
       "      <td>0.0</td>\n",
       "      <td>0.0</td>\n",
       "      <td>0.0</td>\n",
       "      <td>0.0</td>\n",
       "      <td>0.0</td>\n",
       "      <td>0.0</td>\n",
       "      <td>0.0</td>\n",
       "      <td>0.0</td>\n",
       "      <td>0.0</td>\n",
       "      <td>0.0</td>\n",
       "      <td>0.0</td>\n",
       "      <td>0.0</td>\n",
       "    </tr>\n",
       "    <tr>\n",
       "      <th>3</th>\n",
       "      <td>0.0</td>\n",
       "      <td>0.0</td>\n",
       "      <td>0.0</td>\n",
       "      <td>0.0</td>\n",
       "      <td>0.0</td>\n",
       "      <td>0.0</td>\n",
       "      <td>0.0</td>\n",
       "      <td>0.0</td>\n",
       "      <td>0.0</td>\n",
       "      <td>0.0</td>\n",
       "      <td>0.0</td>\n",
       "      <td>0.0</td>\n",
       "      <td>0.0</td>\n",
       "      <td>0.0</td>\n",
       "      <td>0.0</td>\n",
       "      <td>0.0</td>\n",
       "    </tr>\n",
       "    <tr>\n",
       "      <th>4</th>\n",
       "      <td>0.0</td>\n",
       "      <td>0.0</td>\n",
       "      <td>0.0</td>\n",
       "      <td>0.0</td>\n",
       "      <td>0.0</td>\n",
       "      <td>0.0</td>\n",
       "      <td>0.0</td>\n",
       "      <td>0.0</td>\n",
       "      <td>0.0</td>\n",
       "      <td>0.0</td>\n",
       "      <td>0.0</td>\n",
       "      <td>0.0</td>\n",
       "      <td>0.0</td>\n",
       "      <td>0.0</td>\n",
       "      <td>0.0</td>\n",
       "      <td>0.0</td>\n",
       "    </tr>\n",
       "  </tbody>\n",
       "</table>\n",
       "</div>"
      ],
      "text/plain": [
       "         e3_count_1_week  e4_count_1_week  e5_count_1_week  e6_count_1_week  \\\n",
       "user_id                                                                       \n",
       "0                    0.0              0.0              0.0              0.0   \n",
       "1                    0.0              0.0              0.0              0.0   \n",
       "2                    0.0              0.0              0.0              0.0   \n",
       "3                    0.0              0.0              0.0              0.0   \n",
       "4                    0.0              0.0              0.0              0.0   \n",
       "\n",
       "         e7_count_1_week  e40_count_1_week  e41_count_1_week  \\\n",
       "user_id                                                        \n",
       "0                    0.0               0.0               0.0   \n",
       "1                    0.0               0.0               0.0   \n",
       "2                    0.0               0.0               0.0   \n",
       "3                    0.0               0.0               0.0   \n",
       "4                    0.0               0.0               0.0   \n",
       "\n",
       "         e42_count_1_week  e3_count_2_week  e4_count_2_week  e5_count_2_week  \\\n",
       "user_id                                                                        \n",
       "0                     0.0              0.0              0.0              0.0   \n",
       "1                     0.0              0.0              0.0              0.0   \n",
       "2                     0.0              0.0              0.0              0.0   \n",
       "3                     0.0              0.0              0.0              0.0   \n",
       "4                     0.0              0.0              0.0              0.0   \n",
       "\n",
       "         e6_count_2_week  e7_count_2_week  e40_count_2_week  e41_count_2_week  \\\n",
       "user_id                                                                         \n",
       "0                    0.0              0.0               0.0               0.0   \n",
       "1                    0.0              0.0               0.0               0.0   \n",
       "2                    0.0              0.0               0.0               0.0   \n",
       "3                    0.0              0.0               0.0               0.0   \n",
       "4                    0.0              0.0               0.0               0.0   \n",
       "\n",
       "         e42_count_2_week  \n",
       "user_id                    \n",
       "0                     0.0  \n",
       "1                     0.0  \n",
       "2                     0.0  \n",
       "3                     0.0  \n",
       "4                     0.0  "
      ]
     },
     "execution_count": 33,
     "metadata": {},
     "output_type": "execute_result"
    }
   ],
   "source": [
    "events2 = pd.read_csv('features_events2.csv').set_index('user_id')\n",
    "events2_full = pd.read_csv('features_events2_full.csv').set_index('user_id')\n",
    "events2_full.head()"
   ]
  },
  {
   "cell_type": "code",
   "execution_count": 10,
   "metadata": {
    "ExecuteTime": {
     "end_time": "2019-03-05T04:15:51.341489Z",
     "start_time": "2019-03-05T04:15:49.672533Z"
    }
   },
   "outputs": [],
   "source": [
    "X_full = events_full.join(events2_full).join(sessions_full).join(attributes_full)\n",
    "data14 = labels14.join(events).join(events2).join(sessions).join(attributes)\n",
    "data7 = labels7.join(events).join(events2).join(sessions).join(attributes)"
   ]
  },
  {
   "cell_type": "code",
   "execution_count": 35,
   "metadata": {
    "ExecuteTime": {
     "end_time": "2019-03-06T06:23:04.080201Z",
     "start_time": "2019-03-06T06:23:02.631681Z"
    }
   },
   "outputs": [],
   "source": [
    "y14 = data14['label']\n",
    "X14 = data14.drop('label', axis=1).set_index('user_id')\n",
    "y7 = data7['label']\n",
    "X7 = data7.drop('label', axis=1).set_index('user_id')"
   ]
  },
  {
   "cell_type": "code",
   "execution_count": 91,
   "metadata": {
    "ExecuteTime": {
     "end_time": "2019-03-03T21:04:18.198697Z",
     "start_time": "2019-03-03T21:04:18.194491Z"
    },
    "collapsed": true
   },
   "outputs": [
    {
     "data": {
      "text/plain": [
       "['purchase_sum_last_week',\n",
       " 'purchase_count_last_week',\n",
       " 'attr_13',\n",
       " 'e7_count_1_week',\n",
       " 'purchase_count_2_weeks',\n",
       " 'attr_14',\n",
       " 'purchase_sum_total',\n",
       " 'attr_1',\n",
       " 'purchase_sum_2_weeks',\n",
       " 'e7_count_2_week',\n",
       " 'e5_count_1_week',\n",
       " 'purchase_count_total',\n",
       " 'attr_8',\n",
       " 'e6_count_1_week',\n",
       " 'attr_5',\n",
       " 'last2week_ss_duration',\n",
       " 'cr_from_now',\n",
       " 'last2week_count',\n",
       " 'weekday_count',\n",
       " 'e5_count_2_week',\n",
       " 'total_count',\n",
       " 'e41_count_1_week',\n",
       " 'e4_count_1_week',\n",
       " 'attr_0',\n",
       " 'e40_count_1_week',\n",
       " 'e40_count_2_week',\n",
       " 'e3_count_1_week']"
      ]
     },
     "execution_count": 91,
     "metadata": {},
     "output_type": "execute_result"
    }
   ],
   "source": [
    "# run this code optionally second time through to select top features only\n",
    "X_full = X_full[best_features]\n",
    "X14 = X14[best_features]\n",
    "X7 = X7[best_features]"
   ]
  },
  {
   "cell_type": "code",
   "execution_count": 36,
   "metadata": {
    "ExecuteTime": {
     "end_time": "2019-03-06T06:23:04.857878Z",
     "start_time": "2019-03-06T06:23:04.082647Z"
    }
   },
   "outputs": [],
   "source": [
    "X14_train, X14_test, y14_train, y14_test = train_test_split(X14, y14, test_size=0.2, random_state=42)\n",
    "X7_train, X7_test, y7_train, y7_test = train_test_split(X7, y7, test_size=0.2, random_state=42)"
   ]
  },
  {
   "cell_type": "code",
   "execution_count": 37,
   "metadata": {
    "ExecuteTime": {
     "end_time": "2019-03-06T06:23:05.944636Z",
     "start_time": "2019-03-06T06:23:04.859962Z"
    }
   },
   "outputs": [],
   "source": [
    "X_full=X_full.fillna(0)\n",
    "X14_train=X14_train.fillna(0) \n",
    "X14_test=X14_test.fillna(0)\n",
    "y14_train=y14_train.fillna(0)\n",
    "y14_test=y14_test.fillna(0) \n",
    "X7_train=X7_train.fillna(0) \n",
    "X7_test=X7_test.fillna(0)\n",
    "y7_train=y7_train.fillna(0)\n",
    "y7_test=y7_test.fillna(0) "
   ]
  },
  {
   "cell_type": "markdown",
   "metadata": {},
   "source": [
    "### Model - XGBoost"
   ]
  },
  {
   "cell_type": "code",
   "execution_count": 69,
   "metadata": {
    "ExecuteTime": {
     "end_time": "2019-03-03T20:03:12.467391Z",
     "start_time": "2019-03-03T20:01:17.194469Z"
    }
   },
   "outputs": [
    {
     "data": {
      "text/plain": [
       "XGBClassifier(base_score=0.5, booster='gbtree', colsample_bylevel=1,\n",
       "       colsample_bytree=1, gamma=0, learning_rate=0.1, max_delta_step=0,\n",
       "       max_depth=7, min_child_weight=1, missing=None, n_estimators=100,\n",
       "       n_jobs=1, nthread=None, objective='binary:logistic', random_state=0,\n",
       "       reg_alpha=0, reg_lambda=1, scale_pos_weight=1, seed=None,\n",
       "       silent=True, subsample=1)"
      ]
     },
     "execution_count": 69,
     "metadata": {},
     "output_type": "execute_result"
    }
   ],
   "source": [
    "# 14 day model\n",
    "max_depth = 7\n",
    "xgb14 = XGBClassifier(max_depth=max_depth)\n",
    "xgb14.fit(X14_train, y14_train)"
   ]
  },
  {
   "cell_type": "code",
   "execution_count": 70,
   "metadata": {
    "ExecuteTime": {
     "end_time": "2019-03-03T20:03:45.010429Z",
     "start_time": "2019-03-03T20:03:42.319293Z"
    }
   },
   "outputs": [
    {
     "name": "stdout",
     "output_type": "stream",
     "text": [
      "0.983579339431978\n",
      "0.986700637628292\n"
     ]
    }
   ],
   "source": [
    "false_positive_rate, true_positive_rate, thresholds = roc_curve(y14_test, xgb14.predict_proba(X14_test)[:,1])\n",
    "print(auc(false_positive_rate, true_positive_rate))\n",
    "fpr14_train, tpr14_train, thresh14_train = roc_curve(y14_train, xgb14.predict_proba(X14_train)[:,1])\n",
    "print(auc(fpr14_train, tpr14_train))"
   ]
  },
  {
   "cell_type": "code",
   "execution_count": 68,
   "metadata": {
    "ExecuteTime": {
     "end_time": "2019-03-03T20:00:56.703430Z",
     "start_time": "2019-03-03T20:00:53.683399Z"
    }
   },
   "outputs": [
    {
     "name": "stdout",
     "output_type": "stream",
     "text": [
      "0.9798590424395189\n",
      "0.9923953379209561\n"
     ]
    }
   ],
   "source": [
    "false_positive_rate, true_positive_rate, thresholds = roc_curve(y14_test, xgb14.predict_proba(X14_test)[:,1])\n",
    "print(auc(false_positive_rate, true_positive_rate))\n",
    "fpr14_train, tpr14_train, thresh14_train = roc_curve(y14_train, xgb14.predict_proba(X14_train)[:,1])\n",
    "print(auc(fpr14_train, tpr14_train))"
   ]
  },
  {
   "cell_type": "code",
   "execution_count": 65,
   "metadata": {
    "ExecuteTime": {
     "end_time": "2019-03-03T20:00:09.731041Z",
     "start_time": "2019-03-03T19:58:14.052613Z"
    }
   },
   "outputs": [
    {
     "data": {
      "text/plain": [
       "XGBClassifier(base_score=0.5, booster='gbtree', colsample_bylevel=1,\n",
       "       colsample_bytree=1, gamma=0, learning_rate=0.1, max_delta_step=0,\n",
       "       max_depth=7, min_child_weight=1, missing=None, n_estimators=100,\n",
       "       n_jobs=1, nthread=None, objective='binary:logistic', random_state=0,\n",
       "       reg_alpha=0, reg_lambda=1, scale_pos_weight=1, seed=None,\n",
       "       silent=True, subsample=1)"
      ]
     },
     "execution_count": 65,
     "metadata": {},
     "output_type": "execute_result"
    }
   ],
   "source": [
    "# 7 day model\n",
    "max_depth = 7\n",
    "xgb7 = XGBClassifier(max_depth=max_depth)\n",
    "xgb7.fit(X7_train, y7_train)"
   ]
  },
  {
   "cell_type": "code",
   "execution_count": 66,
   "metadata": {
    "ExecuteTime": {
     "end_time": "2019-03-03T20:00:12.330896Z",
     "start_time": "2019-03-03T20:00:09.735309Z"
    }
   },
   "outputs": [
    {
     "name": "stdout",
     "output_type": "stream",
     "text": [
      "0.9863176345473864\n",
      "0.9909156901229139\n"
     ]
    }
   ],
   "source": [
    "false_positive_rate7, true_positive_rate7, thresholds7 = roc_curve(y7_test, xgb7.predict_proba(X7_test)[:,1])\n",
    "print(auc(false_positive_rate7, true_positive_rate7))\n",
    "fpr7_train, tpr7_train, thresh7_train = roc_curve(y7_train, xgb7.predict_proba(X7_train)[:,1])\n",
    "print(auc(fpr7_train, tpr7_train))"
   ]
  },
  {
   "cell_type": "markdown",
   "metadata": {},
   "source": [
    "### Model  - Random Forest"
   ]
  },
  {
   "cell_type": "code",
   "execution_count": 38,
   "metadata": {
    "ExecuteTime": {
     "end_time": "2019-03-06T06:23:33.708207Z",
     "start_time": "2019-03-06T06:23:11.325700Z"
    }
   },
   "outputs": [
    {
     "data": {
      "text/plain": [
       "RandomForestClassifier(bootstrap=True, class_weight=None, criterion='gini',\n",
       "            max_depth=10, max_features='auto', max_leaf_nodes=None,\n",
       "            min_impurity_decrease=0.0, min_impurity_split=None,\n",
       "            min_samples_leaf=1, min_samples_split=2,\n",
       "            min_weight_fraction_leaf=0.0, n_estimators=50, n_jobs=None,\n",
       "            oob_score=False, random_state=None, verbose=0,\n",
       "            warm_start=False)"
      ]
     },
     "execution_count": 38,
     "metadata": {},
     "output_type": "execute_result"
    }
   ],
   "source": [
    "rf7 = RandomForestClassifier(max_depth=10, min_samples_leaf=1, n_estimators=50)\n",
    "rf7.fit(X7_train, y7_train)"
   ]
  },
  {
   "cell_type": "code",
   "execution_count": 39,
   "metadata": {
    "ExecuteTime": {
     "end_time": "2019-03-06T06:26:21.844790Z",
     "start_time": "2019-03-06T06:26:19.127650Z"
    }
   },
   "outputs": [
    {
     "name": "stdout",
     "output_type": "stream",
     "text": [
      "0.9703883349583411\n",
      "0.982500153472794\n"
     ]
    }
   ],
   "source": [
    "false_positive_rate7, true_positive_rate7, thresholds7 = roc_curve(y7_test, rf7.predict_proba(X7_test)[:,1])\n",
    "print(auc(false_positive_rate7, true_positive_rate7))\n",
    "fpr7_train, tpr7_train, thresh7_train = roc_curve(y7_train, rf7.predict_proba(X7_train)[:,1])\n",
    "print(auc(fpr7_train, tpr7_train))"
   ]
  },
  {
   "cell_type": "code",
   "execution_count": 36,
   "metadata": {
    "ExecuteTime": {
     "end_time": "2019-03-05T04:27:21.298078Z",
     "start_time": "2019-03-05T04:27:18.944402Z"
    }
   },
   "outputs": [
    {
     "name": "stdout",
     "output_type": "stream",
     "text": [
      "0.9977449547931211\n",
      "0.9994263177222805\n"
     ]
    }
   ],
   "source": [
    "false_positive_rate7, true_positive_rate7, thresholds7 = roc_curve(y7_test, rf7.predict_proba(X7_test)[:,1])\n",
    "print(auc(false_positive_rate7, true_positive_rate7))\n",
    "fpr7_train, tpr7_train, thresh7_train = roc_curve(y7_train, rf7.predict_proba(X7_train)[:,1])\n",
    "print(auc(fpr7_train, tpr7_train))"
   ]
  },
  {
   "cell_type": "code",
   "execution_count": 40,
   "metadata": {
    "ExecuteTime": {
     "end_time": "2019-03-06T06:27:07.712896Z",
     "start_time": "2019-03-06T06:26:45.058838Z"
    }
   },
   "outputs": [
    {
     "data": {
      "text/plain": [
       "RandomForestClassifier(bootstrap=True, class_weight=None, criterion='gini',\n",
       "            max_depth=10, max_features='auto', max_leaf_nodes=None,\n",
       "            min_impurity_decrease=0.0, min_impurity_split=None,\n",
       "            min_samples_leaf=1, min_samples_split=2,\n",
       "            min_weight_fraction_leaf=0.0, n_estimators=50, n_jobs=None,\n",
       "            oob_score=False, random_state=None, verbose=0,\n",
       "            warm_start=False)"
      ]
     },
     "execution_count": 40,
     "metadata": {},
     "output_type": "execute_result"
    }
   ],
   "source": [
    "rf14 = RandomForestClassifier(max_depth=10, min_samples_leaf=1, n_estimators=50)\n",
    "rf14.fit(X14_train, y14_train)"
   ]
  },
  {
   "cell_type": "code",
   "execution_count": 41,
   "metadata": {
    "ExecuteTime": {
     "end_time": "2019-03-06T06:27:10.455675Z",
     "start_time": "2019-03-06T06:27:07.714942Z"
    }
   },
   "outputs": [
    {
     "name": "stdout",
     "output_type": "stream",
     "text": [
      "0.9627946654250004\n",
      "0.9720269655326519\n"
     ]
    }
   ],
   "source": [
    "false_positive_rate14, true_positive_rate14, thresholds14 = roc_curve(y14_test, rf14.predict_proba(X14_test)[:,1])\n",
    "print(auc(false_positive_rate14, true_positive_rate14))\n",
    "fpr14_train, tpr14_train, thresh14_train = roc_curve(y14_train, rf14.predict_proba(X14_train)[:,1])\n",
    "print(auc(fpr14_train, tpr14_train))"
   ]
  },
  {
   "cell_type": "code",
   "execution_count": 38,
   "metadata": {
    "ExecuteTime": {
     "end_time": "2019-03-05T04:27:53.265424Z",
     "start_time": "2019-03-05T04:27:50.880937Z"
    }
   },
   "outputs": [
    {
     "name": "stdout",
     "output_type": "stream",
     "text": [
      "0.9966599551482378\n",
      "0.999512787421865\n"
     ]
    }
   ],
   "source": [
    "false_positive_rate14, true_positive_rate14, thresholds14 = roc_curve(y14_test, rf14.predict_proba(X14_test)[:,1])\n",
    "print(auc(false_positive_rate14, true_positive_rate14))\n",
    "fpr14_train, tpr14_train, thresh14_train = roc_curve(y14_train, rf14.predict_proba(X14_train)[:,1])\n",
    "print(auc(fpr14_train, tpr14_train))"
   ]
  },
  {
   "cell_type": "code",
   "execution_count": 42,
   "metadata": {
    "ExecuteTime": {
     "end_time": "2019-03-06T06:27:14.339766Z",
     "start_time": "2019-03-06T06:27:14.328395Z"
    }
   },
   "outputs": [],
   "source": [
    "feature_importance7 = pd.DataFrame(rf7.feature_importances_,\n",
    "                                   index = X7_train.columns,\n",
    "                                   columns=['importance'])\\\n",
    "                                   .sort_values('importance', ascending=False)\n",
    "feature_importance14 = pd.DataFrame(rf14.feature_importances_,\n",
    "                                   index = X14_train.columns,\n",
    "                                   columns=['importance'])\\\n",
    "                                   .sort_values('importance', ascending=False)"
   ]
  },
  {
   "cell_type": "code",
   "execution_count": 44,
   "metadata": {
    "ExecuteTime": {
     "end_time": "2019-03-06T06:27:39.730107Z",
     "start_time": "2019-03-06T06:27:39.723007Z"
    }
   },
   "outputs": [
    {
     "data": {
      "text/html": [
       "<div>\n",
       "<style scoped>\n",
       "    .dataframe tbody tr th:only-of-type {\n",
       "        vertical-align: middle;\n",
       "    }\n",
       "\n",
       "    .dataframe tbody tr th {\n",
       "        vertical-align: top;\n",
       "    }\n",
       "\n",
       "    .dataframe thead th {\n",
       "        text-align: right;\n",
       "    }\n",
       "</style>\n",
       "<table border=\"1\" class=\"dataframe\">\n",
       "  <thead>\n",
       "    <tr style=\"text-align: right;\">\n",
       "      <th></th>\n",
       "      <th>importance</th>\n",
       "    </tr>\n",
       "  </thead>\n",
       "  <tbody>\n",
       "    <tr>\n",
       "      <th>purchase_count_last_week</th>\n",
       "      <td>0.122173</td>\n",
       "    </tr>\n",
       "    <tr>\n",
       "      <th>purchase_sum_last_week</th>\n",
       "      <td>0.110039</td>\n",
       "    </tr>\n",
       "    <tr>\n",
       "      <th>purchase_sum_2_weeks</th>\n",
       "      <td>0.104696</td>\n",
       "    </tr>\n",
       "    <tr>\n",
       "      <th>purchase_count_2_weeks</th>\n",
       "      <td>0.099177</td>\n",
       "    </tr>\n",
       "    <tr>\n",
       "      <th>e7_count_1_week</th>\n",
       "      <td>0.078384</td>\n",
       "    </tr>\n",
       "  </tbody>\n",
       "</table>\n",
       "</div>"
      ],
      "text/plain": [
       "                          importance\n",
       "purchase_count_last_week    0.122173\n",
       "purchase_sum_last_week      0.110039\n",
       "purchase_sum_2_weeks        0.104696\n",
       "purchase_count_2_weeks      0.099177\n",
       "e7_count_1_week             0.078384"
      ]
     },
     "execution_count": 44,
     "metadata": {},
     "output_type": "execute_result"
    }
   ],
   "source": [
    "feature_importance14.head()"
   ]
  },
  {
   "cell_type": "code",
   "execution_count": 43,
   "metadata": {
    "ExecuteTime": {
     "end_time": "2019-03-03T19:51:03.813181Z",
     "start_time": "2019-03-03T19:51:03.810352Z"
    }
   },
   "outputs": [],
   "source": [
    "# use this to index feature set / remove unimportant features\n",
    "best_features = list(feature_importance14.index)[:27]\n",
    "best_features2 = list(feature_importance14.index)[:12]"
   ]
  },
  {
   "cell_type": "markdown",
   "metadata": {},
   "source": [
    "# Predict on full data for kaggle submission"
   ]
  },
  {
   "cell_type": "code",
   "execution_count": 39,
   "metadata": {
    "ExecuteTime": {
     "end_time": "2019-03-05T04:28:08.570002Z",
     "start_time": "2019-03-05T04:28:03.154224Z"
    }
   },
   "outputs": [],
   "source": [
    "y14_pred = rf14.predict_proba(X_full)\n",
    "y7_pred = rf7.predict_proba(X_full)\n",
    "# y14_pred = xgb14.predict_proba(X_full)\n",
    "# y7_pred = xgb7.predict_proba(X_full)"
   ]
  },
  {
   "cell_type": "code",
   "execution_count": 40,
   "metadata": {
    "ExecuteTime": {
     "end_time": "2019-03-05T04:28:09.300940Z",
     "start_time": "2019-03-05T04:28:09.284646Z"
    }
   },
   "outputs": [],
   "source": [
    "predictions = pd.DataFrame({'user_id_hash':X_full.index,\n",
    "                            'user_purchase_binary_7_days':y7_pred[:,1],\n",
    "                            'user_purchase_binary_14_days':y14_pred[:,1]})"
   ]
  },
  {
   "cell_type": "code",
   "execution_count": 41,
   "metadata": {
    "ExecuteTime": {
     "end_time": "2019-03-05T04:28:11.607833Z",
     "start_time": "2019-03-05T04:28:10.638097Z"
    }
   },
   "outputs": [
    {
     "data": {
      "text/html": [
       "<div>\n",
       "<style scoped>\n",
       "    .dataframe tbody tr th:only-of-type {\n",
       "        vertical-align: middle;\n",
       "    }\n",
       "\n",
       "    .dataframe tbody tr th {\n",
       "        vertical-align: top;\n",
       "    }\n",
       "\n",
       "    .dataframe thead th {\n",
       "        text-align: right;\n",
       "    }\n",
       "</style>\n",
       "<table border=\"1\" class=\"dataframe\">\n",
       "  <thead>\n",
       "    <tr style=\"text-align: right;\">\n",
       "      <th></th>\n",
       "      <th>user_id_hash</th>\n",
       "      <th>user_purchase_binary_7_days</th>\n",
       "      <th>user_purchase_binary_14_days</th>\n",
       "    </tr>\n",
       "  </thead>\n",
       "  <tbody>\n",
       "    <tr>\n",
       "      <th>0</th>\n",
       "      <td>dfa54ccdb64bddfc2ea6a1da90e3a908cd9250bddfd6a8...</td>\n",
       "      <td>0.000011</td>\n",
       "      <td>0.000035</td>\n",
       "    </tr>\n",
       "    <tr>\n",
       "      <th>1</th>\n",
       "      <td>c4d7c49762e7fdfac7eaba9975d26c4bc555cab68a3c94...</td>\n",
       "      <td>0.000010</td>\n",
       "      <td>0.000039</td>\n",
       "    </tr>\n",
       "    <tr>\n",
       "      <th>2</th>\n",
       "      <td>ffb2f6b4dba62a448604b775a14acce44cd7dd5af33ec7...</td>\n",
       "      <td>0.004565</td>\n",
       "      <td>0.004500</td>\n",
       "    </tr>\n",
       "    <tr>\n",
       "      <th>3</th>\n",
       "      <td>f9d94bf4c5e6f44ab3623f589dc406dd32eb9b712ddfad...</td>\n",
       "      <td>0.000010</td>\n",
       "      <td>0.000033</td>\n",
       "    </tr>\n",
       "    <tr>\n",
       "      <th>4</th>\n",
       "      <td>233442a2c9452f0301f9a7b280ef077064ab98b8c88623...</td>\n",
       "      <td>0.000011</td>\n",
       "      <td>0.000033</td>\n",
       "    </tr>\n",
       "  </tbody>\n",
       "</table>\n",
       "</div>"
      ],
      "text/plain": [
       "                                        user_id_hash  \\\n",
       "0  dfa54ccdb64bddfc2ea6a1da90e3a908cd9250bddfd6a8...   \n",
       "1  c4d7c49762e7fdfac7eaba9975d26c4bc555cab68a3c94...   \n",
       "2  ffb2f6b4dba62a448604b775a14acce44cd7dd5af33ec7...   \n",
       "3  f9d94bf4c5e6f44ab3623f589dc406dd32eb9b712ddfad...   \n",
       "4  233442a2c9452f0301f9a7b280ef077064ab98b8c88623...   \n",
       "\n",
       "   user_purchase_binary_7_days  user_purchase_binary_14_days  \n",
       "0                     0.000011                      0.000035  \n",
       "1                     0.000010                      0.000039  \n",
       "2                     0.004565                      0.004500  \n",
       "3                     0.000010                      0.000033  \n",
       "4                     0.000011                      0.000033  "
      ]
     },
     "execution_count": 41,
     "metadata": {},
     "output_type": "execute_result"
    }
   ],
   "source": [
    "predictions['user_id_hash'] = predictions['user_id_hash'].map(inv_user_dict)\n",
    "predictions.head()"
   ]
  },
  {
   "cell_type": "code",
   "execution_count": 42,
   "metadata": {
    "ExecuteTime": {
     "end_time": "2019-03-05T04:28:19.208639Z",
     "start_time": "2019-03-05T04:28:15.213540Z"
    }
   },
   "outputs": [
    {
     "data": {
      "text/html": [
       "<div>\n",
       "<style scoped>\n",
       "    .dataframe tbody tr th:only-of-type {\n",
       "        vertical-align: middle;\n",
       "    }\n",
       "\n",
       "    .dataframe tbody tr th {\n",
       "        vertical-align: top;\n",
       "    }\n",
       "\n",
       "    .dataframe thead th {\n",
       "        text-align: right;\n",
       "    }\n",
       "</style>\n",
       "<table border=\"1\" class=\"dataframe\">\n",
       "  <thead>\n",
       "    <tr style=\"text-align: right;\">\n",
       "      <th></th>\n",
       "      <th>user_id_hash</th>\n",
       "      <th>samp7</th>\n",
       "      <th>samp14</th>\n",
       "    </tr>\n",
       "  </thead>\n",
       "  <tbody>\n",
       "    <tr>\n",
       "      <th>0</th>\n",
       "      <td>e469dfaed039ead9110165d9bc457acb11609ca34057dc...</td>\n",
       "      <td>0.01</td>\n",
       "      <td>0.02</td>\n",
       "    </tr>\n",
       "    <tr>\n",
       "      <th>1</th>\n",
       "      <td>afcc639a324b6c598ef83d360450afa011cb2dd1358bf9...</td>\n",
       "      <td>0.01</td>\n",
       "      <td>0.02</td>\n",
       "    </tr>\n",
       "    <tr>\n",
       "      <th>2</th>\n",
       "      <td>fd5a7cf211d08e3e00f7be6a9df6e6ea3d2e5c22a5d9c3...</td>\n",
       "      <td>0.01</td>\n",
       "      <td>0.02</td>\n",
       "    </tr>\n",
       "    <tr>\n",
       "      <th>3</th>\n",
       "      <td>00bfff98b9d0329f014c2eeac7ce47cd18b2bc6e10d608...</td>\n",
       "      <td>0.01</td>\n",
       "      <td>0.02</td>\n",
       "    </tr>\n",
       "    <tr>\n",
       "      <th>4</th>\n",
       "      <td>0d298f3638c43e915c119d4935e1ce8d168f81b5e3e8c1...</td>\n",
       "      <td>0.01</td>\n",
       "      <td>0.02</td>\n",
       "    </tr>\n",
       "  </tbody>\n",
       "</table>\n",
       "</div>"
      ],
      "text/plain": [
       "                                        user_id_hash  samp7  samp14\n",
       "0  e469dfaed039ead9110165d9bc457acb11609ca34057dc...   0.01    0.02\n",
       "1  afcc639a324b6c598ef83d360450afa011cb2dd1358bf9...   0.01    0.02\n",
       "2  fd5a7cf211d08e3e00f7be6a9df6e6ea3d2e5c22a5d9c3...   0.01    0.02\n",
       "3  00bfff98b9d0329f014c2eeac7ce47cd18b2bc6e10d608...   0.01    0.02\n",
       "4  0d298f3638c43e915c119d4935e1ce8d168f81b5e3e8c1...   0.01    0.02"
      ]
     },
     "execution_count": 42,
     "metadata": {},
     "output_type": "execute_result"
    }
   ],
   "source": [
    "s3 = boto3.client('s3')\n",
    "obj = s3.get_object(Bucket='ec-ml2-final-project', Key='sample_submission_2.csv')\n",
    "samp_submission = pd.read_csv(io.BytesIO(obj['Body'].read()))\n",
    "samp_submission = samp_submission.rename(index=str, columns={\"user_purchase_binary_7_days\": \"samp7\",\n",
    "                                                             \"user_purchase_binary_14_days\": \"samp14\"})\n",
    "samp_submission.head()"
   ]
  },
  {
   "cell_type": "code",
   "execution_count": 43,
   "metadata": {
    "ExecuteTime": {
     "end_time": "2019-03-05T04:28:20.857956Z",
     "start_time": "2019-03-05T04:28:20.406334Z"
    }
   },
   "outputs": [
    {
     "data": {
      "text/html": [
       "<div>\n",
       "<style scoped>\n",
       "    .dataframe tbody tr th:only-of-type {\n",
       "        vertical-align: middle;\n",
       "    }\n",
       "\n",
       "    .dataframe tbody tr th {\n",
       "        vertical-align: top;\n",
       "    }\n",
       "\n",
       "    .dataframe thead th {\n",
       "        text-align: right;\n",
       "    }\n",
       "</style>\n",
       "<table border=\"1\" class=\"dataframe\">\n",
       "  <thead>\n",
       "    <tr style=\"text-align: right;\">\n",
       "      <th></th>\n",
       "      <th>user_id_hash</th>\n",
       "      <th>user_purchase_binary_7_days</th>\n",
       "      <th>user_purchase_binary_14_days</th>\n",
       "    </tr>\n",
       "  </thead>\n",
       "  <tbody>\n",
       "    <tr>\n",
       "      <th>0</th>\n",
       "      <td>e469dfaed039ead9110165d9bc457acb11609ca34057dc...</td>\n",
       "      <td>0.000011</td>\n",
       "      <td>0.000033</td>\n",
       "    </tr>\n",
       "    <tr>\n",
       "      <th>1</th>\n",
       "      <td>afcc639a324b6c598ef83d360450afa011cb2dd1358bf9...</td>\n",
       "      <td>0.343589</td>\n",
       "      <td>0.726508</td>\n",
       "    </tr>\n",
       "    <tr>\n",
       "      <th>2</th>\n",
       "      <td>fd5a7cf211d08e3e00f7be6a9df6e6ea3d2e5c22a5d9c3...</td>\n",
       "      <td>0.000522</td>\n",
       "      <td>0.000457</td>\n",
       "    </tr>\n",
       "    <tr>\n",
       "      <th>3</th>\n",
       "      <td>00bfff98b9d0329f014c2eeac7ce47cd18b2bc6e10d608...</td>\n",
       "      <td>0.003967</td>\n",
       "      <td>0.003591</td>\n",
       "    </tr>\n",
       "    <tr>\n",
       "      <th>4</th>\n",
       "      <td>0d298f3638c43e915c119d4935e1ce8d168f81b5e3e8c1...</td>\n",
       "      <td>0.000011</td>\n",
       "      <td>0.000033</td>\n",
       "    </tr>\n",
       "  </tbody>\n",
       "</table>\n",
       "</div>"
      ],
      "text/plain": [
       "                                        user_id_hash  \\\n",
       "0  e469dfaed039ead9110165d9bc457acb11609ca34057dc...   \n",
       "1  afcc639a324b6c598ef83d360450afa011cb2dd1358bf9...   \n",
       "2  fd5a7cf211d08e3e00f7be6a9df6e6ea3d2e5c22a5d9c3...   \n",
       "3  00bfff98b9d0329f014c2eeac7ce47cd18b2bc6e10d608...   \n",
       "4  0d298f3638c43e915c119d4935e1ce8d168f81b5e3e8c1...   \n",
       "\n",
       "   user_purchase_binary_7_days  user_purchase_binary_14_days  \n",
       "0                     0.000011                      0.000033  \n",
       "1                     0.343589                      0.726508  \n",
       "2                     0.000522                      0.000457  \n",
       "3                     0.003967                      0.003591  \n",
       "4                     0.000011                      0.000033  "
      ]
     },
     "execution_count": 43,
     "metadata": {},
     "output_type": "execute_result"
    }
   ],
   "source": [
    "submission = pd.merge(samp_submission, predictions, how='left', on='user_id_hash')\n",
    "submission = submission.drop(columns=['samp7', 'samp14'])\n",
    "submission.head()"
   ]
  },
  {
   "cell_type": "code",
   "execution_count": 44,
   "metadata": {
    "ExecuteTime": {
     "end_time": "2019-03-05T04:28:35.492421Z",
     "start_time": "2019-03-05T04:28:33.893972Z"
    }
   },
   "outputs": [],
   "source": [
    "# save submission to csv\n",
    "submission.to_csv(path_or_buf='submission_w_attr2_rf.csv', index=False)"
   ]
  },
  {
   "cell_type": "markdown",
   "metadata": {},
   "source": [
    "### Plotting feature importance"
   ]
  },
  {
   "cell_type": "code",
   "execution_count": 49,
   "metadata": {
    "ExecuteTime": {
     "end_time": "2019-03-06T07:07:33.093658Z",
     "start_time": "2019-03-06T07:07:32.960008Z"
    }
   },
   "outputs": [
    {
     "data": {
      "image/png": "[encoded data removed]",
      "text/plain": [
       "<Figure size 432x288 with 1 Axes>"
      ]
     },
     "metadata": {
      "needs_background": "light"
     },
     "output_type": "display_data"
    }
   ],
   "source": [
    "import matplotlib.pyplot as plt\n",
    "features = ['Purchase Amt Sum 1 Week', 'Purchase Ct 1 Week', 'Purchase Amt Sum 2 Week', 'Purchase Ct 2 Weeks', 'Event7 Count 1 Week',\n",
    "            'Purchase Sum Total', 'Purchase Count Total']\n",
    "feature_imp = [0.12976, 0.10158, 0.10026, 0.07353, 0.069496, 0.057699, 0.037325]\n",
    "fig = plt.figure()\n",
    "ax = fig.add_subplot(111)\n",
    "rects1 = ax.bar(features, feature_imp, align = 'center')\n",
    "plt.xticks(rotation=30)\n",
    "plt.show()"
   ]
  },
  {
   "cell_type": "code",
   "execution_count": null,
   "metadata": {},
   "outputs": [],
   "source": []
  }
 ],
 "metadata": {
  "kernelspec": {
   "display_name": "Python 3",
   "language": "python",
   "name": "python3"
  },
  "language_info": {
   "codemirror_mode": {
    "name": "ipython",
    "version": 3
   },
   "file_extension": ".py",
   "mimetype": "text/x-python",
   "name": "python",
   "nbconvert_exporter": "python",
   "pygments_lexer": "ipython3",
   "version": "3.6.8"
  }
 },
 "nbformat": 4,
 "nbformat_minor": 2
}
