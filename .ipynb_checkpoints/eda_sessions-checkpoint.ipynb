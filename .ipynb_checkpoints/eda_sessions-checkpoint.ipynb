{
 "cells": [
  {
   "cell_type": "markdown",
   "metadata": {},
   "source": [
    "## EDA for Sessions Dataset\n",
    "- Session = when a user is on the app"
   ]
  },
  {
   "cell_type": "code",
   "execution_count": 1,
   "metadata": {
    "ExecuteTime": {
     "end_time": "2019-02-23T20:47:32.288140Z",
     "start_time": "2019-02-23T20:47:31.419816Z"
    }
   },
   "outputs": [],
   "source": [
    "import pandas as pd\n",
    "from datetime import datetime\n",
    "import pandas as pd\n",
    "import numpy as np\n",
    "import matplotlib.pyplot as plt\n",
    "%matplotlib inline"
   ]
  },
  {
   "cell_type": "code",
   "execution_count": 2,
   "metadata": {
    "ExecuteTime": {
     "end_time": "2019-02-23T20:47:32.703477Z",
     "start_time": "2019-02-23T20:47:32.700514Z"
    }
   },
   "outputs": [],
   "source": [
    "# read in data using pandas"
   ]
  },
  {
   "cell_type": "code",
   "execution_count": 3,
   "metadata": {
    "ExecuteTime": {
     "end_time": "2019-02-23T20:47:57.563278Z",
     "start_time": "2019-02-23T20:47:33.007702Z"
    }
   },
   "outputs": [],
   "source": [
    "df0 = pd.read_csv(\"/Users/Reagan/Dropbox/zleanplum_data/sessions.csv\")"
   ]
  },
  {
   "cell_type": "code",
   "execution_count": 281,
   "metadata": {
    "ExecuteTime": {
     "end_time": "2019-02-17T20:20:32.996928Z",
     "start_time": "2019-02-17T20:20:32.990443Z"
    }
   },
   "outputs": [],
   "source": [
    "# drop irrelevant columns (may add back in the future)"
   ]
  },
  {
   "cell_type": "code",
   "execution_count": 4,
   "metadata": {
    "ExecuteTime": {
     "end_time": "2019-02-23T20:47:58.055062Z",
     "start_time": "2019-02-23T20:47:57.565764Z"
    }
   },
   "outputs": [],
   "source": [
    "df0.drop(['app_id',\"device_id\",\"latitude\",\"longitude\",\n",
    "         'is_wau','is_mau','timezone',\n",
    "         'timezone_offset','os_name','locale','session_id'], axis=1, inplace=True)"
   ]
  },
  {
   "cell_type": "code",
   "execution_count": 5,
   "metadata": {
    "ExecuteTime": {
     "end_time": "2019-02-23T20:47:58.341481Z",
     "start_time": "2019-02-23T20:47:58.057001Z"
    }
   },
   "outputs": [],
   "source": [
    "df=df0.copy()"
   ]
  },
  {
   "cell_type": "code",
   "execution_count": 6,
   "metadata": {
    "ExecuteTime": {
     "end_time": "2019-02-23T20:48:32.546840Z",
     "start_time": "2019-02-23T20:48:32.543369Z"
    }
   },
   "outputs": [],
   "source": [
    "# timestamps\n",
    "# create (weekofday, month, day) for start_timestamp; create (how many days is sign-up day from dec1) "
   ]
  },
  {
   "cell_type": "code",
   "execution_count": 7,
   "metadata": {
    "ExecuteTime": {
     "end_time": "2019-02-23T20:50:38.163838Z",
     "start_time": "2019-02-23T20:48:42.619856Z"
    }
   },
   "outputs": [],
   "source": [
    "df['start_timestamp'] = df['start_timestamp'].apply(lambda x:datetime.fromtimestamp(x/1000))\n",
    "df['user_created_timestamp'] = df['user_created_timestamp'].apply(lambda x:datetime.fromtimestamp(x/1000))\n",
    "\n",
    "df['st_weekday']=df['start_timestamp'].dt.weekday\n",
    "df['st_month']=df['start_timestamp'].dt.month\n",
    "df['st_day']=df['start_timestamp'].dt.day\n",
    "\n",
    "dec1 = datetime(2018, 12, 15, 00, 00, 00,0)  # here is dec 15th\n",
    "df['cr_from_now'] = df['user_created_timestamp'].apply(lambda x: pd.Timedelta(dec1 - x).days)"
   ]
  },
  {
   "cell_type": "code",
   "execution_count": 8,
   "metadata": {
    "ExecuteTime": {
     "end_time": "2019-02-23T20:50:39.649419Z",
     "start_time": "2019-02-23T20:50:38.166647Z"
    }
   },
   "outputs": [],
   "source": [
    "df.drop(['start_timestamp','user_created_timestamp'],axis=1, inplace=True)"
   ]
  },
  {
   "cell_type": "code",
   "execution_count": 9,
   "metadata": {
    "ExecuteTime": {
     "end_time": "2019-02-23T20:50:41.974319Z",
     "start_time": "2019-02-23T20:50:41.971058Z"
    }
   },
   "outputs": [],
   "source": [
    "# delete those offline session. "
   ]
  },
  {
   "cell_type": "code",
   "execution_count": 10,
   "metadata": {
    "ExecuteTime": {
     "end_time": "2019-02-23T20:50:42.438061Z",
     "start_time": "2019-02-23T20:50:42.434975Z"
    }
   },
   "outputs": [],
   "source": [
    "# df = df[df['is_session']==True]\n",
    "# df.drop('is_session',axis=1, inplace=True)"
   ]
  },
  {
   "cell_type": "code",
   "execution_count": 11,
   "metadata": {
    "ExecuteTime": {
     "end_time": "2019-02-23T20:50:45.800058Z",
     "start_time": "2019-02-23T20:50:45.768750Z"
    }
   },
   "outputs": [
    {
     "data": {
      "text/html": [
       "<div>\n",
       "<style scoped>\n",
       "    .dataframe tbody tr th:only-of-type {\n",
       "        vertical-align: middle;\n",
       "    }\n",
       "\n",
       "    .dataframe tbody tr th {\n",
       "        vertical-align: top;\n",
       "    }\n",
       "\n",
       "    .dataframe thead th {\n",
       "        text-align: right;\n",
       "    }\n",
       "</style>\n",
       "<table border=\"1\" class=\"dataframe\">\n",
       "  <thead>\n",
       "    <tr style=\"text-align: right;\">\n",
       "      <th></th>\n",
       "      <th>previous_sessions_duration</th>\n",
       "      <th>is_user_first_session</th>\n",
       "      <th>is_session</th>\n",
       "      <th>is_developer</th>\n",
       "      <th>country</th>\n",
       "      <th>region</th>\n",
       "      <th>city</th>\n",
       "      <th>session_index</th>\n",
       "      <th>user_id_hash</th>\n",
       "      <th>st_weekday</th>\n",
       "      <th>st_month</th>\n",
       "      <th>st_day</th>\n",
       "      <th>cr_from_now</th>\n",
       "    </tr>\n",
       "  </thead>\n",
       "  <tbody>\n",
       "    <tr>\n",
       "      <th>0</th>\n",
       "      <td>25837591</td>\n",
       "      <td>False</td>\n",
       "      <td>True</td>\n",
       "      <td>False</td>\n",
       "      <td>PH</td>\n",
       "      <td>00</td>\n",
       "      <td>makati</td>\n",
       "      <td>30</td>\n",
       "      <td>9943447915df3a45fd6720a026af905b6da6b56a37701b...</td>\n",
       "      <td>2</td>\n",
       "      <td>11</td>\n",
       "      <td>14</td>\n",
       "      <td>69</td>\n",
       "    </tr>\n",
       "    <tr>\n",
       "      <th>1</th>\n",
       "      <td>35050130</td>\n",
       "      <td>False</td>\n",
       "      <td>True</td>\n",
       "      <td>False</td>\n",
       "      <td>PH</td>\n",
       "      <td>00</td>\n",
       "      <td>quezon city</td>\n",
       "      <td>47</td>\n",
       "      <td>9943447915df3a45fd6720a026af905b6da6b56a37701b...</td>\n",
       "      <td>5</td>\n",
       "      <td>12</td>\n",
       "      <td>1</td>\n",
       "      <td>69</td>\n",
       "    </tr>\n",
       "    <tr>\n",
       "      <th>2</th>\n",
       "      <td>11343848</td>\n",
       "      <td>False</td>\n",
       "      <td>True</td>\n",
       "      <td>False</td>\n",
       "      <td>PH</td>\n",
       "      <td>00</td>\n",
       "      <td>makati</td>\n",
       "      <td>10</td>\n",
       "      <td>9943447915df3a45fd6720a026af905b6da6b56a37701b...</td>\n",
       "      <td>2</td>\n",
       "      <td>10</td>\n",
       "      <td>10</td>\n",
       "      <td>69</td>\n",
       "    </tr>\n",
       "    <tr>\n",
       "      <th>3</th>\n",
       "      <td>13499724</td>\n",
       "      <td>False</td>\n",
       "      <td>True</td>\n",
       "      <td>False</td>\n",
       "      <td>PH</td>\n",
       "      <td>11</td>\n",
       "      <td>davao city</td>\n",
       "      <td>13</td>\n",
       "      <td>9943447915df3a45fd6720a026af905b6da6b56a37701b...</td>\n",
       "      <td>6</td>\n",
       "      <td>10</td>\n",
       "      <td>21</td>\n",
       "      <td>69</td>\n",
       "    </tr>\n",
       "    <tr>\n",
       "      <th>4</th>\n",
       "      <td>32788010</td>\n",
       "      <td>False</td>\n",
       "      <td>True</td>\n",
       "      <td>False</td>\n",
       "      <td>PH</td>\n",
       "      <td>00</td>\n",
       "      <td>makati</td>\n",
       "      <td>41</td>\n",
       "      <td>9943447915df3a45fd6720a026af905b6da6b56a37701b...</td>\n",
       "      <td>0</td>\n",
       "      <td>11</td>\n",
       "      <td>19</td>\n",
       "      <td>69</td>\n",
       "    </tr>\n",
       "  </tbody>\n",
       "</table>\n",
       "</div>"
      ],
      "text/plain": [
       "   previous_sessions_duration  is_user_first_session  is_session  \\\n",
       "0                    25837591                  False        True   \n",
       "1                    35050130                  False        True   \n",
       "2                    11343848                  False        True   \n",
       "3                    13499724                  False        True   \n",
       "4                    32788010                  False        True   \n",
       "\n",
       "   is_developer country region         city  session_index  \\\n",
       "0         False      PH     00       makati             30   \n",
       "1         False      PH     00  quezon city             47   \n",
       "2         False      PH     00       makati             10   \n",
       "3         False      PH     11   davao city             13   \n",
       "4         False      PH     00       makati             41   \n",
       "\n",
       "                                        user_id_hash  st_weekday  st_month  \\\n",
       "0  9943447915df3a45fd6720a026af905b6da6b56a37701b...           2        11   \n",
       "1  9943447915df3a45fd6720a026af905b6da6b56a37701b...           5        12   \n",
       "2  9943447915df3a45fd6720a026af905b6da6b56a37701b...           2        10   \n",
       "3  9943447915df3a45fd6720a026af905b6da6b56a37701b...           6        10   \n",
       "4  9943447915df3a45fd6720a026af905b6da6b56a37701b...           0        11   \n",
       "\n",
       "   st_day  cr_from_now  \n",
       "0      14           69  \n",
       "1       1           69  \n",
       "2      10           69  \n",
       "3      21           69  \n",
       "4      19           69  "
      ]
     },
     "execution_count": 11,
     "metadata": {},
     "output_type": "execute_result"
    }
   ],
   "source": [
    "df.head()"
   ]
  },
  {
   "cell_type": "code",
   "execution_count": null,
   "metadata": {},
   "outputs": [],
   "source": []
  },
  {
   "cell_type": "code",
   "execution_count": null,
   "metadata": {},
   "outputs": [],
   "source": []
  },
  {
   "cell_type": "markdown",
   "metadata": {},
   "source": [
    "## The number of unique user"
   ]
  },
  {
   "cell_type": "code",
   "execution_count": 61,
   "metadata": {
    "ExecuteTime": {
     "end_time": "2019-02-18T16:32:51.088018Z",
     "start_time": "2019-02-18T16:32:50.329656Z"
    }
   },
   "outputs": [
    {
     "data": {
      "text/plain": [
       "621106"
      ]
     },
     "execution_count": 61,
     "metadata": {},
     "output_type": "execute_result"
    }
   ],
   "source": [
    "df['user_id_hash'].nunique()  "
   ]
  },
  {
   "cell_type": "markdown",
   "metadata": {},
   "source": [
    "There are 621106 unique users in total."
   ]
  },
  {
   "cell_type": "markdown",
   "metadata": {},
   "source": [
    "# Geo information"
   ]
  },
  {
   "cell_type": "code",
   "execution_count": 71,
   "metadata": {
    "ExecuteTime": {
     "end_time": "2019-02-18T16:55:26.915262Z",
     "start_time": "2019-02-18T16:55:26.444724Z"
    }
   },
   "outputs": [
    {
     "data": {
      "text/plain": [
       "755"
      ]
     },
     "execution_count": 71,
     "metadata": {},
     "output_type": "execute_result"
    }
   ],
   "source": [
    "df['region'].nunique()"
   ]
  },
  {
   "cell_type": "code",
   "execution_count": 72,
   "metadata": {
    "ExecuteTime": {
     "end_time": "2019-02-18T16:55:35.461213Z",
     "start_time": "2019-02-18T16:55:34.996582Z"
    }
   },
   "outputs": [
    {
     "data": {
      "text/plain": [
       "228"
      ]
     },
     "execution_count": 72,
     "metadata": {},
     "output_type": "execute_result"
    }
   ],
   "source": [
    "df['country'].nunique()"
   ]
  },
  {
   "cell_type": "code",
   "execution_count": 78,
   "metadata": {
    "ExecuteTime": {
     "end_time": "2019-02-18T16:58:32.017198Z",
     "start_time": "2019-02-18T16:58:31.439525Z"
    }
   },
   "outputs": [
    {
     "data": {
      "text/plain": [
       "31556"
      ]
     },
     "execution_count": 78,
     "metadata": {},
     "output_type": "execute_result"
    }
   ],
   "source": [
    "df['city'].nunique()"
   ]
  },
  {
   "cell_type": "code",
   "execution_count": 77,
   "metadata": {
    "ExecuteTime": {
     "end_time": "2019-02-18T16:58:17.712229Z",
     "start_time": "2019-02-18T16:58:16.745451Z"
    }
   },
   "outputs": [
    {
     "data": {
      "text/plain": [
       "32934"
      ]
     },
     "execution_count": 77,
     "metadata": {},
     "output_type": "execute_result"
    }
   ],
   "source": [
    "len(df.groupby(['country','city']).size().reset_index())"
   ]
  },
  {
   "cell_type": "markdown",
   "metadata": {
    "ExecuteTime": {
     "end_time": "2019-02-18T17:04:50.030061Z",
     "start_time": "2019-02-18T17:04:50.018525Z"
    }
   },
   "source": [
    "The number of unique combination of country and city is 32934, but the number of unique region is 755. It indicates that many cities are belonging to the same region. "
   ]
  },
  {
   "cell_type": "markdown",
   "metadata": {},
   "source": [
    "# The number of online session and offline session"
   ]
  },
  {
   "cell_type": "code",
   "execution_count": 62,
   "metadata": {
    "ExecuteTime": {
     "end_time": "2019-02-18T16:44:22.945066Z",
     "start_time": "2019-02-18T16:44:22.591877Z"
    }
   },
   "outputs": [
    {
     "data": {
      "text/plain": [
       "Text(0, 0.5, 'Frequency')"
      ]
     },
     "execution_count": 62,
     "metadata": {},
     "output_type": "execute_result"
    },
    {
     "data": {
      "image/png": "[encoded data removed]",
      "text/plain": [
       "<Figure size 576x288 with 1 Axes>"
      ]
     },
     "metadata": {
      "needs_background": "light"
     },
     "output_type": "display_data"
    }
   ],
   "source": [
    "ax = df0['is_session'].value_counts().sort_index().plot(kind='bar',\n",
    "                                    figsize=(8,4),\n",
    "                                    title=\"online session and offline session\")\n",
    "ax.set_xlabel(\"is_session\")\n",
    "ax.set_ylabel(\"Frequency\")"
   ]
  },
  {
   "cell_type": "markdown",
   "metadata": {
    "ExecuteTime": {
     "end_time": "2019-02-18T07:42:41.445428Z",
     "start_time": "2019-02-18T07:42:41.435835Z"
    }
   },
   "source": [
    "We will delete all those offline sessions when doing feature engineering."
   ]
  },
  {
   "cell_type": "markdown",
   "metadata": {},
   "source": [
    "# The number of developers "
   ]
  },
  {
   "cell_type": "code",
   "execution_count": 63,
   "metadata": {
    "ExecuteTime": {
     "end_time": "2019-02-18T16:45:53.119286Z",
     "start_time": "2019-02-18T16:45:52.884627Z"
    }
   },
   "outputs": [
    {
     "data": {
      "text/plain": [
       "Text(0, 0.5, 'Frequency')"
      ]
     },
     "execution_count": 63,
     "metadata": {},
     "output_type": "execute_result"
    },
    {
     "data": {
      "image/png": "[encoded data removed]",
      "text/plain": [
       "<Figure size 576x288 with 1 Axes>"
      ]
     },
     "metadata": {
      "needs_background": "light"
     },
     "output_type": "display_data"
    }
   ],
   "source": [
    "ax = df['is_developer'].value_counts().sort_index().plot(kind='bar',\n",
    "                                    figsize=(8,4),\n",
    "                                    title=\"Number of developer\")\n",
    "ax.set_xlabel(\"is_developer\")\n",
    "ax.set_ylabel(\"Frequency\")"
   ]
  },
  {
   "cell_type": "markdown",
   "metadata": {},
   "source": [
    "It seems that there is no developers at all, which is a bit weird. So we write a query to see the number of developers in the data."
   ]
  },
  {
   "cell_type": "code",
   "execution_count": 64,
   "metadata": {
    "ExecuteTime": {
     "end_time": "2019-02-18T16:46:45.770383Z",
     "start_time": "2019-02-18T16:46:45.706539Z"
    }
   },
   "outputs": [
    {
     "data": {
      "text/plain": [
       "False    6237248\n",
       "True        2588\n",
       "Name: is_developer, dtype: int64"
      ]
     },
     "execution_count": 64,
     "metadata": {},
     "output_type": "execute_result"
    }
   ],
   "source": [
    "df['is_developer'].value_counts()"
   ]
  },
  {
   "cell_type": "markdown",
   "metadata": {},
   "source": [
    "As we can see, actually there are 2588 users that are developer even though we can not spot that on the histogram"
   ]
  },
  {
   "cell_type": "markdown",
   "metadata": {},
   "source": [
    "# Number of first session"
   ]
  },
  {
   "cell_type": "code",
   "execution_count": 65,
   "metadata": {
    "ExecuteTime": {
     "end_time": "2019-02-18T16:48:01.819849Z",
     "start_time": "2019-02-18T16:48:01.583459Z"
    }
   },
   "outputs": [
    {
     "data": {
      "text/plain": [
       "Text(0, 0.5, 'Frequency')"
      ]
     },
     "execution_count": 65,
     "metadata": {},
     "output_type": "execute_result"
    },
    {
     "data": {
      "image/png": "[encoded data removed]",
      "text/plain": [
       "<Figure size 576x288 with 1 Axes>"
      ]
     },
     "metadata": {
      "needs_background": "light"
     },
     "output_type": "display_data"
    }
   ],
   "source": [
    "ax = df['is_user_first_session'].value_counts().sort_index().plot(kind='bar',\n",
    "                                    figsize=(8,4),\n",
    "                                    title=\"Number of user's first session\")\n",
    "ax.set_xlabel(\"is_user_first_session\")\n",
    "ax.set_ylabel(\"Frequency\")"
   ]
  },
  {
   "cell_type": "markdown",
   "metadata": {
    "ExecuteTime": {
     "end_time": "2019-02-18T16:48:22.326319Z",
     "start_time": "2019-02-18T16:48:22.320980Z"
    }
   },
   "source": [
    "Most of the sessions are not the first session of our users."
   ]
  },
  {
   "cell_type": "markdown",
   "metadata": {
    "ExecuteTime": {
     "end_time": "2019-02-18T16:49:01.906421Z",
     "start_time": "2019-02-18T16:49:01.903887Z"
    }
   },
   "source": [
    "# Which weekdays did the sessions happen?"
   ]
  },
  {
   "cell_type": "code",
   "execution_count": 68,
   "metadata": {
    "ExecuteTime": {
     "end_time": "2019-02-18T16:49:31.614647Z",
     "start_time": "2019-02-18T16:49:31.277617Z"
    }
   },
   "outputs": [
    {
     "data": {
      "text/plain": [
       "Text(0, 0.5, 'Frequency')"
      ]
     },
     "execution_count": 68,
     "metadata": {},
     "output_type": "execute_result"
    },
    {
     "data": {
      "image/png": "[encoded data removed]",
      "text/plain": [
       "<Figure size 576x288 with 1 Axes>"
      ]
     },
     "metadata": {
      "needs_background": "light"
     },
     "output_type": "display_data"
    }
   ],
   "source": [
    "ax = df['st_weekday'].value_counts().sort_index().plot(kind='bar',\n",
    "                                    figsize=(8,4),\n",
    "                                    title=\"Sessions happened on different weekdays\")\n",
    "ax.set_xlabel(\"st_weekday\")\n",
    "ax.set_ylabel(\"Frequency\")"
   ]
  },
  {
   "cell_type": "markdown",
   "metadata": {},
   "source": [
    "From the plot, we know that saturday(5) and sunday(6) have slightly more sessions than other days. We may take whether or not the session happened on weekend as one of the features."
   ]
  },
  {
   "cell_type": "markdown",
   "metadata": {
    "ExecuteTime": {
     "end_time": "2019-02-18T17:01:33.355245Z",
     "start_time": "2019-02-18T17:01:33.352749Z"
    }
   },
   "source": [
    "# How many days between sign up day and \"now\" (The distribution of it)"
   ]
  },
  {
   "cell_type": "code",
   "execution_count": 83,
   "metadata": {
    "ExecuteTime": {
     "end_time": "2019-02-18T17:02:05.378757Z",
     "start_time": "2019-02-18T17:02:05.115856Z"
    }
   },
   "outputs": [
    {
     "data": {
      "image/png": "[encoded data removed]",
      "text/plain": [
       "<Figure size 432x288 with 1 Axes>"
      ]
     },
     "metadata": {
      "needs_background": "light"
     },
     "output_type": "display_data"
    }
   ],
   "source": [
    "num_bins = 20\n",
    "plt.hist(df['cr_from_now'], num_bins, normed=1, alpha=0.4, rwidth=0.9)\n",
    "plt.title(\"Distribution of days between sign up day and now\")\n",
    "plt.show()"
   ]
  },
  {
   "cell_type": "markdown",
   "metadata": {},
   "source": [
    "# convert this data to spark\n",
    "## reconstruct the data and then explore"
   ]
  },
  {
   "cell_type": "code",
   "execution_count": 12,
   "metadata": {
    "ExecuteTime": {
     "end_time": "2019-02-23T20:54:56.613073Z",
     "start_time": "2019-02-23T20:54:51.561208Z"
    }
   },
   "outputs": [],
   "source": [
    "from pyspark.sql import SparkSession\n",
    "from pyspark.sql.types import *\n",
    "from pyspark.sql import Row\n",
    "from pyspark.sql.functions import *\n",
    "from pyspark.sql import functions as f\n",
    "from pyspark.sql import Window\n",
    "from pyspark.sql.functions import UserDefinedFunction\n",
    "from pyspark.sql.types import IntegerType\n",
    "from pyspark.sql import SQLContext\n",
    "ss = SparkSession.builder.getOrCreate()"
   ]
  },
  {
   "cell_type": "code",
   "execution_count": 13,
   "metadata": {
    "ExecuteTime": {
     "end_time": "2019-02-23T20:54:59.515575Z",
     "start_time": "2019-02-23T20:54:59.507635Z"
    }
   },
   "outputs": [],
   "source": [
    "myschema= StructType([ StructField(\"previous_sessions_duration\", IntegerType(), True)\\\n",
    "                       ,StructField(\"is_user_first_session\", StringType(), True)\\\n",
    "                       ,StructField(\"is_developer\", StringType(), True)\\\n",
    "                       ,StructField(\"is_session\", StringType(), True)\\\n",
    "                       ,StructField(\"region\", StringType(), True)\\\n",
    "                       ,StructField(\"session_index\", IntegerType(), True)\\\n",
    "                       ,StructField(\"user_id_hash\", StringType(), True)\\\n",
    "                       ,StructField(\"st_weekday\", IntegerType(), True)\\\n",
    "                       ,StructField(\"st_month\", IntegerType(), True)\\\n",
    "                       ,StructField(\"st_day\", IntegerType(), True)\\\n",
    "                       ,StructField(\"cr_from_now\", IntegerType(), True)])"
   ]
  },
  {
   "cell_type": "code",
   "execution_count": 20,
   "metadata": {
    "ExecuteTime": {
     "end_time": "2019-02-23T21:06:01.786815Z",
     "start_time": "2019-02-23T21:06:01.767299Z"
    }
   },
   "outputs": [],
   "source": [
    "path = '/Users/Reagan/Dropbox/SF_DS/COURSE/5.630_advanced_ml/final project/session_step1_full5.csv'\n",
    "spark_df = ss.read.csv(path,schema=myschema,header = True)"
   ]
  },
  {
   "cell_type": "code",
   "execution_count": 21,
   "metadata": {
    "ExecuteTime": {
     "end_time": "2019-02-23T21:06:49.401929Z",
     "start_time": "2019-02-23T21:06:02.211796Z"
    }
   },
   "outputs": [],
   "source": [
    "# convert user_id_hash to integers\n",
    "userid = pd.read_csv('/Users/Reagan/Downloads/user_dict.csv', header=None)\n",
    "userid_dict = {row[1][0]:row[1][1] for row in userid.iterrows()}\n",
    "fn = UserDefinedFunction(lambda x: userid_dict[x], IntegerType())\n",
    "spark_df = spark_df.withColumn('id_', fn(spark_df.user_id_hash)).drop('user_id_hash')\n",
    "# convert T/F to 1/0 for \"is_user_first_session\" and \"is_developer\"\n",
    "TF_dict ={\"True\":1, \"False\":0}\n",
    "fn3 = UserDefinedFunction(lambda x: TF_dict[x], IntegerType())\n",
    "spark_df = spark_df.withColumn('is_user_first_session2', fn3(spark_df.is_user_first_session)).drop('is_user_first_session')\n",
    "spark_df = spark_df.withColumn('is_developer2', fn3(spark_df.is_developer)).drop('is_developer')\n",
    "spark_df = spark_df.withColumn('is_session2', fn3(spark_df.is_session)).drop('is_session')\n",
    "\n",
    "# agg 1 \n",
    "cr = spark_df.groupBy('id_').agg(avg(\"cr_from_now\").alias(\"cr_from_now\")).cache()  \n",
    "# agg 2\n",
    "developer = spark_df.groupBy('id_').agg(max(\"is_developer2\").alias(\"is_developer3\")).cache()  #becuz of an annoying user\n",
    "# agg 3\n",
    "cnts = spark_df.groupBy(['id_','region']).agg(count(\"id_\").alias('count')).cache()\n",
    "w = Window.partitionBy('id_')\n",
    "region = cnts.withColumn('max_count', f.max('count').over(w)).where(f.col('count') == f.col('max_count')).cache() # we have some id that its region has multiple mode.\n",
    "region = region.dropDuplicates(subset = ['id_']).select('id_','region')\n",
    "# agg 4\n",
    "last2week_ss_duration = spark_df.filter(spark_df.st_month==12).filter(spark_df.st_day < 15).groupBy('id_').agg(sum(\"previous_sessions_duration\").alias(\"last2week_ss_duration\")).cache()\n",
    "# agg 5\n",
    "total = spark_df.groupBy('id_').agg(count(\"id_\").alias(\"total_count\")).cache()\n",
    "# agg 6\n",
    "last2week = spark_df.filter(spark_df.st_month==12).filter(spark_df.st_day < 15).groupBy('id_').agg(count(\"id_\").alias(\"last2week_count\")).cache()\n",
    "# agg 7\n",
    "last5day = spark_df.filter(spark_df.st_month==12).filter(spark_df.st_day > 10).filter(spark_df.st_day < 15).groupBy('id_').agg(count(\"id_\").alias(\"last5day_count\")).cache()\n",
    "# agg 8 \n",
    "weekend = spark_df.filter((spark_df.st_weekday==5) | (spark_df.st_weekday==6)).groupBy('id_').agg(count(\"id_\").alias(\"weekend_count\")).cache()\n",
    "# agg 9\n",
    "weekday = spark_df.filter((spark_df.st_weekday==0) | (spark_df.st_weekday==1) | (spark_df.st_weekday==2)| (spark_df.st_weekday==3) | (spark_df.st_weekday==4)).groupBy('id_').agg(count(\"id_\").alias(\"weekday_count\")).cache()\n",
    "\n",
    "# make the table by joining these agg results together\n",
    "join0 = cr.join(region, on='id_', how='left')\n",
    "join1 = join0.join(last2week_ss_duration, on='id_', how='left') \n",
    "join2 = join1.join(total, on='id_', how='left') \n",
    "join3 = join2.join(last2week, on='id_', how='left') \n",
    "join4 = join3.join(last5day, on='id_', how='left') \n",
    "join5 = join4.join(weekend, on='id_', how='left')\n",
    "ss_features = join5.join(weekday, on='id_', how='left').cache()\n"
   ]
  },
  {
   "cell_type": "code",
   "execution_count": 25,
   "metadata": {
    "ExecuteTime": {
     "end_time": "2019-02-23T21:10:57.535809Z",
     "start_time": "2019-02-23T21:10:57.398349Z"
    }
   },
   "outputs": [
    {
     "name": "stdout",
     "output_type": "stream",
     "text": [
      "+---+-----------+------+---------------------+-----------+---------------+--------------+-------------+-------------+\n",
      "|id_|cr_from_now|region|last2week_ss_duration|total_count|last2week_count|last5day_count|weekend_count|weekday_count|\n",
      "+---+-----------+------+---------------------+-----------+---------------+--------------+-------------+-------------+\n",
      "|148|       43.0|    is|                 null|          6|           null|          null|            3|            3|\n",
      "|463|       56.0|    il|                 null|          1|           null|          null|         null|            1|\n",
      "|471|       56.0|    fy|                 null|          4|           null|          null|            3|            1|\n",
      "+---+-----------+------+---------------------+-----------+---------------+--------------+-------------+-------------+\n",
      "only showing top 3 rows\n",
      "\n"
     ]
    }
   ],
   "source": [
    "ss_features.show(3)"
   ]
  },
  {
   "cell_type": "markdown",
   "metadata": {},
   "source": [
    "# Convert back to Pandas and do EDA"
   ]
  },
  {
   "cell_type": "code",
   "execution_count": 26,
   "metadata": {
    "ExecuteTime": {
     "end_time": "2019-02-23T21:14:59.071603Z",
     "start_time": "2019-02-23T21:14:45.809737Z"
    }
   },
   "outputs": [],
   "source": [
    "sf = ss_features.toPandas()"
   ]
  },
  {
   "cell_type": "code",
   "execution_count": 29,
   "metadata": {
    "ExecuteTime": {
     "end_time": "2019-02-23T21:16:38.015233Z",
     "start_time": "2019-02-23T21:16:38.012630Z"
    }
   },
   "outputs": [],
   "source": [
    "# sf.to_csv('groupby_user_withSpark_then_EDA.csv', encoding='utf-8', index=False)"
   ]
  },
  {
   "cell_type": "code",
   "execution_count": 31,
   "metadata": {
    "ExecuteTime": {
     "end_time": "2019-02-23T21:18:26.558892Z",
     "start_time": "2019-02-23T21:18:26.535524Z"
    }
   },
   "outputs": [],
   "source": [
    "sf['last2week_ss_duration'].fillna(0, inplace=True)\n",
    "sf['total_count'].fillna(0, inplace=True)\n",
    "sf['last2week_count'].fillna(0, inplace=True)\n",
    "sf['last5day_count'].fillna(0, inplace=True)\n",
    "sf['weekend_count'].fillna(0, inplace=True)\n",
    "sf['weekday_count'].fillna(0, inplace=True)"
   ]
  },
  {
   "cell_type": "code",
   "execution_count": 46,
   "metadata": {
    "ExecuteTime": {
     "end_time": "2019-02-23T21:28:32.357538Z",
     "start_time": "2019-02-23T21:28:32.224534Z"
    }
   },
   "outputs": [],
   "source": [
    "labels7 = pd.read_csv('labels7.csv')"
   ]
  },
  {
   "cell_type": "code",
   "execution_count": 49,
   "metadata": {
    "ExecuteTime": {
     "end_time": "2019-02-23T21:28:53.750463Z",
     "start_time": "2019-02-23T21:28:53.741641Z"
    }
   },
   "outputs": [],
   "source": [
    "labels7['id_']=labels7['user_id']\n",
    "labels7 = labels7.drop(['user_id'], axis=1)"
   ]
  },
  {
   "cell_type": "code",
   "execution_count": 53,
   "metadata": {
    "ExecuteTime": {
     "end_time": "2019-02-23T21:30:48.009754Z",
     "start_time": "2019-02-23T21:30:47.995556Z"
    }
   },
   "outputs": [
    {
     "data": {
      "text/html": [
       "<div>\n",
       "<style scoped>\n",
       "    .dataframe tbody tr th:only-of-type {\n",
       "        vertical-align: middle;\n",
       "    }\n",
       "\n",
       "    .dataframe tbody tr th {\n",
       "        vertical-align: top;\n",
       "    }\n",
       "\n",
       "    .dataframe thead th {\n",
       "        text-align: right;\n",
       "    }\n",
       "</style>\n",
       "<table border=\"1\" class=\"dataframe\">\n",
       "  <thead>\n",
       "    <tr style=\"text-align: right;\">\n",
       "      <th></th>\n",
       "      <th>id_</th>\n",
       "      <th>cr_from_now</th>\n",
       "      <th>region</th>\n",
       "      <th>last2week_ss_duration</th>\n",
       "      <th>total_count</th>\n",
       "      <th>last2week_count</th>\n",
       "      <th>last5day_count</th>\n",
       "      <th>weekend_count</th>\n",
       "      <th>weekday_count</th>\n",
       "    </tr>\n",
       "  </thead>\n",
       "  <tbody>\n",
       "    <tr>\n",
       "      <th>0</th>\n",
       "      <td>148</td>\n",
       "      <td>43.0</td>\n",
       "      <td>is</td>\n",
       "      <td>0.0</td>\n",
       "      <td>6</td>\n",
       "      <td>0.0</td>\n",
       "      <td>0.0</td>\n",
       "      <td>3.0</td>\n",
       "      <td>3.0</td>\n",
       "    </tr>\n",
       "    <tr>\n",
       "      <th>1</th>\n",
       "      <td>463</td>\n",
       "      <td>56.0</td>\n",
       "      <td>il</td>\n",
       "      <td>0.0</td>\n",
       "      <td>1</td>\n",
       "      <td>0.0</td>\n",
       "      <td>0.0</td>\n",
       "      <td>0.0</td>\n",
       "      <td>1.0</td>\n",
       "    </tr>\n",
       "  </tbody>\n",
       "</table>\n",
       "</div>"
      ],
      "text/plain": [
       "   id_  cr_from_now region  last2week_ss_duration  total_count  \\\n",
       "0  148         43.0     is                    0.0            6   \n",
       "1  463         56.0     il                    0.0            1   \n",
       "\n",
       "   last2week_count  last5day_count  weekend_count  weekday_count  \n",
       "0              0.0             0.0            3.0            3.0  \n",
       "1              0.0             0.0            0.0            1.0  "
      ]
     },
     "execution_count": 53,
     "metadata": {},
     "output_type": "execute_result"
    }
   ],
   "source": [
    "sf.head(2)"
   ]
  },
  {
   "cell_type": "code",
   "execution_count": 54,
   "metadata": {
    "ExecuteTime": {
     "end_time": "2019-02-23T21:30:48.185412Z",
     "start_time": "2019-02-23T21:30:48.177225Z"
    }
   },
   "outputs": [
    {
     "data": {
      "text/html": [
       "<div>\n",
       "<style scoped>\n",
       "    .dataframe tbody tr th:only-of-type {\n",
       "        vertical-align: middle;\n",
       "    }\n",
       "\n",
       "    .dataframe tbody tr th {\n",
       "        vertical-align: top;\n",
       "    }\n",
       "\n",
       "    .dataframe thead th {\n",
       "        text-align: right;\n",
       "    }\n",
       "</style>\n",
       "<table border=\"1\" class=\"dataframe\">\n",
       "  <thead>\n",
       "    <tr style=\"text-align: right;\">\n",
       "      <th></th>\n",
       "      <th>label</th>\n",
       "      <th>id_</th>\n",
       "    </tr>\n",
       "  </thead>\n",
       "  <tbody>\n",
       "    <tr>\n",
       "      <th>0</th>\n",
       "      <td>0</td>\n",
       "      <td>0</td>\n",
       "    </tr>\n",
       "    <tr>\n",
       "      <th>1</th>\n",
       "      <td>0</td>\n",
       "      <td>1</td>\n",
       "    </tr>\n",
       "  </tbody>\n",
       "</table>\n",
       "</div>"
      ],
      "text/plain": [
       "   label  id_\n",
       "0      0    0\n",
       "1      0    1"
      ]
     },
     "execution_count": 54,
     "metadata": {},
     "output_type": "execute_result"
    }
   ],
   "source": [
    "labels7.head(2)"
   ]
  },
  {
   "cell_type": "code",
   "execution_count": 56,
   "metadata": {
    "ExecuteTime": {
     "end_time": "2019-02-23T21:31:02.637167Z",
     "start_time": "2019-02-23T21:31:02.383464Z"
    }
   },
   "outputs": [
    {
     "data": {
      "text/html": [
       "<div>\n",
       "<style scoped>\n",
       "    .dataframe tbody tr th:only-of-type {\n",
       "        vertical-align: middle;\n",
       "    }\n",
       "\n",
       "    .dataframe tbody tr th {\n",
       "        vertical-align: top;\n",
       "    }\n",
       "\n",
       "    .dataframe thead th {\n",
       "        text-align: right;\n",
       "    }\n",
       "</style>\n",
       "<table border=\"1\" class=\"dataframe\">\n",
       "  <thead>\n",
       "    <tr style=\"text-align: right;\">\n",
       "      <th></th>\n",
       "      <th>id_</th>\n",
       "      <th>cr_from_now</th>\n",
       "      <th>region</th>\n",
       "      <th>last2week_ss_duration</th>\n",
       "      <th>total_count</th>\n",
       "      <th>last2week_count</th>\n",
       "      <th>last5day_count</th>\n",
       "      <th>weekend_count</th>\n",
       "      <th>weekday_count</th>\n",
       "      <th>label</th>\n",
       "    </tr>\n",
       "  </thead>\n",
       "  <tbody>\n",
       "    <tr>\n",
       "      <th>0</th>\n",
       "      <td>148</td>\n",
       "      <td>43.0</td>\n",
       "      <td>is</td>\n",
       "      <td>0.0</td>\n",
       "      <td>6</td>\n",
       "      <td>0.0</td>\n",
       "      <td>0.0</td>\n",
       "      <td>3.0</td>\n",
       "      <td>3.0</td>\n",
       "      <td>0</td>\n",
       "    </tr>\n",
       "    <tr>\n",
       "      <th>1</th>\n",
       "      <td>463</td>\n",
       "      <td>56.0</td>\n",
       "      <td>il</td>\n",
       "      <td>0.0</td>\n",
       "      <td>1</td>\n",
       "      <td>0.0</td>\n",
       "      <td>0.0</td>\n",
       "      <td>0.0</td>\n",
       "      <td>1.0</td>\n",
       "      <td>0</td>\n",
       "    </tr>\n",
       "  </tbody>\n",
       "</table>\n",
       "</div>"
      ],
      "text/plain": [
       "   id_  cr_from_now region  last2week_ss_duration  total_count  \\\n",
       "0  148         43.0     is                    0.0            6   \n",
       "1  463         56.0     il                    0.0            1   \n",
       "\n",
       "   last2week_count  last5day_count  weekend_count  weekday_count  label  \n",
       "0              0.0             0.0            3.0            3.0      0  \n",
       "1              0.0             0.0            0.0            1.0      0  "
      ]
     },
     "execution_count": 56,
     "metadata": {},
     "output_type": "execute_result"
    }
   ],
   "source": [
    "eda = pd.merge(sf, labels7, on='id_')\n",
    "eda.head(2)"
   ]
  },
  {
   "cell_type": "code",
   "execution_count": 184,
   "metadata": {
    "ExecuteTime": {
     "end_time": "2019-02-23T22:46:37.906200Z",
     "start_time": "2019-02-23T22:46:37.345666Z"
    }
   },
   "outputs": [
    {
     "data": {
      "image/png": "[encoded data removed]",
      "text/plain": [
       "<Figure size 720x288 with 2 Axes>"
      ]
     },
     "metadata": {
      "needs_background": "light"
     },
     "output_type": "display_data"
    }
   ],
   "source": [
    "fig, axes = plt.subplots(nrows=1, ncols=2,figsize=(10,4),sharex=True, sharey=True)\n",
    "ax1, ax2 = axes.flatten()\n",
    "ax1.hist(eda[eda['label']==0]['cr_from_now'], num_bins, normed=1, alpha=0.5, rwidth=0.9, color='red',label='user who purchased')\n",
    "ax2.hist(eda[eda['label']==1]['cr_from_now'], num_bins, normed=1, alpha=0.5, rwidth=0.9, color='blue',label='user who did not purchase')\n",
    "ax1.legend(loc=\"upper right\")\n",
    "ax2.legend(loc=\"upper right\")\n",
    "ax1.set_title('How long has the user signed up')\n",
    "ax2.set_title('How long has the user signed up')\n",
    "ax1.set_xlabel('Days')\n",
    "ax2.set_xlabel('Days')\n",
    "ax1.set_ylabel('Density')\n",
    "txt = None"
   ]
  },
  {
   "cell_type": "code",
   "execution_count": 185,
   "metadata": {
    "ExecuteTime": {
     "end_time": "2019-02-23T22:46:58.712857Z",
     "start_time": "2019-02-23T22:46:58.205698Z"
    }
   },
   "outputs": [
    {
     "data": {
      "image/png": "[encoded data removed]",
      "text/plain": [
       "<Figure size 720x288 with 2 Axes>"
      ]
     },
     "metadata": {
      "needs_background": "light"
     },
     "output_type": "display_data"
    }
   ],
   "source": [
    "num_bins = 50\n",
    "fig, axes = plt.subplots(nrows=1, ncols=2,figsize=(10,4),sharex=True, sharey=True)\n",
    "ax1, ax2 = axes.flatten()\n",
    "ax1.hist(eda[eda['label']==0]['last2week_ss_duration'], num_bins, normed=1, alpha=0.5, rwidth=0.9, color='red',label='user who purchased')\n",
    "ax2.hist(eda[eda['label']==1]['last2week_ss_duration'], num_bins, normed=1, alpha=0.5, rwidth=0.9, color='blue',label='user who did not purchase')\n",
    "ax1.legend(loc=\"upper right\")\n",
    "ax2.legend(loc=\"upper right\")\n",
    "ax1.set_title('Time spent on the app in past two weeks')\n",
    "ax2.set_title('Time spent on the app in past two weeks')\n",
    "ax1.set_xlabel('Session Duration')\n",
    "ax2.set_xlabel('Session Duration')\n",
    "ax1.set_ylabel('Density')\n",
    "# ax1.set_xlim([0, 2])\n",
    "# ax2.set_xlim([0, 2])\n",
    "txt = None"
   ]
  },
  {
   "cell_type": "code",
   "execution_count": 188,
   "metadata": {
    "ExecuteTime": {
     "end_time": "2019-02-23T22:47:52.831825Z",
     "start_time": "2019-02-23T22:47:52.381605Z"
    }
   },
   "outputs": [
    {
     "data": {
      "image/png": "[encoded data removed]",
      "text/plain": [
       "<Figure size 720x288 with 2 Axes>"
      ]
     },
     "metadata": {
      "needs_background": "light"
     },
     "output_type": "display_data"
    }
   ],
   "source": [
    "num_bins = 20\n",
    "fig, axes = plt.subplots(nrows=1, ncols=2,figsize=(10,4),sharex=True, sharey=True)\n",
    "ax1, ax2 = axes.flatten()\n",
    "ax1.hist(eda[eda['label']==0]['last5day_count'], num_bins, normed=1, alpha=0.5, rwidth=0.9, color='red',label='user who did not purchase')\n",
    "ax2.hist(eda[eda['label']==1]['last5day_count'], num_bins, normed=1, alpha=0.5, rwidth=0.9, color='blue',label='user who purchased')\n",
    "ax1.legend(loc=\"upper right\")\n",
    "ax2.legend(loc=\"upper right\")\n",
    "ax1.set_title('Count of session in last 5 days')\n",
    "ax2.set_title('Count of session in last 5 days')\n",
    "ax1.set_xlabel('Counts')\n",
    "ax2.set_xlabel('Counts')\n",
    "ax1.set_ylabel('Density')\n",
    "ax1.set_xlim([0, 80])\n",
    "ax2.set_xlim([0, 80])\n",
    "txt = None"
   ]
  },
  {
   "cell_type": "code",
   "execution_count": 190,
   "metadata": {
    "ExecuteTime": {
     "end_time": "2019-02-23T22:48:28.323033Z",
     "start_time": "2019-02-23T22:48:27.846867Z"
    }
   },
   "outputs": [
    {
     "data": {
      "image/png": "[encoded data removed]",
      "text/plain": [
       "<Figure size 720x288 with 2 Axes>"
      ]
     },
     "metadata": {
      "needs_background": "light"
     },
     "output_type": "display_data"
    }
   ],
   "source": [
    "\n",
    "num_bins = 20\n",
    "fig, axes = plt.subplots(nrows=1, ncols=2,figsize=(10,4),sharex=True, sharey=True)\n",
    "ax1, ax2 = axes.flatten()\n",
    "ax1.hist(eda[eda['label']==0]['last2week_count'], num_bins, normed=1, alpha=0.5, rwidth=0.9, color='red',label='user who did not purchase')\n",
    "ax2.hist(eda[eda['label']==1]['last2week_count'], num_bins, normed=1, alpha=0.5, rwidth=0.9, color='blue',label='user who purchased')\n",
    "ax1.legend(loc=\"upper right\")\n",
    "ax2.legend(loc=\"upper right\")\n",
    "ax1.set_title('Count of session in last two weeks')\n",
    "ax2.set_title('Count of session in last two weeks')\n",
    "ax1.set_xlabel('Counts')\n",
    "ax2.set_xlabel('Counts')\n",
    "ax1.set_ylabel('Density')\n",
    "ax1.set_xlim([0, 250])\n",
    "ax2.set_xlim([0, 250])\n",
    "txt = None"
   ]
  },
  {
   "cell_type": "code",
   "execution_count": 191,
   "metadata": {
    "ExecuteTime": {
     "end_time": "2019-02-23T22:49:17.489368Z",
     "start_time": "2019-02-23T22:49:16.819910Z"
    }
   },
   "outputs": [
    {
     "data": {
      "image/png": "[encoded data removed]",
      "text/plain": [
       "<Figure size 720x288 with 2 Axes>"
      ]
     },
     "metadata": {
      "needs_background": "light"
     },
     "output_type": "display_data"
    }
   ],
   "source": [
    "num_bins = 20\n",
    "fig, axes = plt.subplots(nrows=1, ncols=2,figsize=(10,4),sharex=True, sharey=True)\n",
    "ax1, ax2 = axes.flatten()\n",
    "ax1.hist(eda[eda['label']==0]['weekend_count'], num_bins, normed=1, alpha=0.5, rwidth=0.9, color='red',label='user who did not purchase')\n",
    "ax2.hist(eda[eda['label']==1]['weekend_count'], num_bins, normed=1, alpha=0.5, rwidth=0.9, color='blue',label='user who purchased')\n",
    "ax1.legend(loc=\"upper right\")\n",
    "ax2.legend(loc=\"upper right\")\n",
    "ax1.set_title('Counts of sessions happened in weekend')\n",
    "ax2.set_title('Counts of sessions happened in weekend')\n",
    "ax1.set_xlabel('Counts')\n",
    "ax2.set_xlabel('Counts')\n",
    "ax1.set_ylabel('Density')\n",
    "ax1.set_xlim([0, 400])\n",
    "ax2.set_xlim([0, 400])\n",
    "txt = None"
   ]
  },
  {
   "cell_type": "code",
   "execution_count": 193,
   "metadata": {
    "ExecuteTime": {
     "end_time": "2019-02-23T22:49:43.670507Z",
     "start_time": "2019-02-23T22:49:43.211367Z"
    }
   },
   "outputs": [
    {
     "data": {
      "image/png": "[encoded data removed]",
      "text/plain": [
       "<Figure size 720x288 with 2 Axes>"
      ]
     },
     "metadata": {
      "needs_background": "light"
     },
     "output_type": "display_data"
    }
   ],
   "source": [
    "num_bins = 30\n",
    "fig, axes = plt.subplots(nrows=1, ncols=2,figsize=(10,4),sharex=True, sharey=True)\n",
    "ax1, ax2 = axes.flatten()\n",
    "ax1.hist(eda[eda['label']==0]['weekday_count'], num_bins, normed=1, alpha=0.5, rwidth=0.9, color='red',label='user who did not purchase')\n",
    "ax2.hist(eda[eda['label']==1]['weekday_count'], num_bins, normed=1, alpha=0.5, rwidth=0.9, color='blue',label='user who purchased')\n",
    "ax1.legend(loc=\"upper right\")\n",
    "ax2.legend(loc=\"upper right\")\n",
    "ax1.set_title('Counts of sessions happened in weekday')\n",
    "ax2.set_title('Counts of sessions happened in weekday')\n",
    "ax1.set_xlabel('Counts')\n",
    "ax2.set_xlabel('Counts')\n",
    "ax1.set_ylabel('Density')\n",
    "ax1.set_xlim([0, 500])\n",
    "ax2.set_xlim([0, 500])\n",
    "txt = None"
   ]
  },
  {
   "cell_type": "code",
   "execution_count": null,
   "metadata": {},
   "outputs": [],
   "source": []
  }
 ],
 "metadata": {
  "kernelspec": {
   "display_name": "Python 3",
   "language": "python",
   "name": "python3"
  },
  "language_info": {
   "codemirror_mode": {
    "name": "ipython",
    "version": 3
   },
   "file_extension": ".py",
   "mimetype": "text/x-python",
   "name": "python",
   "nbconvert_exporter": "python",
   "pygments_lexer": "ipython3",
   "version": "3.6.8"
  }
 },
 "nbformat": 4,
 "nbformat_minor": 2
}
